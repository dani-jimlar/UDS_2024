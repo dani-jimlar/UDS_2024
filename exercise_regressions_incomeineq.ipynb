{
 "cells": [
  {
   "cell_type": "markdown",
   "metadata": {},
   "source": [
    "<span style=\"color: #9370DB\">*Daniela Jiménez*</span>\n",
    "\n",
    "<span style=\"color: #9370DB\">*Bárbara Flores*</span>"
   ]
  },
  {
   "attachments": {},
   "cell_type": "markdown",
   "metadata": {},
   "source": [
    "# Estimating Gender Discrimination in the Workplace\n",
    "\n",
    "In this exercise we'll use data from the 2018 US Current Population Survey (CPS) to try and estimate the effect of being a woman on workplace compensation. \n",
    "\n",
    "Note that our focus will be *only* on differential compensation in the work place, and as a result it is important to bear in mind that our estimates are not estimates of *all* forms of gender discrimination. For example, these analyses will not account for things like gender discrimination in terms of *getting* jobs. We'll discuss this in more detail below."
   ]
  },
  {
   "cell_type": "markdown",
   "metadata": {},
   "source": [
    "## Exercise 1: \n",
    "\n",
    "Begin by downloading and importing 2018 CPS data from [https://github.com/nickeubank/MIDS_Data/tree/master/Current_Population_Survey](https://github.com/nickeubank/MIDS_Data/tree/master/Current_Population_Survey). The file is called `morg18.dta` and is a Stata dataset. Additional data on the dataset can be found by following the links in the README.txt file in the folder, but for the moment it is sufficient to know this is a national survey run in the United States.\n",
    "\n",
    "The survey does include some survey weights we won't be using (i.e. not everyone in the sample was included with the same probability), so the numbers we estimate will not be perfect estimates of the gender wage gap in the United States, but they are pretty close."
   ]
  },
  {
   "cell_type": "code",
   "execution_count": 38,
   "metadata": {},
   "outputs": [
    {
     "data": {
      "text/html": [
       "<div>\n",
       "<style scoped>\n",
       "    .dataframe tbody tr th:only-of-type {\n",
       "        vertical-align: middle;\n",
       "    }\n",
       "\n",
       "    .dataframe tbody tr th {\n",
       "        vertical-align: top;\n",
       "    }\n",
       "\n",
       "    .dataframe thead th {\n",
       "        text-align: right;\n",
       "    }\n",
       "</style>\n",
       "<table border=\"1\" class=\"dataframe\">\n",
       "  <thead>\n",
       "    <tr style=\"text-align: right;\">\n",
       "      <th></th>\n",
       "      <th>hhid</th>\n",
       "      <th>intmonth</th>\n",
       "      <th>hurespli</th>\n",
       "      <th>hrhtype</th>\n",
       "      <th>minsamp</th>\n",
       "      <th>hrlonglk</th>\n",
       "      <th>hrsample</th>\n",
       "      <th>hrhhid2</th>\n",
       "      <th>serial</th>\n",
       "      <th>hhnum</th>\n",
       "      <th>...</th>\n",
       "      <th>ym_file</th>\n",
       "      <th>ym</th>\n",
       "      <th>ch02</th>\n",
       "      <th>ch35</th>\n",
       "      <th>ch613</th>\n",
       "      <th>ch1417</th>\n",
       "      <th>ch05</th>\n",
       "      <th>ihigrdc</th>\n",
       "      <th>docc00</th>\n",
       "      <th>dind02</th>\n",
       "    </tr>\n",
       "  </thead>\n",
       "  <tbody>\n",
       "    <tr>\n",
       "      <th>0</th>\n",
       "      <td>000004795110719</td>\n",
       "      <td>January</td>\n",
       "      <td>1.0</td>\n",
       "      <td>Husband/wife primary fam (neither in Armed For...</td>\n",
       "      <td>MIS 8</td>\n",
       "      <td>MIS 2-4 Or MIS 6-8 (link To</td>\n",
       "      <td>0601</td>\n",
       "      <td>06011</td>\n",
       "      <td>1</td>\n",
       "      <td>1</td>\n",
       "      <td>...</td>\n",
       "      <td>696</td>\n",
       "      <td>681</td>\n",
       "      <td>0</td>\n",
       "      <td>0</td>\n",
       "      <td>0</td>\n",
       "      <td>0</td>\n",
       "      <td>0</td>\n",
       "      <td>14.0</td>\n",
       "      <td>NaN</td>\n",
       "      <td>NaN</td>\n",
       "    </tr>\n",
       "    <tr>\n",
       "      <th>1</th>\n",
       "      <td>000004795110719</td>\n",
       "      <td>January</td>\n",
       "      <td>1.0</td>\n",
       "      <td>Husband/wife primary fam (neither in Armed For...</td>\n",
       "      <td>MIS 8</td>\n",
       "      <td>MIS 2-4 Or MIS 6-8 (link To</td>\n",
       "      <td>0601</td>\n",
       "      <td>06011</td>\n",
       "      <td>1</td>\n",
       "      <td>1</td>\n",
       "      <td>...</td>\n",
       "      <td>696</td>\n",
       "      <td>681</td>\n",
       "      <td>0</td>\n",
       "      <td>0</td>\n",
       "      <td>0</td>\n",
       "      <td>0</td>\n",
       "      <td>0</td>\n",
       "      <td>13.0</td>\n",
       "      <td>NaN</td>\n",
       "      <td>NaN</td>\n",
       "    </tr>\n",
       "    <tr>\n",
       "      <th>2</th>\n",
       "      <td>000110339935453</td>\n",
       "      <td>January</td>\n",
       "      <td>1.0</td>\n",
       "      <td>Unmarried civilian female primary fam householder</td>\n",
       "      <td>MIS 4</td>\n",
       "      <td>MIS 2-4 Or MIS 6-8 (link To</td>\n",
       "      <td>0701</td>\n",
       "      <td>07011</td>\n",
       "      <td>1</td>\n",
       "      <td>1</td>\n",
       "      <td>...</td>\n",
       "      <td>696</td>\n",
       "      <td>693</td>\n",
       "      <td>0</td>\n",
       "      <td>0</td>\n",
       "      <td>0</td>\n",
       "      <td>1</td>\n",
       "      <td>0</td>\n",
       "      <td>12.0</td>\n",
       "      <td>Office and administrative support occupations</td>\n",
       "      <td>Health care services , except hospitals</td>\n",
       "    </tr>\n",
       "    <tr>\n",
       "      <th>3</th>\n",
       "      <td>000110339935453</td>\n",
       "      <td>January</td>\n",
       "      <td>1.0</td>\n",
       "      <td>Unmarried civilian female primary fam householder</td>\n",
       "      <td>MIS 4</td>\n",
       "      <td>MIS 2-4 Or MIS 6-8 (link To</td>\n",
       "      <td>0701</td>\n",
       "      <td>07011</td>\n",
       "      <td>1</td>\n",
       "      <td>1</td>\n",
       "      <td>...</td>\n",
       "      <td>696</td>\n",
       "      <td>693</td>\n",
       "      <td>0</td>\n",
       "      <td>0</td>\n",
       "      <td>0</td>\n",
       "      <td>0</td>\n",
       "      <td>0</td>\n",
       "      <td>12.0</td>\n",
       "      <td>Office and administrative support occupations</td>\n",
       "      <td>Administrative and support services</td>\n",
       "    </tr>\n",
       "    <tr>\n",
       "      <th>4</th>\n",
       "      <td>000110359424339</td>\n",
       "      <td>January</td>\n",
       "      <td>1.0</td>\n",
       "      <td>Unmarried civilian female primary fam householder</td>\n",
       "      <td>MIS 4</td>\n",
       "      <td>MIS 2-4 Or MIS 6-8 (link To</td>\n",
       "      <td>0711</td>\n",
       "      <td>07111</td>\n",
       "      <td>1</td>\n",
       "      <td>1</td>\n",
       "      <td>...</td>\n",
       "      <td>696</td>\n",
       "      <td>693</td>\n",
       "      <td>0</td>\n",
       "      <td>0</td>\n",
       "      <td>0</td>\n",
       "      <td>0</td>\n",
       "      <td>0</td>\n",
       "      <td>NaN</td>\n",
       "      <td>Healthcare practitioner and technical occupations</td>\n",
       "      <td>Hospitals</td>\n",
       "    </tr>\n",
       "  </tbody>\n",
       "</table>\n",
       "<p>5 rows × 98 columns</p>\n",
       "</div>"
      ],
      "text/plain": [
       "              hhid intmonth  hurespli  \\\n",
       "0  000004795110719  January       1.0   \n",
       "1  000004795110719  January       1.0   \n",
       "2  000110339935453  January       1.0   \n",
       "3  000110339935453  January       1.0   \n",
       "4  000110359424339  January       1.0   \n",
       "\n",
       "                                             hrhtype minsamp  \\\n",
       "0  Husband/wife primary fam (neither in Armed For...   MIS 8   \n",
       "1  Husband/wife primary fam (neither in Armed For...   MIS 8   \n",
       "2  Unmarried civilian female primary fam householder   MIS 4   \n",
       "3  Unmarried civilian female primary fam householder   MIS 4   \n",
       "4  Unmarried civilian female primary fam householder   MIS 4   \n",
       "\n",
       "                      hrlonglk hrsample hrhhid2 serial  hhnum  ... ym_file  \\\n",
       "0  MIS 2-4 Or MIS 6-8 (link To     0601   06011      1      1  ...     696   \n",
       "1  MIS 2-4 Or MIS 6-8 (link To     0601   06011      1      1  ...     696   \n",
       "2  MIS 2-4 Or MIS 6-8 (link To     0701   07011      1      1  ...     696   \n",
       "3  MIS 2-4 Or MIS 6-8 (link To     0701   07011      1      1  ...     696   \n",
       "4  MIS 2-4 Or MIS 6-8 (link To     0711   07111      1      1  ...     696   \n",
       "\n",
       "    ym  ch02  ch35  ch613  ch1417  ch05  ihigrdc  \\\n",
       "0  681     0     0      0       0     0     14.0   \n",
       "1  681     0     0      0       0     0     13.0   \n",
       "2  693     0     0      0       1     0     12.0   \n",
       "3  693     0     0      0       0     0     12.0   \n",
       "4  693     0     0      0       0     0      NaN   \n",
       "\n",
       "                                              docc00  \\\n",
       "0                                                NaN   \n",
       "1                                                NaN   \n",
       "2      Office and administrative support occupations   \n",
       "3      Office and administrative support occupations   \n",
       "4  Healthcare practitioner and technical occupations   \n",
       "\n",
       "                                    dind02  \n",
       "0                                      NaN  \n",
       "1                                      NaN  \n",
       "2  Health care services , except hospitals  \n",
       "3      Administrative and support services  \n",
       "4                                Hospitals  \n",
       "\n",
       "[5 rows x 98 columns]"
      ]
     },
     "execution_count": 38,
     "metadata": {},
     "output_type": "execute_result"
    }
   ],
   "source": [
    "import pandas as pd\n",
    "import statsmodels.formula.api as smf\n",
    "\n",
    "path = \"https://github.com/nickeubank/MIDS_Data/raw/master/Current_Population_Survey/morg18.dta\"\n",
    "morg18 = pd.read_stata(path)\n",
    "morg18.head()"
   ]
  },
  {
   "attachments": {},
   "cell_type": "markdown",
   "metadata": {},
   "source": [
    "## Exercise 2:\n",
    "\n",
    "Because our interest is only in-the-workplace wage discrimination among full-time workers, we need to start by subsetting our data for people currently employed (and \"at work\", not \"absent\") at the time of this survey using the `lfsr94` variable, who are employed full time (meaning that their usual hours per week—`uhourse`—is 35 or above).\n",
    "\n",
    "As noted above, this analysis will miss many forms of gender discrimination. For example, in dropping anyone who isn't working, we immediately lose any women who couldn't get jobs, or who chose to lose the workforce because the wages they were offered (which were likely lower than those offered men) were lower than they were willing / could accept. And in focusing on full time employees, we miss the fact women may not be offered full time jobs at the same rate as men. "
   ]
  },
  {
   "cell_type": "code",
   "execution_count": 39,
   "metadata": {},
   "outputs": [],
   "source": [
    "morg18 = morg18[morg18[\"lfsr94\"] == \"Employed-At Work\"]\n",
    "morg18 = morg18[morg18[\"uhourse\"] >= 35]"
   ]
  },
  {
   "attachments": {},
   "cell_type": "markdown",
   "metadata": {},
   "source": [
    "## Exercise 3\n",
    "\n",
    "Now let's estimate the basic wage gap for the United States!\n",
    "\n",
    "Earnings per week worked can be found in the `earnwke` variable. Using the variable `sex` (1=Male, 2=Female), estimate the gender wage gap in terms of wages per hour worked!\n",
    "\n",
    "(You may also find it helpful, for context, to estimate the average hourly pay by dividing weekly pay by `uhourse`.)"
   ]
  },
  {
   "cell_type": "code",
   "execution_count": 40,
   "metadata": {},
   "outputs": [
    {
     "data": {
      "text/plain": [
       "(133814, 98)"
      ]
     },
     "execution_count": 40,
     "metadata": {},
     "output_type": "execute_result"
    }
   ],
   "source": [
    "morg18.shape"
   ]
  },
  {
   "cell_type": "code",
   "execution_count": 41,
   "metadata": {},
   "outputs": [
    {
     "name": "stdout",
     "output_type": "stream",
     "text": [
      "\n",
      "The average weekly salary for men is $1,204.73\n",
      "The average weekly salary for women is $985.68\n",
      "\n",
      "The gender wage gap in the United States is $219.05 per week\n"
     ]
    }
   ],
   "source": [
    "average_salary_male_weekly = morg18[morg18[\"sex\"] == 1][\"earnwke\"].mean()\n",
    "average_salary_female_weekly = morg18[morg18[\"sex\"] == 2][\"earnwke\"].mean()\n",
    "\n",
    "weekly_gender_wage_gap = average_salary_male_weekly - average_salary_female_weekly\n",
    "\n",
    "print(f\"\\nThe average weekly salary for men is ${average_salary_male_weekly:,.2f}\")\n",
    "print(f\"The average weekly salary for women is ${average_salary_female_weekly:.2f}\")\n",
    "print(\n",
    "    f\"\\nThe gender wage gap in the United States is ${weekly_gender_wage_gap:.2f} per week\"\n",
    ")"
   ]
  },
  {
   "cell_type": "code",
   "execution_count": 42,
   "metadata": {},
   "outputs": [
    {
     "name": "stdout",
     "output_type": "stream",
     "text": [
      "The average hourly salary for men is $27.88\n",
      "The average hourly salary for women is $23.80\n",
      "\n",
      "The gender wage gap in the United States is $4.08 per hour\n"
     ]
    }
   ],
   "source": [
    "salary_per_hour_male = (\n",
    "    morg18[morg18[\"sex\"] == 1][\"earnwke\"] / morg18[morg18[\"sex\"] == 1][\"uhourse\"]\n",
    ").mean()\n",
    "salary_per_hour_female = (\n",
    "    morg18[morg18[\"sex\"] == 2][\"earnwke\"] / morg18[morg18[\"sex\"] == 2][\"uhourse\"]\n",
    ").mean()\n",
    "\n",
    "hourly_gender_wage_gap = salary_per_hour_male - salary_per_hour_female\n",
    "\n",
    "print(f\"The average hourly salary for men is ${salary_per_hour_male:,.2f}\")\n",
    "print(f\"The average hourly salary for women is ${salary_per_hour_female:,.2f}\")\n",
    "print(\n",
    "    f\"\\nThe gender wage gap in the United States is ${hourly_gender_wage_gap:,.2f} per hour\"\n",
    ")"
   ]
  },
  {
   "attachments": {},
   "cell_type": "markdown",
   "metadata": {},
   "source": [
    "## Exercise 4\n",
    "\n",
    "Assuming 48 work weeks in a year, calculate annual earnings for men and women. Report the difference in dollars and in percentage terms."
   ]
  },
  {
   "cell_type": "code",
   "execution_count": 43,
   "metadata": {},
   "outputs": [
    {
     "name": "stdout",
     "output_type": "stream",
     "text": [
      "Annual earnings for men: $57,827\n",
      "Annual earnings for women: $47,313\n",
      "\n",
      "The difference in earnings is $10,514 which represents 22.22% more earnings for men compared to women.\n"
     ]
    }
   ],
   "source": [
    "morg18[\"annual_earnings\"] = morg18[\"earnwke\"] * 48\n",
    "\n",
    "annual_earnings_male = morg18[morg18[\"sex\"] == 1][\"annual_earnings\"].mean()\n",
    "\n",
    "annual_earnings_female = morg18[morg18[\"sex\"] == 2][\"annual_earnings\"].mean()\n",
    "\n",
    "earnings_difference = annual_earnings_male - annual_earnings_female\n",
    "\n",
    "percentage_difference = (earnings_difference / annual_earnings_female) * 100\n",
    "\n",
    "print(f\"Annual earnings for men: ${annual_earnings_male:,.0f}\")\n",
    "print(f\"Annual earnings for women: ${annual_earnings_female:,.0f}\")\n",
    "print(\n",
    "    f\"\\nThe difference in earnings is ${earnings_difference:,.0f} which represents {percentage_difference:.2f}% more earnings for men compared to women.\"\n",
    ")"
   ]
  },
  {
   "cell_type": "markdown",
   "metadata": {},
   "source": [
    "## Exercise 5\n",
    "\n",
    "We just compared all full-time working men to all full-time working women. For this to be an accurate *causal* estimate of the effect of being a woman in the work place, what must be true of these two groups? What is one reason that this may *not* be true?"
   ]
  },
  {
   "cell_type": "markdown",
   "metadata": {},
   "source": [
    ">For this comparison to be accurate, both groups must be similar in other income-affecting characteristics such as age, race, educational level, etc. If these conditions were similar for both groups or had similar distributions, comparing the means of the two groups could provide a precise estimate of the effect of being a woman in the workplace.\n",
    ">\n",
    ">One reason why this assumption might not hold true is if women who have full-time jobs tend to have a higher average level of education than men (since they are more likely to have full-time jobs). In such a case, it would be necessary to control for educational level in our comparison to obtain a precise estimate of the effect of being a woman in the workplace."
   ]
  },
  {
   "attachments": {},
   "cell_type": "markdown",
   "metadata": {},
   "source": [
    "## Exercise 6\n",
    "\n",
    "One answer to the second part of Exercise 5 is that working women are likely to be younger, since a larger portion of younger women are entering the workforce as compared to older generations.\n",
    "\n",
    "To *control* for this difference, let's now regress annual earnings on gender, age, and age-squared (the relationship between age and income is generally non-linear). What is the implied average annual wage difference between women and men? Is it different from your raw estimate? "
   ]
  },
  {
   "cell_type": "markdown",
   "metadata": {},
   "source": [
    "> The following regression model shows the same results as the previous difference in means calculations"
   ]
  },
  {
   "cell_type": "code",
   "execution_count": 44,
   "metadata": {},
   "outputs": [
    {
     "name": "stdout",
     "output_type": "stream",
     "text": [
      "-10,514\n"
     ]
    }
   ],
   "source": [
    "morg18[\"female\"] = (morg18[\"sex\"] == 2).astype(int)\n",
    "model = smf.ols(\"annual_earnings ~ female \", morg18).fit()\n",
    "print(\"{:,.0f}\".format(round(model.params[\"female\"])))"
   ]
  },
  {
   "cell_type": "code",
   "execution_count": 45,
   "metadata": {},
   "outputs": [
    {
     "name": "stdout",
     "output_type": "stream",
     "text": [
      "                            OLS Regression Results                            \n",
      "==============================================================================\n",
      "Dep. Variable:        annual_earnings   R-squared:                       0.026\n",
      "Model:                            OLS   Adj. R-squared:                  0.026\n",
      "Method:                 Least Squares   F-statistic:                     3350.\n",
      "Date:                Tue, 09 Apr 2024   Prob (F-statistic):               0.00\n",
      "Time:                        12:12:25   Log-Likelihood:            -1.4464e+06\n",
      "No. Observations:              122603   AIC:                         2.893e+06\n",
      "Df Residuals:                  122601   BIC:                         2.893e+06\n",
      "Df Model:                           1                                         \n",
      "Covariance Type:                  HC3                                         \n",
      "==============================================================================\n",
      "                 coef    std err          t      P>|t|      [0.025      0.975]\n",
      "------------------------------------------------------------------------------\n",
      "Intercept   5.783e+04    133.001    434.787      0.000    5.76e+04    5.81e+04\n",
      "female     -1.051e+04    181.666    -57.878      0.000   -1.09e+04   -1.02e+04\n",
      "==============================================================================\n",
      "Omnibus:                    19177.795   Durbin-Watson:                   1.733\n",
      "Prob(Omnibus):                  0.000   Jarque-Bera (JB):            29456.620\n",
      "Skew:                           1.152   Prob(JB):                         0.00\n",
      "Kurtosis:                       3.679   Cond. No.                         2.52\n",
      "==============================================================================\n",
      "\n",
      "Notes:\n",
      "[1] Standard Errors are heteroscedasticity robust (HC3)\n"
     ]
    }
   ],
   "source": [
    "print(model.get_robustcov_results(\"HC3\").summary())"
   ]
  },
  {
   "cell_type": "markdown",
   "metadata": {},
   "source": [
    "> Let's now control for age"
   ]
  },
  {
   "cell_type": "code",
   "execution_count": 46,
   "metadata": {},
   "outputs": [
    {
     "name": "stdout",
     "output_type": "stream",
     "text": [
      "                            OLS Regression Results                            \n",
      "==============================================================================\n",
      "Dep. Variable:        annual_earnings   R-squared:                       0.083\n",
      "Model:                            OLS   Adj. R-squared:                  0.083\n",
      "Method:                 Least Squares   F-statistic:                     4820.\n",
      "Date:                Tue, 09 Apr 2024   Prob (F-statistic):               0.00\n",
      "Time:                        12:12:25   Log-Likelihood:            -1.4426e+06\n",
      "No. Observations:              122603   AIC:                         2.885e+06\n",
      "Df Residuals:                  122599   BIC:                         2.885e+06\n",
      "Df Model:                           3                                         \n",
      "Covariance Type:                  HC3                                         \n",
      "==============================================================================\n",
      "                 coef    std err          t      P>|t|      [0.025      0.975]\n",
      "------------------------------------------------------------------------------\n",
      "Intercept  -7102.4067    787.776     -9.016      0.000   -8646.434   -5558.380\n",
      "female     -1.074e+04    176.627    -60.778      0.000   -1.11e+04   -1.04e+04\n",
      "age         2730.5944     40.460     67.489      0.000    2651.294    2809.895\n",
      "age_2        -25.8227      0.477    -54.177      0.000     -26.757     -24.888\n",
      "==============================================================================\n",
      "Omnibus:                    18004.695   Durbin-Watson:                   1.739\n",
      "Prob(Omnibus):                  0.000   Jarque-Bera (JB):            27027.927\n",
      "Skew:                           1.096   Prob(JB):                         0.00\n",
      "Kurtosis:                       3.699   Cond. No.                     2.30e+04\n",
      "==============================================================================\n",
      "\n",
      "Notes:\n",
      "[1] Standard Errors are heteroscedasticity robust (HC3)\n",
      "[2] The condition number is large, 2.3e+04. This might indicate that there are\n",
      "strong multicollinearity or other numerical problems.\n"
     ]
    }
   ],
   "source": [
    "morg18[\"age\"] = morg18[\"age\"].astype(\"int64\")\n",
    "morg18[\"age_2\"] = morg18[\"age\"] ** 2\n",
    "model2 = smf.ols(\"annual_earnings ~ female + age + age_2\", morg18).fit()\n",
    "print(model2.get_robustcov_results(\"HC3\").summary())"
   ]
  },
  {
   "cell_type": "code",
   "execution_count": 47,
   "metadata": {},
   "outputs": [
    {
     "name": "stdout",
     "output_type": "stream",
     "text": [
      "\n",
      "The difference in earnings between male and woman, controled by age is -$10,735\n"
     ]
    }
   ],
   "source": [
    "earnings_difference_controled_by_age = model2.params[\"female\"]\n",
    "\n",
    "print(\n",
    "    f\"\\nThe difference in earnings between male and woman, controled by age is -${-earnings_difference_controled_by_age:,.0f}\"\n",
    ")"
   ]
  },
  {
   "cell_type": "markdown",
   "metadata": {},
   "source": [
    "> This difference is larger than the raw estimate calculated previously and it implies that controlling by age, the gender gap in earnings is even larger. "
   ]
  },
  {
   "cell_type": "markdown",
   "metadata": {},
   "source": [
    "## Exercise 7\n",
    "\n",
    "In running this regression and interpreting the coefficient on `female`, what is the implicit comparison you are making? In other words, when we run this regression and interpreting the coefficient on `female`, we're basically pretending we are comparing two groups and assuming they are counter-factuals for one another. What are these two groups?"
   ]
  },
  {
   "cell_type": "markdown",
   "metadata": {},
   "source": [
    "> When using the last regression and interpreting the coefficient of 'female,' we are comparing the group of women to men, assuming both groups have a similar age distribution."
   ]
  },
  {
   "cell_type": "markdown",
   "metadata": {},
   "source": [
    "## Exercise 8\n",
    "\n",
    "Now let's add to our regression an indicator variable for whether the respondent has at least graduated high school, and an indicator for whether the respondent at least has a BA. \n",
    "\n",
    "In answering this question, use the following table of codes for the variable `grade92`. \n",
    "\n",
    "Education is coded as follows:\n",
    "    \n",
    "![CPS Educ Codes](../images/cps_educ_codes.png)"
   ]
  },
  {
   "cell_type": "code",
   "execution_count": 48,
   "metadata": {},
   "outputs": [
    {
     "name": "stdout",
     "output_type": "stream",
     "text": [
      "                            OLS Regression Results                            \n",
      "==============================================================================\n",
      "Dep. Variable:        annual_earnings   R-squared:                       0.273\n",
      "Model:                            OLS   Adj. R-squared:                  0.273\n",
      "Method:                 Least Squares   F-statistic:                     9051.\n",
      "Date:                Tue, 09 Apr 2024   Prob (F-statistic):               0.00\n",
      "Time:                        12:12:25   Log-Likelihood:            -1.4284e+06\n",
      "No. Observations:              122603   AIC:                         2.857e+06\n",
      "Df Residuals:                  122597   BIC:                         2.857e+06\n",
      "Df Model:                           5                                         \n",
      "Covariance Type:                  HC3                                         \n",
      "=======================================================================================\n",
      "                          coef    std err          t      P>|t|      [0.025      0.975]\n",
      "---------------------------------------------------------------------------------------\n",
      "Intercept            -1.92e+04    734.939    -26.127      0.000   -2.06e+04   -1.78e+04\n",
      "high_school[T.True]   1.37e+04    223.566     61.271      0.000    1.33e+04    1.41e+04\n",
      "BA[T.True]           2.695e+04    178.315    151.132      0.000    2.66e+04    2.73e+04\n",
      "female              -1.304e+04    158.145    -82.447      0.000   -1.33e+04   -1.27e+04\n",
      "age                  2210.0675     35.692     61.920      0.000    2140.111    2280.024\n",
      "age_2                 -20.0288      0.418    -47.873      0.000     -20.849     -19.209\n",
      "==============================================================================\n",
      "Omnibus:                    14162.034   Durbin-Watson:                   1.851\n",
      "Prob(Omnibus):                  0.000   Jarque-Bera (JB):            20366.744\n",
      "Skew:                           0.887   Prob(JB):                         0.00\n",
      "Kurtosis:                       3.917   Cond. No.                     2.50e+04\n",
      "==============================================================================\n",
      "\n",
      "Notes:\n",
      "[1] Standard Errors are heteroscedasticity robust (HC3)\n",
      "[2] The condition number is large, 2.5e+04. This might indicate that there are\n",
      "strong multicollinearity or other numerical problems.\n"
     ]
    }
   ],
   "source": [
    "morg18[\"high_school\"] = morg18[\"grade92\"] >= 39\n",
    "morg18[\"BA\"] = morg18[\"grade92\"] >= 43\n",
    "\n",
    "\n",
    "model3 = smf.ols(\n",
    "    \"annual_earnings ~ female + age + age_2 + high_school + BA \", morg18\n",
    ").fit()\n",
    "print(model3.get_robustcov_results(\"HC3\").summary())"
   ]
  },
  {
   "cell_type": "code",
   "execution_count": 49,
   "metadata": {},
   "outputs": [
    {
     "name": "stdout",
     "output_type": "stream",
     "text": [
      "\n",
      "The difference in earnings between male and woman, controled by age, completion of high school and having at\n",
      " least a BA is -$13,039\n"
     ]
    }
   ],
   "source": [
    "earnings_difference_controled_by_age_education = model3.params[\"female\"]\n",
    "\n",
    "print(\n",
    "    f\"\\nThe difference in earnings between male and woman, controled by age, completion of high school and having at\\n least a BA is -${-earnings_difference_controled_by_age_education:,.0f}\"\n",
    ")"
   ]
  },
  {
   "cell_type": "markdown",
   "metadata": {},
   "source": [
    "> This difference is larger than the raw estimate calculated previously and it implies that controlling by age, high school education and BA education, the gender gap in earnings is even larger. "
   ]
  },
  {
   "cell_type": "markdown",
   "metadata": {},
   "source": [
    "## Exercise 9 \n",
    "\n",
    "In running this regression and interpreting the coefficient on `female`, what is the implicit comparison you are making? In other words, when we run this regression and interpreting the coefficient on `female`, we are once more basically pretending we are comparing two groups and assuming they are counter-factuals for one another. What are these two groups?"
   ]
  },
  {
   "cell_type": "markdown",
   "metadata": {},
   "source": [
    "> When using the last regression and interpreting the coefficient of 'female,' we are comparing the group of women to men, assuming both groups have a similar age distribution and similar education levels."
   ]
  },
  {
   "cell_type": "markdown",
   "metadata": {},
   "source": [
    "## Exercise 10\n",
    "\n",
    "Given how the coefficient on `female` has changed between Exercise 6 and Exercise 8, what can you infer about the educational attainment of the women in your survey data (as compared to the educational attainment of men)?"
   ]
  },
  {
   "cell_type": "markdown",
   "metadata": {},
   "source": [
    "> Considering how the coefficient on female has decreased from -$10,735 to -$13,039 when controlling the regression for educational level, we can infer that the educational attainment of women in our survey data is likely higher than that of men.\n",
    ">\n",
    ">This inference is supported by the fact that after controlling for educational attainment, the gender wage gap expands. It can be inferred that women in the survey data tend to have higher levels of educational attainment compared to men, but despite this, they still face wage discrimination in the workplace.\n"
   ]
  },
  {
   "cell_type": "code",
   "execution_count": 50,
   "metadata": {},
   "outputs": [
    {
     "data": {
      "text/plain": [
       "female\n",
       "0    0.926028\n",
       "1    0.955296\n",
       "Name: high_school, dtype: float64"
      ]
     },
     "execution_count": 50,
     "metadata": {},
     "output_type": "execute_result"
    }
   ],
   "source": [
    "# we can also check this hypothesis:\n",
    "morg18.groupby(\"female\")[\"high_school\"].mean()"
   ]
  },
  {
   "cell_type": "code",
   "execution_count": 51,
   "metadata": {},
   "outputs": [
    {
     "data": {
      "text/plain": [
       "female\n",
       "0    0.374868\n",
       "1    0.444782\n",
       "Name: BA, dtype: float64"
      ]
     },
     "execution_count": 51,
     "metadata": {},
     "output_type": "execute_result"
    }
   ],
   "source": [
    "morg18.groupby(\"female\")[\"BA\"].mean()"
   ]
  },
  {
   "cell_type": "markdown",
   "metadata": {},
   "source": [
    ">We can see that for both the High School and BA variables, the average for the female group is higher, which confirms our hypothesis."
   ]
  },
  {
   "cell_type": "markdown",
   "metadata": {},
   "source": [
    "## Exercise 11\n",
    "\n",
    "What does that tell you about the *potential outcomes* of men and women before you added education as a control?"
   ]
  },
  {
   "cell_type": "markdown",
   "metadata": {},
   "source": [
    "> The observed difference in educational levels between men and women before adding education as a control suggests that there was a baseline difference between men and women. This means that, in terms of education, both groups have different educational levels; in this case, women have a higher proportion of individuals who have completed high school and at least a bachelor's degree in arts. Therefore, the comparison mentioned earlier was not correct, as it did not take into account the differences between both groups in terms of educational level (baseline difference)."
   ]
  },
  {
   "attachments": {},
   "cell_type": "markdown",
   "metadata": {},
   "source": [
    "## Exercise 12\n",
    "\n",
    "Finally, let's include *fixed effects* for the type of job held by each respondent. \n",
    "\n",
    "Fixed effects are a method used when we have a nested data structure in which respondents belong to groups, and those groups may all be subject to different pressures. In this context, for example, we can add fixed effects for the industry of each respondent—since wages often vary across industries, controlling for industry is likely to improve our estimates. Use `ind02` to control for industry.\n",
    "\n",
    "(Note that fixed effects are very similar in principle to hierarchical models. There are some differences [you will read about](../fixed_effects_v_hierarchical.ipynb) for our next class, but they are designed to serve the same role, just with slightly different mechanics). \n",
    "\n",
    "When we add fixed effects for groups like this, our interpretation of the other coefficients changes. Whereas in previous exercises we were trying to explain variation in men and women's wages *across all respondents*, we are now effectively comparing men and women's wages *within each employment sector*. Our coefficient on `female`, in other words, now tells us how much less (on average) we would expect a woman to be paid than a man *within the same industry*, not across all respondents. \n",
    "\n",
    "(Note that running this regression will result in lots of coefficients popping up you don't care about. We'll introduce some more efficient methods for adding fixed effects that aren't so messy in a later class -- for now, you can ignore those coefficients!)"
   ]
  },
  {
   "cell_type": "code",
   "execution_count": 52,
   "metadata": {},
   "outputs": [
    {
     "name": "stdout",
     "output_type": "stream",
     "text": [
      "                            OLS Regression Results                            \n",
      "==============================================================================\n",
      "Dep. Variable:        annual_earnings   R-squared:                       0.320\n",
      "Model:                            OLS   Adj. R-squared:                  0.319\n",
      "Method:                 Least Squares   F-statistic:                     219.7\n",
      "Date:                Tue, 09 Apr 2024   Prob (F-statistic):               0.00\n",
      "Time:                        12:12:41   Log-Likelihood:            -1.4243e+06\n",
      "No. Observations:              122603   AIC:                         2.849e+06\n",
      "Df Residuals:                  122339   BIC:                         2.852e+06\n",
      "Df Model:                         263                                         \n",
      "Covariance Type:                  HC3                                         \n",
      "=========================================================================================================================================================================================\n",
      "                                                                                                                            coef    std err          t      P>|t|      [0.025      0.975]\n",
      "-----------------------------------------------------------------------------------------------------------------------------------------------------------------------------------------\n",
      "Intercept                                                                                                              -2.03e+04   1119.990    -18.121      0.000   -2.25e+04   -1.81e+04\n",
      "high_school[T.True]                                                                                                    1.122e+04    232.091     48.359      0.000    1.08e+04    1.17e+04\n",
      "BA[T.True]                                                                                                             2.438e+04    191.930    127.045      0.000     2.4e+04    2.48e+04\n",
      "ind02[T.Animal production (112)]                                                                                       -564.0145   1379.239     -0.409      0.683   -3267.300    2139.271\n",
      "ind02[T.Forestry except logging (1131, 1132)]                                                                           166.5881   3203.170      0.052      0.959   -6111.572    6444.748\n",
      "ind02[T.Logging (1133)]                                                                                                5192.1331   2602.575      1.995      0.046      91.129    1.03e+04\n",
      "ind02[T.Fishing, hunting, and trapping (114)]                                                                          3436.9737   3874.776      0.887      0.375   -4157.523     1.1e+04\n",
      "ind02[T.Support activities for agriculture and forestry (115)]                                                         5832.1722   2573.608      2.266      0.023     787.943    1.09e+04\n",
      "ind02[T.Oil and gas extraction (211)]                                                                                  3.303e+04   3618.638      9.127      0.000    2.59e+04    4.01e+04\n",
      "ind02[T.Coal mining (2121)]                                                                                            2.416e+04   2479.276      9.747      0.000    1.93e+04     2.9e+04\n",
      "ind02[T.Metal ore mining (2122)]                                                                                       3.269e+04   5833.292      5.604      0.000    2.13e+04    4.41e+04\n",
      "ind02[T.Nonmetallic mineral mining and quarrying (2123)]                                                               1.474e+04   2210.978      6.665      0.000    1.04e+04    1.91e+04\n",
      "ind02[T.Support activities for mining (213)]                                                                           2.689e+04   1614.437     16.655      0.000    2.37e+04    3.01e+04\n",
      "ind02[T.Electric power generation, transmission and distribution (Pt. 2211)]                                           2.068e+04   1378.257     15.007      0.000     1.8e+04    2.34e+04\n",
      "ind02[T.Natural gas distribution (Pt.s2212)]                                                                           1.517e+04   2553.974      5.942      0.000    1.02e+04    2.02e+04\n",
      "ind02[T.Electric and gas, and other combinations (Pts. 2211, 2212)]                                                    2.042e+04   3077.760      6.634      0.000    1.44e+04    2.64e+04\n",
      "ind02[T.Water, steam, air-conditioning, and irrigation systems (22131, 22133)]                                         5500.9579   1883.675      2.920      0.003    1808.986    9192.930\n",
      "ind02[T.Sewage treatment facilities (22132)]                                                                           6798.7334   2824.221      2.407      0.016    1263.307    1.23e+04\n",
      "ind02[T.Not specified utilities (Part of 22)]                                                                          1.904e+04   5343.924      3.562      0.000    8563.629    2.95e+04\n",
      "ind02[T.** Construction (23)]                                                                                          9797.4563    918.510     10.667      0.000    7997.192    1.16e+04\n",
      "ind02[T.Animal food, grain and oilseed milling (3111, 3112)]                                                           8888.6307   2392.973      3.714      0.000    4198.443    1.36e+04\n",
      "ind02[T.Sugar and confectionery products (3113)]                                                                       4442.4336   2639.691      1.683      0.092    -731.317    9616.185\n",
      "ind02[T.Fruit and vegetable preserving and specialty food manufacturing (3114)]                                        1727.8722   2085.387      0.829      0.407   -2359.452    5815.197\n",
      "ind02[T.Dairy product manufacturing (3115)]                                                                            5567.1683   1842.736      3.021      0.003    1955.436    9178.900\n",
      "ind02[T.Animal slaughtering and processing (3116)]                                                                     -439.0029   1161.601     -0.378      0.705   -2715.721    1837.715\n",
      "ind02[T.Retail bakeries (311811)]                                                                                     -1822.6301   1851.492     -0.984      0.325   -5451.523    1806.263\n",
      "ind02[T.Bakeries, except retail (3118 exc. 311811)]                                                                    1231.6635   2038.191      0.604      0.546   -2763.157    5226.484\n",
      "ind02[T.Seafood and other miscellaneous foods, n.e.c. (3117, 3119)]                                                    7832.7829   1895.141      4.133      0.000    4118.338    1.15e+04\n",
      "ind02[T.Not specified food industries (Part of 311)]                                                                   1999.0102   2841.999      0.703      0.482   -3571.262    7569.282\n",
      "ind02[T.Beverage manufacturing (3121)]                                                                                 8436.0050   1932.764      4.365      0.000    4647.819    1.22e+04\n",
      "ind02[T.Tobacco manufacturing (3122)]                                                                                  1.088e+04   9631.432      1.130      0.259   -7995.925    2.98e+04\n",
      "ind02[T.Fiber, yarn, and thread mills (3131)]                                                                          4366.4980   8208.781      0.532      0.595   -1.17e+04    2.05e+04\n",
      "ind02[T.Fabric mills, except knitting (3132 exc. 31324)]                                                               3330.6821   2919.895      1.141      0.254   -2392.263    9053.628\n",
      "ind02[T.Textile and fabric finishing and coating mills (3133)]                                                          855.8525   5220.899      0.164      0.870   -9377.023    1.11e+04\n",
      "ind02[T.Carpet and rug mills (31411)]                                                                                  1849.4567   2617.343      0.707      0.480   -3280.492    6979.405\n",
      "ind02[T.Textile product mills, except carpets and rugs (314 exc. 31411)]                                               3395.3563   2958.525      1.148      0.251   -2403.304    9194.017\n",
      "ind02[T.Knitting mills (31324, 3151)]                                                                                 -6715.3569   4895.798     -1.372      0.170   -1.63e+04    2880.326\n",
      "ind02[T.Cut and sew apparel manufacturing (3152)]                                                                      2618.6464   2157.339      1.214      0.225   -1609.701    6846.994\n",
      "ind02[T.Apparel accessories and other apparel manufacturing (3159)]                                                    -452.6020   2879.372     -0.157      0.875   -6096.123    5190.919\n",
      "ind02[T.Footwear manufacturing (3162)]                                                                                 1.289e+04   5883.200      2.190      0.028    1355.903    2.44e+04\n",
      "ind02[T.Leather tanning and products, except footwear manufacturing (3161, 3169)]                                       421.0009   5199.230      0.081      0.935   -9769.402    1.06e+04\n",
      "ind02[T.Pulp, paper, and paperboard mills (3221)]                                                                      1.165e+04   1936.424      6.018      0.000    7857.953    1.54e+04\n",
      "ind02[T.Paperboard containers and boxes (32221)]                                                                       5036.6019   2734.767      1.842      0.066    -323.495    1.04e+04\n",
      "ind02[T.Miscellaneous paper and pulp products (32222,32223, 32229)]                                                    6355.2800   2932.892      2.167      0.030     606.859    1.21e+04\n",
      "ind02[T.Printing and related support activities (3231)]                                                                2779.3316   1439.997      1.930      0.054     -43.039    5601.703\n",
      "ind02[T.Petroleum refining (32411)]                                                                                    2.603e+04   2438.395     10.674      0.000    2.12e+04    3.08e+04\n",
      "ind02[T.Miscellaneous petroleum and coal products (32419)]                                                             9663.8760   5623.255      1.719      0.086   -1357.609    2.07e+04\n",
      "ind02[T.Resin, synthetic rubber and fibers, and filaments manufacturing (3252)]                                        6736.4353   2224.821      3.028      0.002    2375.823    1.11e+04\n",
      "ind02[T.Agricultural chemical manufacturing (3253)]                                                                    1.661e+04   5609.434      2.961      0.003    5617.646    2.76e+04\n",
      "ind02[T.Pharmaceutical and medicine manufacturing (3254)]                                                              2.259e+04   1703.557     13.261      0.000    1.93e+04    2.59e+04\n",
      "ind02[T.Paint, coating, and adhesive manufacturing B46 (3255)]                                                         1.464e+04   3827.555      3.825      0.000    7137.884    2.21e+04\n",
      "ind02[T.Soap, cleaning compound, and cosmetics manufacturing (3256)]                                                   1.066e+04   3011.777      3.538      0.000    4752.285    1.66e+04\n",
      "ind02[T.Industrial and miscellaneous chemicals (3251, 3259)]                                                           1.719e+04   1645.210     10.448      0.000     1.4e+04    2.04e+04\n",
      "ind02[T.Plastics product manufacturing (3261)]                                                                         3290.3215   1546.187      2.128      0.033     259.821    6320.822\n",
      "ind02[T.Tire manufacturing (32621)]                                                                                    1.184e+04   2971.679      3.983      0.000    6011.329    1.77e+04\n",
      "ind02[T.Rubber products, except tires, manufacturing (32622, 32629)]                                                   4234.7301   2606.164      1.625      0.104    -873.309    9342.769\n",
      "ind02[T.Pottery, ceramics, and related products manufacturing (32711)]                                                 2878.7100   4301.165      0.669      0.503   -5551.502    1.13e+04\n",
      "ind02[T.Structural clay product manufacturing (32712)]                                                                -4350.3343   3903.217     -1.115      0.265    -1.2e+04    3299.906\n",
      "ind02[T.Glass and glass product manufacturing (3272)]                                                                  1323.9040   2098.746      0.631      0.528   -2789.604    5437.412\n",
      "ind02[T.Cement, concrete, lime, and gypsum product manufacturing (3273, 3274)]                                         5872.9473   1744.555      3.366      0.001    2453.648    9292.247\n",
      "ind02[T.Miscellaneous nonmetallic mineral product manufacturing (3279)]                                                2024.9613   2191.077      0.924      0.355   -2269.513    6319.436\n",
      "ind02[T.Iron and steel mills and steel product manufacturing (3311, 3312)]                                             1.025e+04   1848.707      5.547      0.000    6630.504    1.39e+04\n",
      "ind02[T.Aluminum production and processing (3313)]                                                                     1.202e+04   3325.488      3.614      0.000    5499.938    1.85e+04\n",
      "ind02[T.Nonferrous metal, except aluminum, production and processing (3314)]                                           8501.2462   3993.718      2.129      0.033     673.625    1.63e+04\n",
      "ind02[T.Foundries (3315)]                                                                                              4398.0475   2813.528      1.563      0.118   -1116.421    9912.516\n",
      "ind02[T.Metal forgings and stampings (3321)]                                                                            263.1538   3143.584      0.084      0.933   -5898.218    6424.526\n",
      "ind02[T.Cutlery and hand tool manufacturing (3322)]                                                                    8735.1012   4072.090      2.145      0.032     753.872    1.67e+04\n",
      "ind02[T.Structural metals, and tank and shipping container manufacturing (3323, 3324)]                                 6678.8519   1559.049      4.284      0.000    3623.141    9734.563\n",
      "ind02[T.Machine shops; turned product; screw, nut and bolt manufacturing (3327)]                                       3385.7986   1523.811      2.222      0.026     399.154    6372.443\n",
      "ind02[T.Coating, engraving, heat treating and allied activities (3328)]                                                5855.0291   3298.320      1.775      0.076    -609.622    1.23e+04\n",
      "ind02[T.Ordnance (332992 to 332995)]                                                                                   1.067e+04   3039.777      3.511      0.000    4714.840    1.66e+04\n",
      "ind02[T.Miscellaneous fabricated metal products manufacturing (3325, 3326, 3329 exc. 332992, 332993, 332994, 332995)]  5226.9758   1597.996      3.271      0.001    2094.930    8359.022\n",
      "ind02[T.Not specified metal industries (Part of 331 and 332)]                                                          2295.6997   4433.814      0.518      0.605   -6394.502     1.1e+04\n",
      "ind02[T.Agricultural implement manufacturing (33311)]                                                                  8922.9439   2048.976      4.355      0.000    4906.986    1.29e+04\n",
      "ind02[T.Construction, mining and oil field machinery manufacturing (33312, 33313)]                                     1.322e+04   2169.041      6.095      0.000    8968.180    1.75e+04\n",
      "ind02[T.3095.0]                                                                                                        1.088e+04   3678.004      2.958      0.003    3670.469    1.81e+04\n",
      "ind02[T.Metalworking machinery manufacturing (3335)]                                                                   5886.7804   2163.496      2.721      0.007    1646.365    1.01e+04\n",
      "ind02[T.Engines, turbines, and power transmission equipment manufacturing (3336)]                                      7405.6169   3685.466      2.009      0.044     182.164    1.46e+04\n",
      "ind02[T.Machinery manufacturing, n.e.c. (3332, 3334, 3339)]                                                            8792.4185   1309.270      6.716      0.000    6226.271    1.14e+04\n",
      "ind02[T.3365.0]                                                                                                         2.31e+04   2658.863      8.689      0.000    1.79e+04    2.83e+04\n",
      "ind02[T.Communications, audio, and video equipment manufacturing (3342, 3343)]                                           1.7e+04   3080.897      5.517      0.000     1.1e+04     2.3e+04\n",
      "ind02[T.Navigational, measuring, electromedical, and control instruments manufacturing (3345)]                         1.801e+04   2069.212      8.703      0.000     1.4e+04    2.21e+04\n",
      "ind02[T.Electronic component and product manufacturing, n.e.c. (3344, 3346)]                                           1.797e+04   1543.329     11.642      0.000    1.49e+04     2.1e+04\n",
      "ind02[T.Household appliance manufacturing (3352)]                                                                      9110.2574   2841.054      3.207      0.001    3541.838    1.47e+04\n",
      "ind02[T.Electrical lighting, equipment, and supplies manufacturing, n.e.c. (3351, 3353, 3359)]                         1.037e+04   1803.049      5.752      0.000    6836.896    1.39e+04\n",
      "ind02[T.Motor vehicles and motor vehicle equipment manufacturing (3361, 3362, 3363)]                                   8251.4850   1115.613      7.396      0.000    6064.902    1.04e+04\n",
      "ind02[T.Aircraft and parts manufacturing (336411 to 336413)]                                                           1.938e+04   1359.168     14.256      0.000    1.67e+04     2.2e+04\n",
      "ind02[T.Aerospace products and parts manufacturing (336414, 336415, 336419)]                                           2.805e+04   4375.084      6.412      0.000    1.95e+04    3.66e+04\n",
      "ind02[T.Railroad rolling stock manufacturing (3365)]                                                                   9948.7869   3785.894      2.628      0.009    2528.497    1.74e+04\n",
      "ind02[T.Ship and boat building (3366)]                                                                                 1.086e+04   2001.961      5.426      0.000    6938.500    1.48e+04\n",
      "ind02[T.Other transportation equipment manufacturing (3369)]                                                            -13.4994   4455.493     -0.003      0.998   -8746.192    8719.194\n",
      "ind02[T.Sawmills and wood preservation (3211)]                                                                         4626.5571   2096.686      2.207      0.027     517.087    8736.027\n",
      "ind02[T.Veneer, plywood, and engineered wood products (3212)]                                                          4240.9486   4117.806      1.030      0.303   -3829.883    1.23e+04\n",
      "ind02[T.Prefabricated wood buildings and mobile homes (321991, 321992)]                                                4746.9654   3485.400      1.362      0.173   -2084.361    1.16e+04\n",
      "ind02[T.3875.0]                                                                                                        2671.1141   1903.815      1.403      0.161   -1060.331    6402.559\n",
      "ind02[T.3895.0]                                                                                                        1367.1176   1426.213      0.959      0.338   -1428.236    4162.471\n",
      "ind02[T.Medical equipment and supplies manufacturing (3391)]                                                           1.333e+04   1466.105      9.094      0.000    1.05e+04    1.62e+04\n",
      "ind02[T.Toys, amusement, and sporting goods manufacturing (33992, 33993)]                                              1521.5928   2568.599      0.592      0.554   -3512.818    6556.004\n",
      "ind02[T.Miscellaneous manufacturing, n.e.c. (3399 exc. 33992, 33993)]                                                  4371.6811   1465.459      2.983      0.003    1499.406    7243.957\n",
      "ind02[T.Not specified manufacturing industries (Part of 31, 32, 33)]                                                   3027.6062   1824.583      1.659      0.097    -548.545    6603.758\n",
      "ind02[T.** Motor vehicles, parts and supplies, merchant wholesalers (*4231)]                                           7757.9377   2506.235      3.095      0.002    2845.759    1.27e+04\n",
      "ind02[T.** Furniture and home furnishing, merchant wholesalers (*4232)]                                                1868.1341   3634.323      0.514      0.607   -5255.078    8991.346\n",
      "ind02[T.** Lumber and other construction materials, merchant wholesalers (*4233)]                                      7390.6681   2408.437      3.069      0.002    2670.172    1.21e+04\n",
      "ind02[T.** Professional and commercial equipment and supplies, merchant wholesalers (*4234)]                           1.514e+04   2043.069      7.412      0.000    1.11e+04    1.91e+04\n",
      "ind02[T.** Metals and minerals, except petroleum, merchant wholesalers (*4235)]                                       -1319.4161   2992.172     -0.441      0.659   -7184.023    4545.191\n",
      "ind02[T.4195.0]                                                                                                        9328.9570   2320.054      4.021      0.000    4781.690    1.39e+04\n",
      "ind02[T.4265.0]                                                                                                        6259.2602   2502.143      2.502      0.012    1355.101    1.12e+04\n",
      "ind02[T.** Machinery, equipment, and supplies, merchant wholesalers (*4238)]                                            1.07e+04   1808.015      5.917      0.000    7154.890    1.42e+04\n",
      "ind02[T.** Recyclable material, merchant wholesalers (*42393)]                                                           29.3521   2107.638      0.014      0.989   -4101.584    4160.288\n",
      "ind02[T.** Miscellaneous durable goods, merchant wholesalers (*4239 exc. 42393)]                                       8576.4157   4324.302      1.983      0.047     100.855    1.71e+04\n",
      "ind02[T.** Paper and paper products, merchant wholesalers (*4241)]                                                     8467.2966   4889.726      1.732      0.083   -1116.485    1.81e+04\n",
      "ind02[T.** Drugs, sundries, and chemical and allied products, merchant (wholesalerss*4242, 4246)]                      1.529e+04   2362.650      6.472      0.000    1.07e+04    1.99e+04\n",
      "ind02[T.** Apparel, fabrics, and notions, merchant wholesalers (*4243)]                                                7437.3810   3327.738      2.235      0.025     915.069     1.4e+04\n",
      "ind02[T.** Groceries and related products, merchant wholesalers (*4244)]                                               4859.0204   1241.658      3.913      0.000    2425.392    7292.649\n",
      "ind02[T.** Farm product raw materials, merchant wholesalers (*4245)]                                                   2704.0886   2620.196      1.032      0.302   -2431.453    7839.630\n",
      "ind02[T.** Petroleum and petroleum products, merchant wholesalers (*4247)]                                             1.482e+04   2555.788      5.800      0.000    9815.457    1.98e+04\n",
      "ind02[T.** Alcoholic beverages, merchant wholesalers (*4248)]                                                          4366.3960   2326.953      1.876      0.061    -194.393    8927.185\n",
      "ind02[T.** Farm supplies, merchant wholesalers (*42491)]                                                               1.094e+04   4469.014      2.448      0.014    2179.356    1.97e+04\n",
      "ind02[T.** Miscellaneous (nondurable goods, merchant wholesalerss*4249 exc. 42491)]                                    5339.2065   2738.577      1.950      0.051     -28.360    1.07e+04\n",
      "ind02[T.*** Wholesale electronic markets, agents and brokers New industry (*4251)]                                      218.6315   3383.022      0.065      0.948   -6412.035    6849.299\n",
      "ind02[T.**Not specified wholesale trade (Part of 42)]                                                                  -491.0110   4117.256     -0.119      0.905   -8560.764    7578.742\n",
      "ind02[T.Automobile dealers (4411)]                                                                                     8084.3333   1182.553      6.836      0.000    5766.550    1.04e+04\n",
      "ind02[T.Other motor vehicle dealers (4412)]                                                                            6663.2288   2425.499      2.747      0.006    1909.292    1.14e+04\n",
      "ind02[T.Auto parts, accessories, and tire stores (4413)]                                                               -415.2256   1303.920     -0.318      0.750   -2970.886    2140.435\n",
      "ind02[T.Furniture and home furnishings stores (442)]                                                                    963.1961   1471.715      0.654      0.513   -1921.342    3847.734\n",
      "ind02[T.Household appliance stores (443111)]                                                                           -322.2550   2710.891     -0.119      0.905   -5635.556    4991.046\n",
      "ind02[T.4795.0]                                                                                                        7757.8429   1664.699      4.660      0.000    4495.060     1.1e+04\n",
      "ind02[T.Building material and supplies dealers (4441 exc. 44413)]                                                       979.5982   1202.988      0.814      0.415   -1378.238    3337.434\n",
      "ind02[T.Hardware stores (44413)]                                                                                      -1055.9630   2021.094     -0.522      0.601   -5017.274    2905.348\n",
      "ind02[T.Lawn and garden equipment and supplies stores (4442)]                                                          1815.5861   1900.757      0.955      0.339   -1909.867    5541.039\n",
      "ind02[T.Grocery stores (4451)]                                                                                         -940.4720   1003.669     -0.937      0.349   -2907.647    1026.703\n",
      "ind02[T.Specialty food stores (4452)]                                                                                  2784.3464   2587.804      1.076      0.282   -2287.706    7856.399\n",
      "ind02[T.Beer, wine, and liquor stores (4453)]                                                                           372.9685   2920.487      0.128      0.898   -5351.138    6097.075\n",
      "ind02[T.Pharmacies and drug stores (44611)]                                                                            8652.8248   1397.881      6.190      0.000    5913.001    1.14e+04\n",
      "ind02[T.Health and personal care, except drug, stores (446 exc. 44611)]                                                7768.4151   1830.274      4.244      0.000    4181.108    1.14e+04\n",
      "ind02[T.Gasoline stations (447)]                                                                                      -1250.9161   1540.066     -0.812      0.417   -4269.420    1767.588\n",
      "ind02[T.Clothing and accessories, except shoe, stores (448 exc. 44821, 4483)]                                          2831.7879   1454.404      1.947      0.052     -18.820    5682.396\n",
      "ind02[T.Shoe stores (44821)]                                                                                           2668.7606   2804.714      0.952      0.341   -2828.432    8165.953\n",
      "ind02[T.Jewelry, luggage, and leather goods stores (4483)]                                                              -21.8630   2778.147     -0.008      0.994   -5466.985    5423.259\n",
      "ind02[T.5275.0]                                                                                                        2519.3878   1810.051      1.392      0.164   -1028.283    6067.058\n",
      "ind02[T.Sewing, needlework, and piece goods stores (45113)]                                                           -1.516e+04   5029.912     -3.014      0.003    -2.5e+04   -5302.526\n",
      "ind02[T.5295.0]                                                                                                       -3304.4422   4193.038     -0.788      0.431   -1.15e+04    4913.843\n",
      "ind02[T.Book stores and news dealers (45121)]                                                                         -2580.1243   3677.033     -0.702      0.483   -9787.048    4626.799\n",
      "ind02[T.****Department stores and discount stores (s45211)]                                                           -1853.1871   1063.866     -1.742      0.082   -3938.346     231.972\n",
      "ind02[T.Miscellaneous general merchandise stores (4529)]                                                                912.3465   1391.527      0.656      0.512   -1815.024    3639.717\n",
      "ind02[T.Retail florists (4531)]                                                                                       -2962.5157   4460.361     -0.664      0.507   -1.17e+04    5779.719\n",
      "ind02[T.Office supplies and stationery stores (45321)]                                                                 5093.4073   2654.064      1.919      0.055    -108.514    1.03e+04\n",
      "ind02[T.Used merchandise stores (4533)]                                                                               -8628.4302   2033.784     -4.243      0.000   -1.26e+04   -4642.246\n",
      "ind02[T.Gift, novelty, and souvenir shops (45322)]                                                                    -3287.1292   2754.802     -1.193      0.233   -8686.495    2112.236\n",
      "ind02[T.Miscellaneous retail stores (4539)]                                                                            4607.5289   1787.219      2.578      0.010    1104.610    8110.448\n",
      "ind02[T.*** Electronic shopping (New industry *454111)]                                                                8431.4560   2124.412      3.969      0.000    4267.643    1.26e+04\n",
      "ind02[T.*** Electronic auctions (New industrys*454112)]                                                                1.547e+04   9120.505      1.696      0.090   -2403.110    3.33e+04\n",
      "ind02[T.** Mail order houses (*454113)]                                                                                3736.3137   3053.068      1.224      0.221   -2247.648    9720.276\n",
      "ind02[T.Vending machine operators (4542)]                                                                              7945.6601   5762.081      1.379      0.168   -3347.924    1.92e+04\n",
      "ind02[T.Fuel dealers (45431)]                                                                                          1788.5179   2440.389      0.733      0.464   -2994.605    6571.641\n",
      "ind02[T.Other direct selling establishments (45439)]                                                                   3605.4799   4353.053      0.828      0.408   -4926.432    1.21e+04\n",
      "ind02[T.Not specified retail trade (Part of 44, 45)]                                                                    864.4306   2007.549      0.431      0.667   -3070.332    4799.193\n",
      "ind02[T.Air transportation (481)]                                                                                       1.14e+04   1619.315      7.042      0.000    8228.693    1.46e+04\n",
      "ind02[T.Rail transportation (482)]                                                                                      2.19e+04   1965.818     11.139      0.000     1.8e+04    2.57e+04\n",
      "ind02[T.Water transportation (483)]                                                                                    1.709e+04   4168.384      4.101      0.000    8923.701    2.53e+04\n",
      "ind02[T.Truck transportation (484)]                                                                                    6641.8604   1088.301      6.103      0.000    4508.808    8774.913\n",
      "ind02[T.Bus service and urban transit (4851, 4852, 4854, 4855, 4859)]                                                  2092.5777   1595.965      1.311      0.190   -1035.487    5220.642\n",
      "ind02[T.Taxi and limousine service (4853)]                                                                            -8799.9516   1792.587     -4.909      0.000   -1.23e+04   -5286.511\n",
      "ind02[T.Pipeline transportation (486)]                                                                                 2.572e+04   3222.426      7.983      0.000    1.94e+04     3.2e+04\n",
      "ind02[T.Scenic and sightseeing transportation (487)]                                                                  -1613.2508   4443.869     -0.363      0.717   -1.03e+04    7096.658\n",
      "ind02[T.Services incidental to transportation (488)]                                                                   7511.1003   1419.747      5.290      0.000    4728.419    1.03e+04\n",
      "ind02[T.Postal Service (491)]                                                                                          5105.5804   1240.769      4.115      0.000    2673.694    7537.467\n",
      "ind02[T.Couriers and messengers (492)]                                                                                 6832.3205   1394.001      4.901      0.000    4100.101    9564.540\n",
      "ind02[T.Warehousing and storage (493)]                                                                                -1125.7179   1309.218     -0.860      0.390   -3691.762    1440.327\n",
      "ind02[T.**Newspaper publishers (51111)]                                                                                 619.5457   2539.089      0.244      0.807   -4357.026    5596.118\n",
      "ind02[T.**Publishing, except newspapers and software (5111 exc. 51111)]                                                9674.4886   2520.962      3.838      0.000    4733.444    1.46e+04\n",
      "ind02[T.Software publishing (5112)]                                                                                    4.184e+04   4281.170      9.772      0.000    3.34e+04    5.02e+04\n",
      "ind02[T.Motion pictures and video industries (5121)]                                                                   1.522e+04   2294.575      6.634      0.000    1.07e+04    1.97e+04\n",
      "ind02[T.Sound recording industries (5122)]                                                                             8165.1921   1.04e+04      0.787      0.431   -1.22e+04    2.85e+04\n",
      "ind02[T.Radio and television broadcasting and cable (5151, 5152, 5175)]                                                1.098e+04   1645.271      6.676      0.000    7759.263    1.42e+04\n",
      "ind02[T.Internet publishing and broadcasting and web search portals (51913)]                                             4.5e+04   3187.610     14.118      0.000    3.88e+04    5.13e+04\n",
      "ind02[T.Wired telecommunications carriers (*5171)]                                                                      1.39e+04   1586.338      8.762      0.000    1.08e+04     1.7e+04\n",
      "ind02[T.Other telecommunications services (*517 exc. 5171, 5175)]                                                      1.419e+04   1721.028      8.243      0.000    1.08e+04    1.76e+04\n",
      "ind02[T.**** Data processing, hosting, and related services (*5182)]                                                   1.158e+04   3531.821      3.278      0.001    4653.983    1.85e+04\n",
      "ind02[T.Libraries and archives (*51912)]                                                                              -4564.9812   2591.868     -1.761      0.078   -9644.999     515.037\n",
      "ind02[T.Other information services (*5191 exc. 51912)]                                                                 1.908e+04   6257.941      3.049      0.002    6813.084    3.13e+04\n",
      "ind02[T.Banking and related activities (521, 52211,52219)]                                                             1.373e+04   1101.821     12.459      0.000    1.16e+04    1.59e+04\n",
      "ind02[T.Savings institutions, including credit unions (52212, 52213)]                                                  5310.5335   1604.703      3.309      0.001    2165.342    8455.725\n",
      "ind02[T.Non-depository credit and related activities (5222, 5223)]                                                      1.75e+04   1382.609     12.660      0.000    1.48e+04    2.02e+04\n",
      "ind02[T.Securities, commodities, funds, trusts, and other financial investments (523, 525)]                            2.346e+04   1408.434     16.656      0.000    2.07e+04    2.62e+04\n",
      "ind02[T.Insurance carriers and related activities (524)]                                                               1.152e+04   1058.328     10.884      0.000    9444.341    1.36e+04\n",
      "ind02[T.Real estate (531)]                                                                                             8564.8395   1140.378      7.511      0.000    6329.717    1.08e+04\n",
      "ind02[T.Automotive equipment rental and leasing (5321)]                                                                2009.0974   2192.837      0.916      0.360   -2288.827    6307.022\n",
      "ind02[T.Video tape and disk rental (53223)]                                                                           -3759.6987   9377.744     -0.401      0.688   -2.21e+04    1.46e+04\n",
      "ind02[T.Other consumer goods rental (53221, 53222, 53229, 5323)]                                                        464.4952   2470.164      0.188      0.851   -4376.985    5305.975\n",
      "ind02[T.Commercial, industrial, and other intangible assets rental and leasing (5324, 533)]                            1.371e+04   2982.067      4.596      0.000    7860.651    1.96e+04\n",
      "ind02[T.Legal services (5411)]                                                                                         1.968e+04   1309.468     15.027      0.000    1.71e+04    2.22e+04\n",
      "ind02[T.Accounting, tax preparation, bookkeeping, and payroll services (5412)]                                         1.367e+04   1387.158      9.853      0.000    1.09e+04    1.64e+04\n",
      "ind02[T.Architectural, engineering, and related services (5413)]                                                        1.55e+04   1159.654     13.365      0.000    1.32e+04    1.78e+04\n",
      "ind02[T.Specialized design services (5414)]                                                                            6567.6883   2210.301      2.971      0.003    2235.534    1.09e+04\n",
      "ind02[T.Computer systems design and related services (5415)]                                                           2.412e+04   1076.849     22.396      0.000     2.2e+04    2.62e+04\n",
      "ind02[T.Management, scientific, and technical consulting services (5416)]                                              1.994e+04   1333.117     14.954      0.000    1.73e+04    2.25e+04\n",
      "ind02[T.Scientific research and development services (5417)]                                                           1.943e+04   1519.203     12.793      0.000    1.65e+04    2.24e+04\n",
      "ind02[T.Advertising and related services (5418)]                                                                       1.572e+04   1739.343      9.036      0.000    1.23e+04    1.91e+04\n",
      "ind02[T.Veterinary services (54194)]                                                                                   6221.7889   1699.915      3.660      0.000    2889.984    9553.594\n",
      "ind02[T.Other professional, scientific, and technical services (5419 exc. 54194)]                                      1.201e+04   2234.909      5.375      0.000    7633.112    1.64e+04\n",
      "ind02[T.Management of companies and enterprises (551)]                                                                 6591.1401   2095.887      3.145      0.002    2483.236    1.07e+04\n",
      "ind02[T.Employment services (5613)]                                                                                    4965.6131   1319.312      3.764      0.000    2379.783    7551.443\n",
      "ind02[T.Business support services (5614)]                                                                              3031.6183   1398.534      2.168      0.030     290.516    5772.721\n",
      "ind02[T.Travel arrangements and reservation services (5615)]                                                           8051.0310   2118.840      3.800      0.000    3898.139    1.22e+04\n",
      "ind02[T.Investigation and security services (5616)]                                                                     253.2937   1256.557      0.202      0.840   -2209.537    2716.125\n",
      "ind02[T.** Services to buildings and dwellings (5617 exc. 56173)]                                                     -2671.0005   1121.344     -2.382      0.017   -4868.815    -473.186\n",
      "ind02[T.Landscaping services (56173)]                                                                                 -3358.4707   1083.062     -3.101      0.002   -5481.254   -1235.687\n",
      "ind02[T.Other administrative and other support services (5611, 5612, 5619)]                                            3725.8454   1816.992      2.051      0.040     164.571    7287.120\n",
      "ind02[T.Waste management and remediation services (562)]                                                               5355.7644   1461.735      3.664      0.000    2490.789    8220.740\n",
      "ind02[T.Elementary and secondary schools (6111)]                                                                       -210.2206    931.709     -0.226      0.821   -2036.355    1615.913\n",
      "ind02[T.Colleges and universities, including junior colleges (6112, 6113)]                                             7216.1335   1042.025      6.925      0.000    5173.782    9258.485\n",
      "ind02[T.Business, technical, and trade schools and training (6114, 6115)]                                              7517.8662   2966.806      2.534      0.011    1702.976    1.33e+04\n",
      "ind02[T.Other schools, instruction, and educational services (6116, 6117)]                                             7141.0892   1879.166      3.800      0.000    3457.955    1.08e+04\n",
      "ind02[T.Offices of physicians (6211)]                                                                                   1.01e+04   1185.523      8.522      0.000    7779.283    1.24e+04\n",
      "ind02[T.Offices of dentists (6212)]                                                                                    6813.6503   1370.269      4.972      0.000    4127.946    9499.355\n",
      "ind02[T.Offices of chiropractors (62131)]                                                                              2577.9669   3224.458      0.800      0.424   -3741.917    8897.851\n",
      "ind02[T.Offices of optometrists (62132)]                                                                               3308.1682   2417.076      1.369      0.171   -1429.260    8045.597\n",
      "ind02[T.Offices of other health practitioners (6213 exc. 62131, 62132)]                                                4207.0965   2375.298      1.771      0.077    -448.449    8862.642\n",
      "ind02[T.Outpatient care centers (6214)]                                                                                5588.1488   1088.667      5.133      0.000    3454.379    7721.918\n",
      "ind02[T.Home health care services (6216)]                                                                               939.3388   1158.022      0.811      0.417   -1330.365    3209.043\n",
      "ind02[T.Other health care services (6215, 6219)]                                                                       8712.2355   1156.121      7.536      0.000    6446.257     1.1e+04\n",
      "ind02[T.Hospitals (622)]                                                                                                1.06e+04    946.286     11.198      0.000    8741.904    1.25e+04\n",
      "ind02[T.Nursing care facilities (6231)]                                                                                1036.2326   1042.367      0.994      0.320   -1006.789    3079.254\n",
      "ind02[T.Residential care facilities, without nursing (6232, 6233, 6239)]                                               -233.3907   1204.708     -0.194      0.846   -2594.598    2127.816\n",
      "ind02[T.Individual and family services (6241)]                                                                        -1634.6294   1091.044     -1.498      0.134   -3773.058     503.799\n",
      "ind02[T.Community food and housing, and emergency services (6242)]                                                     3247.7903   2944.635      1.103      0.270   -2523.645    9019.225\n",
      "ind02[T.Vocational rehabilitation services (6243)]                                                                    -8985.5856   2418.304     -3.716      0.000   -1.37e+04   -4245.749\n",
      "ind02[T.Child day care services (6244)]                                                                               -3274.1870   1124.280     -2.912      0.004   -5477.758   -1070.616\n",
      "ind02[T.Independent artists, performing arts, spectator sports, and related industries (711)]                          5893.1872   1993.714      2.956      0.003    1985.542    9800.833\n",
      "ind02[T.Museums, art galleries, historical sites, and similar institutions (712)]                                      -564.7850   1879.828     -0.300      0.764   -4249.216    3119.646\n",
      "ind02[T.Bowling centers (71395)]                                                                                      -9251.7862   2828.821     -3.271      0.001   -1.48e+04   -3707.344\n",
      "ind02[T.Other amusement, gambling, and recreation industries (713 exc. 71395)]                                        -1662.9138   1098.714     -1.514      0.130   -3816.374     490.547\n",
      "ind02[T.Traveler accommodation (7211)]                                                                                 -503.2767   1081.619     -0.465      0.642   -2623.232    1616.678\n",
      "ind02[T.Recreational vehicle parks and camps, and rooming and boarding houses (7212, 7213)]                           -4585.9791   2774.507     -1.653      0.098      -1e+04     852.009\n",
      "ind02[T.Restaurants and other food services (722 exc. 7224)]                                                           -428.4812    928.459     -0.461      0.644   -2248.246    1391.284\n",
      "ind02[T.Drinking places, alcoholic beverages (7224)]                                                                  -6454.3321   2174.982     -2.968      0.003   -1.07e+04   -2191.403\n",
      "ind02[T.Automotive repair and maintenance (8111 exc. 811192)]                                                          3374.6340   1130.738      2.984      0.003    1158.407    5590.861\n",
      "ind02[T.Car washes (811192)]                                                                                          -3316.7787   1985.740     -1.670      0.095   -7208.796     575.238\n",
      "ind02[T.Electronic and precision equipment repair and maintenance (8112)]                                              2459.4280   2800.499      0.878      0.380   -3029.503    7948.359\n",
      "ind02[T.Commercial and industrial machinery and equipment repair and maintenance (8113)]                               8307.4220   1887.873      4.400      0.000    4607.222     1.2e+04\n",
      "ind02[T.Personal and household goods repair and maintenance (8114 exc. 81143)]                                         3852.7006   3363.339      1.145      0.252   -2739.387    1.04e+04\n",
      "ind02[T.Barber shops (812111)]                                                                                        -2074.8232   3181.828     -0.652      0.514   -8311.154    4161.507\n",
      "ind02[T.Beauty salons (812112)]                                                                                         979.0842   1338.438      0.732      0.464   -1644.232    3602.401\n",
      "ind02[T.Nail salons and other personal care services (812113, 81219)]                                                  -745.4762   1556.645     -0.479      0.632   -3796.475    2305.523\n",
      "ind02[T.Drycleaning and laundry services (8123)]                                                                      -3464.6542   1830.144     -1.893      0.058   -7051.705     122.397\n",
      "ind02[T.Funeral homes, cemeteries, and crematories (8122)]                                                            -2246.3796   2602.726     -0.863      0.388   -7347.680    2854.921\n",
      "ind02[T.Other personal services (8129)]                                                                                 366.1246   1887.432      0.194      0.846   -3333.210    4065.459\n",
      "ind02[T.Religious organizations (8131)]                                                                               -2519.7490   1383.620     -1.821      0.069   -5231.620     192.122\n",
      "ind02[T.Civic, social, advocacy organizations, and grantmaking and giving services (8132, 8133, 8134)]                 7920.9857   1376.765      5.753      0.000    5222.549    1.06e+04\n",
      "ind02[T.Labor unions (81393)]                                                                                          1.847e+04   3869.656      4.774      0.000    1.09e+04    2.61e+04\n",
      "ind02[T.Business, professional, political, and similar organizations (8139 exc. 81393)]                                1.634e+04   2401.292      6.805      0.000    1.16e+04     2.1e+04\n",
      "ind02[T.Private households (814)]                                                                                     -2844.3465   1449.124     -1.963      0.050   -5684.606      -4.087\n",
      "ind02[T.Executive offices and legislative bodies (92111, 92112, 92114, pt. 92115)]                                     6340.5873   1140.196      5.561      0.000    4105.822    8575.352\n",
      "ind02[T.Public finance activities (92113)]                                                                             1.295e+04   1709.901      7.573      0.000    9598.551    1.63e+04\n",
      "ind02[T.Other general government and support (92119)]                                                                  8285.9524   2481.906      3.339      0.001    3421.459    1.32e+04\n",
      "ind02[T.Justice, public order, and safety activities (922, pt. 92115)]                                                 7818.9343   1019.338      7.671      0.000    5821.048    9816.820\n",
      "ind02[T.Administration of human resource programs (923)]                                                               6027.1037   1210.361      4.980      0.000    3654.816    8399.391\n",
      "ind02[T.Administration of environmental quality and housing programs (924, 925)]                                       8003.7043   1708.872      4.684      0.000    4654.344    1.14e+04\n",
      "ind02[T.Administration of economic programs and space research (926, 927)]                                             1.431e+04   1471.005      9.728      0.000    1.14e+04    1.72e+04\n",
      "ind02[T.National security and international affairs (928)]                                                             1.648e+04   1240.530     13.286      0.000     1.4e+04    1.89e+04\n",
      "ind02[T.Armed Forces]                                                                                                 -5.264e-13    3.6e-13     -1.462      0.144   -1.23e-12    1.79e-13\n",
      "female                                                                                                                -1.098e+04    178.043    -61.672      0.000   -1.13e+04   -1.06e+04\n",
      "age                                                                                                                    2028.7106     35.346     57.395      0.000    1959.432    2097.989\n",
      "age_2                                                                                                                   -18.1035      0.413    -43.868      0.000     -18.912     -17.295\n",
      "==============================================================================\n",
      "Omnibus:                    14330.493   Durbin-Watson:                   1.865\n",
      "Prob(Omnibus):                  0.000   Jarque-Bera (JB):            21302.410\n",
      "Skew:                           0.873   Prob(JB):                         0.00\n",
      "Kurtosis:                       4.060   Cond. No.                     1.16e+16\n",
      "==============================================================================\n",
      "\n",
      "Notes:\n",
      "[1] Standard Errors are heteroscedasticity robust (HC3)\n",
      "[2] The smallest eigenvalue is 4.93e-21. This might indicate that there are\n",
      "strong multicollinearity problems or that the design matrix is singular.\n"
     ]
    }
   ],
   "source": [
    "import warnings\n",
    "warnings.simplefilter('ignore')\n",
    "model4 = smf.ols(\n",
    "    \"annual_earnings ~ female + age + age_2 + high_school + BA  + ind02\", morg18\n",
    ").fit()\n",
    "print(model4.get_robustcov_results(\"HC3\").summary())"
   ]
  },
  {
   "cell_type": "code",
   "execution_count": 53,
   "metadata": {},
   "outputs": [
    {
     "name": "stdout",
     "output_type": "stream",
     "text": [
      "\n",
      "The difference in earnings between male and woman, controled by age, completion of high school, having at least\n",
      " a BA and industry job is -$10,980\n"
     ]
    }
   ],
   "source": [
    "earnings_difference_controled_by_age_education = model4.params[\"female\"]\n",
    "\n",
    "print(\n",
    "    f\"\\nThe difference in earnings between male and woman, controled by age, completion of high school, having at least\\n a BA and industry job is -${-earnings_difference_controled_by_age_education:,.0f}\"\n",
    ")"
   ]
  },
  {
   "cell_type": "markdown",
   "metadata": {},
   "source": [
    "## Exercise 13\n",
    "\n",
    "Now that we've added industry fixed effects, what groups are we implicitly treated as counter-factuals for one another now? "
   ]
  },
  {
   "cell_type": "markdown",
   "metadata": {},
   "source": [
    "> Regarding the interpretation of the 'female' coefficient, we are contrasting women with men, presuming that both cohorts share comparable age distributions, educational backgrounds, and occupations within the same industry."
   ]
  },
  {
   "cell_type": "markdown",
   "metadata": {},
   "source": [
    "## Exercise 14\n",
    "\n",
    "What happened to your estimate of the gender wage gap when you added industry fixed effects? What does that tell you about the industries chosen by women as opposed to men?"
   ]
  },
  {
   "cell_type": "markdown",
   "metadata": {},
   "source": [
    "> When we added industry as a control variable to our model, we saw a decrease in the gender wage gap from -$13,039 to -$10,980. This suggests that controlling for industry results in a reduction in the wage gap between men and women. Therefore, industries where women are represented tend to have lower wages compared to those where men predominate. In other words, this change in the wage gap estimation implies that there are systematic differences in wages between industries preferred by men and women."
   ]
  },
  {
   "attachments": {},
   "cell_type": "markdown",
   "metadata": {},
   "source": [
    "When you're done, please come read [this discussion](discussion_regressions_incomeineq.ipynb)."
   ]
  }
 ],
 "metadata": {
  "kernelspec": {
   "display_name": "base",
   "language": "python",
   "name": "python3"
  },
  "language_info": {
   "codemirror_mode": {
    "name": "ipython",
    "version": 3
   },
   "file_extension": ".py",
   "mimetype": "text/x-python",
   "name": "python",
   "nbconvert_exporter": "python",
   "pygments_lexer": "ipython3",
   "version": "3.11.5"
  },
  "vscode": {
   "interpreter": {
    "hash": "718fed28bf9f8c7851519acf2fb923cd655120b36de3b67253eeb0428bd33d2d"
   }
  }
 },
 "nbformat": 4,
 "nbformat_minor": 4
}
