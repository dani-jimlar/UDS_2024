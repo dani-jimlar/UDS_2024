{
 "cells": [
  {
   "cell_type": "markdown",
   "metadata": {},
   "source": [
    "# Power Calculations and Experiment Planning\n",
    "\n",
    "When you read about them in a book, power calculations can feel very abstract. To make the concept more concrete, and to give you a chance to familiarize yourself with power calculation tools and the considerations that go into power calculations, in this exercise you will play the role of an experiment planner hired by a Non-Governmental Organization (NGO) named [Bandhan](https://www.bandhan.org/) in West Bengal, India. Bandhan is planning to roll out a program that provides livestock, cash, and some basic training to households in extreme poverty. They hope to demonstrate the value of cash and asset transfers, and so wish their program to take the form of a randomized experiment, with data being collected on both control and treatment households.\n",
    "\n",
    "Your job will be to help them estimate how many households they should enroll in the program.\n",
    "\n",
    "This was, in fact, a real program, and so the data you will be working with comes from the actual program (conducted in 2007, with followup data collection in 2010, 2017, and 2020), allowing us to do some retrospective comparison of your power calculations and what actually occurred."
   ]
  },
  {
   "cell_type": "markdown",
   "metadata": {},
   "source": [
    "## The Context\n",
    "\n",
    "> Development economics has long posited that the poor may be poor for no good reason other than the fact that they started poor. This is the idea of a poverty trap, which has the implication that a one-time capital grant that makes very poor households significantly less poor (\"big push\") might set off a virtuous cycle that takes them out of poverty. Forty-three countries now embrace some version of this idea and make large transfers to over 3.1 million of their poorest households. In particular, the \"Targeting the Ultra Poor\" (TUP) intervention, pioneered by BRAC in Bangladesh, employs a multifaceted approach, offering poor households an asset transfer, consumption support, savings, and training in the hopes of unlocking a poverty trap.\n",
    "\n",
    "- [*Long-Term Effects of the Targeting the Ultra Poor Program*](https://economics.mit.edu/research/publications/long-term-effects-targeting-ultra-poor-program), Abhijit Banerjee, Esther Duflo, and Garima Sharma, 2021.\n",
    "\n",
    "In 2007, Bandhan in West Bengal, India created a pilot program to provide direct, unconditional transfers of productive livestock and a 30 or 40 week stipend of 90 rupees a week (about 7 US dollars a week using the [Purchasing Power Parity (PPP)](https://en.wikipedia.org/wiki/Purchasing_power_parity) exchange rate). The program targeted the poorest households in these villages based on range of criteria, and the average eligible household was later estimated to have a consumption level of about 1.35 2018 US Dollars per capita per day in PPP terms $.^1$\n",
    "\n",
    "Because the goal of the program was, in significant part, to demonstrate the effect of direct asset transfers, Bandhan identified twice as many eligible households as it could support in the pilot and randomly selected half of the households to act as controls and half to be treated $.^2$ Treated households were offered assets from a menu of options, from the most common choice was productive livestock (e.g., cows and goats). $^3$ Bandhan's contact with the households came to an end 18 months after the households were initially provided their livestock and cash transfers began.\n",
    "\n",
    "Although data was collected on a huge range of attributes of the households in this program, our focus will be on per capita household expenditures in 2018 US Dollars (PPP). \n",
    "\n",
    "(Note that these households certainly were not buying their food with dollars, and in most cases they weren't even buying most of their food with rupees — consumption estimates in this type of study are calculated by collecting detailed data on what household members have consumed in the past week, then estimating the price one would pay to buy those goods in local markets and using [PPP conversion rates](https://en.wikipedia.org/wiki/Purchasing_power_parity) conversion rates to convert that into US Dollars).\n"
   ]
  },
  {
   "cell_type": "code",
   "execution_count": 1,
   "metadata": {},
   "outputs": [],
   "source": [
    "import pandas as pd\n",
    "import warnings\n",
    "\n",
    "warnings.filterwarnings(\"ignore\")"
   ]
  },
  {
   "cell_type": "markdown",
   "metadata": {},
   "source": [
    "\n",
    "## Exercises\n",
    "\n",
    "### Exercise 1\n",
    "\n",
    "Load a thinned version of household-level survey data from [Banerjee, Duflo, and Sharma (2021)'s](https://economics.mit.edu/research/publications/long-term-effects-targeting-ultra-poor-program) evaluation of the Bandham program [here](https://github.com/nickeubank/MIDS_Data/tree/master/cash_transfers). \n",
    "\n",
    "This is just a version of the replication data for that paper ([which can be found here](https://www.openicpsr.org/openicpsr/project/130362)) with only the variables that are relevant for our analysis."
   ]
  },
  {
   "cell_type": "code",
   "execution_count": 2,
   "metadata": {},
   "outputs": [],
   "source": [
    "house_data = pd.read_csv(\n",
    "    \"https://media.githubusercontent.com/media/nickeubank/MIDS_Data/master/cash_transfers/TUP_cash_transfers.csv\"\n",
    ")"
   ]
  },
  {
   "cell_type": "code",
   "execution_count": 3,
   "metadata": {},
   "outputs": [
    {
     "data": {
      "text/html": [
       "<div>\n",
       "<style scoped>\n",
       "    .dataframe tbody tr th:only-of-type {\n",
       "        vertical-align: middle;\n",
       "    }\n",
       "\n",
       "    .dataframe tbody tr th {\n",
       "        vertical-align: top;\n",
       "    }\n",
       "\n",
       "    .dataframe thead th {\n",
       "        text-align: right;\n",
       "    }\n",
       "</style>\n",
       "<table border=\"1\" class=\"dataframe\">\n",
       "  <thead>\n",
       "    <tr style=\"text-align: right;\">\n",
       "      <th></th>\n",
       "      <th>treatment</th>\n",
       "      <th>pc_exp_month_bl</th>\n",
       "      <th>pc_exp_month_el1</th>\n",
       "      <th>pc_exp_month_el2</th>\n",
       "      <th>pc_exp_month_el3</th>\n",
       "    </tr>\n",
       "  </thead>\n",
       "  <tbody>\n",
       "    <tr>\n",
       "      <th>0</th>\n",
       "      <td>0</td>\n",
       "      <td>37.152084</td>\n",
       "      <td>41.816093</td>\n",
       "      <td>50.286613</td>\n",
       "      <td>60.728490</td>\n",
       "    </tr>\n",
       "    <tr>\n",
       "      <th>1</th>\n",
       "      <td>0</td>\n",
       "      <td>19.388021</td>\n",
       "      <td>27.816334</td>\n",
       "      <td>47.899952</td>\n",
       "      <td>88.277290</td>\n",
       "    </tr>\n",
       "    <tr>\n",
       "      <th>2</th>\n",
       "      <td>1</td>\n",
       "      <td>33.698770</td>\n",
       "      <td>58.222298</td>\n",
       "      <td>69.547070</td>\n",
       "      <td>69.601420</td>\n",
       "    </tr>\n",
       "    <tr>\n",
       "      <th>3</th>\n",
       "      <td>0</td>\n",
       "      <td>26.839483</td>\n",
       "      <td>NaN</td>\n",
       "      <td>NaN</td>\n",
       "      <td>48.802390</td>\n",
       "    </tr>\n",
       "    <tr>\n",
       "      <th>4</th>\n",
       "      <td>1</td>\n",
       "      <td>43.763836</td>\n",
       "      <td>45.879470</td>\n",
       "      <td>71.511020</td>\n",
       "      <td>30.258686</td>\n",
       "    </tr>\n",
       "  </tbody>\n",
       "</table>\n",
       "</div>"
      ],
      "text/plain": [
       "   treatment  pc_exp_month_bl  pc_exp_month_el1  pc_exp_month_el2  \\\n",
       "0          0        37.152084         41.816093         50.286613   \n",
       "1          0        19.388021         27.816334         47.899952   \n",
       "2          1        33.698770         58.222298         69.547070   \n",
       "3          0        26.839483               NaN               NaN   \n",
       "4          1        43.763836         45.879470         71.511020   \n",
       "\n",
       "   pc_exp_month_el3  \n",
       "0         60.728490  \n",
       "1         88.277290  \n",
       "2         69.601420  \n",
       "3         48.802390  \n",
       "4         30.258686  "
      ]
     },
     "execution_count": 3,
     "metadata": {},
     "output_type": "execute_result"
    }
   ],
   "source": [
    "house_data.head()"
   ]
  },
  {
   "cell_type": "markdown",
   "metadata": {},
   "source": [
    "### Exercise 2\n",
    "\n",
    "The first step in doing any power calculations is to establish an estimate of the baseline level of variation that exists in the dependent variable you wish to study. In this case, that variable is Per Capita Monthly Expenditures, and the baseline survey values of expenditures are in `pc_exp_month_bl` (the `_bl` stands for \"baseline\", meaning this data was collected prior to any households receiving asset transfers and indeed any households being assigned to treatment or control).\n",
    "\n",
    "What is the mean and standard deviation of `pc_exp_month_bl` in the baseline survey? Divide by 30 to confirm our average household has the expected per capita expenditure level of about US Dollar 1.35 (PPP) a day.\n",
    "\n",
    "You'll use these quantites a lot, so assign them to variables."
   ]
  },
  {
   "cell_type": "code",
   "execution_count": 4,
   "metadata": {},
   "outputs": [
    {
     "name": "stdout",
     "output_type": "stream",
     "text": [
      "The average baseline is 40.74 and the standard deviation is 24.26\n",
      "The average baseline per day is 1.36\n"
     ]
    }
   ],
   "source": [
    "# Finding the mean and sd of baseline survey\n",
    "\n",
    "average_baseline = round(house_data[\"pc_exp_month_bl\"].mean(), 2)\n",
    "sd_baseline = round(house_data[\"pc_exp_month_bl\"].std(), 2)\n",
    "\n",
    "# Sanity check: Division by 30\n",
    "average_baseline_per_day = round((average_baseline / 30), 2)\n",
    "\n",
    "print(\n",
    "    f\"The average baseline is {average_baseline} and the standard deviation is {sd_baseline}\"\n",
    ")\n",
    "print(f\"The average baseline per day is {average_baseline_per_day}\")"
   ]
  },
  {
   "cell_type": "markdown",
   "metadata": {},
   "source": [
    "### Exercise 3\n",
    "\n",
    "For these exercises, we'll use the `power` module in `statsmodels`. [You can read about it here.](https://www.statsmodels.org/stable/stats.html#power-and-sample-size-calculations)\n",
    "\n",
    "Since we're comparing means in a continuous variable (expenditures) from two samples of households, we will use `TTestIndPower` in `statsmodels.stats.power`. Import this class and instantiate a new instance (for some reason this is class based, so you have to start of with a command like `my_power = TTestIndPower()`). \n",
    "\n",
    "Note that a common situation in data science is testing a difference in *proportions* between groups (e.g., across treatment arms). This situation arises when your dependent variable is binary, and so each group's mean is just the share of observations for whom the binary variable is 1. This comes up a lot with apps and websites — e.g., \"clicked an ad,\" \"subscribed,\" \"made a purchase.\" \n",
    "\n",
    "For that reason, there's actually a full sub-class of power calculating tools for [proportions you should be aware of.](https://www.statsmodels.org/stable/stats.html#proportion) Basically, because the standard deviation of a binary variable is just $\\sqrt{p * (1-p)}$, power calculations become really simple. For example, you may wish to identify the sample size required to get confidence intervals of a given size using a tool like [confint_proportions_2indep](https://www.statsmodels.org/stable/generated/statsmodels.stats.proportion.confint_proportions_2indep.html#statsmodels.stats.proportion.confint_proportions_2indep).\n",
    "\n",
    "But the most common use of a power test remains evaluating whether one can reject a null hypothesis of no effect, so we'll start with that here."
   ]
  },
  {
   "cell_type": "code",
   "execution_count": 5,
   "metadata": {},
   "outputs": [],
   "source": [
    "# Importing the power module from statsmodels\n",
    "from statsmodels.stats import power\n",
    "from statsmodels.stats.power import TTestIndPower\n",
    "\n",
    "# Instantiating the TTestIndPower class\n",
    "power_analysis = TTestIndPower()"
   ]
  },
  {
   "cell_type": "markdown",
   "metadata": {},
   "source": [
    "### Exercise 4\n",
    "\n",
    "[TTestIndPower has three methods](https://www.statsmodels.org/stable/generated/statsmodels.stats.power.TTestIndPower.html#statsmodels.stats.power.TTestIndPower) — `plot_power`, `power`, and `solve_power` — but `solve_power` does everything `power` does, so there are basically two methods.\n",
    "\n",
    "The idea of `solve_power` is that you give it all but one parameter of a power calculation — minimum detectable effect, number of observations, power, and p-value $\\alpha$ threshold — and it will solve for the omitted variable.\n",
    "\n",
    "To get a quick flavor for how this works, set: \n",
    "\n",
    "- Minimal Detectable Effect (`effect_size`) to `0.5` (we'll take about the units of that argument soon), \n",
    "- `alpha` to `0.05`, \n",
    "- `ratio` to `1` (this is the ratio of between the number of observations being treated and the number in control — in this study, the target was to have these be equal, as that provides the best statistical power for a given total number of observations).\n",
    "- `power` to `0.8`\n",
    "- `alternative` to `two-sided` (we want to do a two-tailed t-test, as you could imagine social unrest caused by transfers could make people worse off).\n",
    "- `nobs1` to `None`. By passing `None`, we're telling `solve_power` this is the quantity we want it to solve for.\n",
    "\n",
    "So in other words, we're asking:\n",
    "\n",
    "- how many observations do we need to have in the treatment arm,\n",
    "- assuming we'll have the same number also in the control arm,\n",
    "- to have an 80% chance\n",
    "- of rejecting the null hypothesis of no-effect at a significance threshold of 0.05\n",
    "- if the true effect is of size 0.5?\n",
    "\n",
    "What's the answer?"
   ]
  },
  {
   "cell_type": "code",
   "execution_count": 6,
   "metadata": {},
   "outputs": [
    {
     "name": "stdout",
     "output_type": "stream",
     "text": [
      "The required sample size is 63.77\n"
     ]
    }
   ],
   "source": [
    "# Setting the parameters for the analysis\n",
    "effect_size = 0.5\n",
    "alpha = 0.05\n",
    "ratio = 1\n",
    "power = 0.8\n",
    "alternative = \"two-sided\"\n",
    "nobs1 = None\n",
    "\n",
    "# Solving for the number of observations needed\n",
    "sample_size = power_analysis.solve_power(\n",
    "    effect_size=effect_size,\n",
    "    power=power,\n",
    "    alpha=alpha,\n",
    "    ratio=ratio,\n",
    "    alternative=alternative,\n",
    ")\n",
    "\n",
    "print(f\"The required sample size is {sample_size:.2f}\")"
   ]
  },
  {
   "cell_type": "markdown",
   "metadata": {},
   "source": [
    "### Answer 4:\n",
    "> From the above power calculations, we need a total of 64 (rounded up) households in the study to have an 80% chance of rejecting the null hypothesis of no effect at a significance threshold of 0.05 if the true effect is of size 0.5."
   ]
  },
  {
   "cell_type": "markdown",
   "metadata": {},
   "source": [
    "### Exercise 5\n",
    "\n",
    "Of all these quantities, perhaps the most obscure is the Minimal Detectable Effect (`effect_size`). What is this 0.5? Where did it come from? And how did you do all that without telling it that standard deviation you had me calculate?\n",
    "\n",
    "If you check the docs for `solve_power`, you'll see that you're supposed to pass `effect_size` the \"standardized effect size, difference between the two means divided by the standard deviation. `effect_size` has to be positive.\"\n",
    "\n",
    "In other words, when we passed 0.5, we weren't saying we wanted to be able to detect an effect of 0.5 2018 US Dollars (PPP) per capita per month, we were saying we wanted to detect an effect of 1/2 standard deviation. \n",
    "\n",
    "Given the standard deviation in our baseline survey was about 24 Dollars, that means we were saying we wanted to detect an effect size of about 12 US Dollars. \n",
    "\n",
    "Is that a lot? Well, the average per capita monthly expenditures in the baseline survey was about 41 Dollars, so it's an increase in expenditures of about 25%. \n",
    "\n",
    "OK, but is that what we should use?\n",
    "\n",
    "Well, the idea of a Minimal Detectable Effect is that you want to set it at a level where (a) if this *was* the real effect when you rejected the null, you'd be happy you did the experiment and, presumably, would be comfortable scaling up the treatment, but also (b) if the true effect were any smaller, you wouldn't want to reject the null hypothesis and scale up the treatment.\n",
    "\n",
    "Basically, if you set this too high, you may run an under-powered experiment where you miss out on learning that your treatment was effective; if you set this too low, you're spending time and money collecting more data than is probably necessary given you might reject the null at a point estimate where you still wouldn't scale up the treatment.\n",
    "\n",
    "So what value makes sense here? That's a question you'd want to start off by asking the stakeholders. Since Bandhan wants to use this to promote cash transfers, they probably need the effect to be relatively large to be convincing. Let's assume that, three years after the intervention, they feel they need to show that incomes have increased by at least 30%. \n",
    "\n",
    "What value does that imply should be passed to `effect_size`? What is the new implied number of treated households they'll need? How many households total?"
   ]
  },
  {
   "cell_type": "code",
   "execution_count": 13,
   "metadata": {},
   "outputs": [
    {
     "name": "stdout",
     "output_type": "stream",
     "text": [
      "The desired increase in income is $12.22, that is, a total average income of $52.96\n",
      "The new effect size is 0.504\n"
     ]
    }
   ],
   "source": [
    "# Calculating the desired increase in income\n",
    "desired_increase = 0.3 * average_baseline\n",
    "total_increase = average_baseline + desired_increase\n",
    "\n",
    "print(\n",
    "    f\"The desired increase in income is ${desired_increase:.2f}, that is, a total average income of ${total_increase:.2f}\"\n",
    ")\n",
    "\n",
    "# Calculating the effect size\n",
    "effect_size_2 = desired_increase / sd_baseline\n",
    "print(f\"The new effect size is {effect_size_2:.3f}\")"
   ]
  },
  {
   "cell_type": "code",
   "execution_count": 15,
   "metadata": {},
   "outputs": [
    {
     "name": "stdout",
     "output_type": "stream",
     "text": [
      "The required sample size for the desired increase of income is: 62.82\n"
     ]
    }
   ],
   "source": [
    "effect_size = effect_size_2\n",
    "alpha = 0.05\n",
    "ratio = 1\n",
    "power = 0.8\n",
    "alternative = \"two-sided\"\n",
    "nobs1 = None\n",
    "\n",
    "# Solving for the number of observations needed\n",
    "sample_size_2 = power_analysis.solve_power(\n",
    "    effect_size=effect_size,\n",
    "    power=power,\n",
    "    alpha=alpha,\n",
    "    ratio=ratio,\n",
    "    alternative=alternative,\n",
    ")\n",
    "\n",
    "print(\n",
    "    f\"The required sample size for the desired increase of income is: {sample_size_2:.2f}\"\n",
    ")"
   ]
  },
  {
   "cell_type": "markdown",
   "metadata": {},
   "source": [
    "### Answer 5:\n",
    "> *Effect Size*: The effect size calculated based on the 30% increase in income is 0.504. \n",
    "\n",
    "> *Number of Treated Households*: The effect size calculated leaves all the calculations for power the same, and therefore, the number of treated households required is 63.\n",
    "\n",
    "> *Total Number of Households*: The total number of households required is 126 (63*2), which is the finding from the power calculations. "
   ]
  },
  {
   "cell_type": "markdown",
   "metadata": {},
   "source": [
    "### Exercise 6\n",
    "\n",
    "Let's also suppose that because Bandhan really wants to sell their result, they also want to ensure no one claims it might have arisen by chance. What parameter would you adjust, and in what direction? Try modifying it and get a new observation requirement (can you predict what the change in num of observations will be before you do it?)."
   ]
  },
  {
   "cell_type": "markdown",
   "metadata": {},
   "source": [
    "> To ensure that no one claims that the result might have arisen by chance, we would adjust the significance threshold, $\\alpha$. We would decrease the significance threshold to 0.01. We predict that the number of observations required will increase as we decrease the significance threshold."
   ]
  },
  {
   "cell_type": "code",
   "execution_count": 102,
   "metadata": {},
   "outputs": [
    {
     "name": "stdout",
     "output_type": "stream",
     "text": [
      "The required treatment sample size with alpha = 0.01 is 93.70\n"
     ]
    }
   ],
   "source": [
    "# Setting the parameters for the analysis\n",
    "\n",
    "effect_size = effect_size_2\n",
    "alpha = 0.01  # Adjusting alpha to 0.01\n",
    "ratio = 1\n",
    "power = 0.8\n",
    "alternative = \"two-sided\"\n",
    "nobs1 = None\n",
    "\n",
    "# Solving for the number of observations needed with adjusted alpha\n",
    "new_sample_size = power_analysis.solve_power(\n",
    "    effect_size=effect_size,\n",
    "    power=power,\n",
    "    alpha=alpha,\n",
    "    ratio=ratio,\n",
    "    alternative=alternative,\n",
    ")\n",
    "\n",
    "print(f\"The required treatment sample size with alpha = 0.01 is {new_sample_size:.2f}\")"
   ]
  },
  {
   "cell_type": "markdown",
   "metadata": {},
   "source": [
    "> As seen above the treatment sample size required has gone up from 62.88 (~63) to 93.70 (~94), where the totla number of households then increases from 126 to 188. As previously mentioned, this is because we increased the threshold for significance, which means we need more observations to be able to reject the null hypothesis."
   ]
  },
  {
   "cell_type": "markdown",
   "metadata": {},
   "source": [
    "### Exercise 7\n",
    "\n",
    "Now suppose that your stakeholder is budget constrained to only being able to enroll a total of 100 (50 in each arm). Assuming an alpha of `0.05` and a power of `0.8`, what is their minimal detectable effect size (in dollars)?"
   ]
  },
  {
   "cell_type": "code",
   "execution_count": 19,
   "metadata": {},
   "outputs": [
    {
     "name": "stdout",
     "output_type": "stream",
     "text": [
      "The effect size with a sample size of 100 is 0.57\n",
      "The minimal detectable effect size is $13.73\n"
     ]
    }
   ],
   "source": [
    "# Setting the parameters for the analysis\n",
    "\n",
    "effect_size = None  # Setting to none to calculate the effect size\n",
    "alpha = 0.05\n",
    "power = 0.8\n",
    "alternative = \"two-sided\"\n",
    "nobs1 = 50  # Setting the number of observations in group to 50 for a total of 100\n",
    "\n",
    "# Solving for the number of observations needed with adjusted alpha\n",
    "new_sample_size_effect = power_analysis.solve_power(\n",
    "    effect_size=effect_size,\n",
    "    power=power,\n",
    "    alpha=alpha,\n",
    "    alternative=alternative,\n",
    "    nobs1=nobs1,\n",
    ")\n",
    "\n",
    "print(f\"The effect size with a sample size of 100 is {new_sample_size_effect:.2f}\")\n",
    "\n",
    "# Calculating the minimal detectable effect size (in dollars)\n",
    "min_detectable_effect = sd_baseline * new_sample_size_effect\n",
    "print(f\"The minimal detectable effect size is ${min_detectable_effect:.2f}\")"
   ]
  },
  {
   "cell_type": "markdown",
   "metadata": {},
   "source": [
    "### Answer 7:\n",
    "> From the above calculations, if we assume that the researchers have a constraint of enrolling a total of 100 households, then the effect size is 0.57 for that limit. This means that the researchers would need to detect an effect size of 0.57 to be able to reject the null hypothesis at a significance threshold of 0.05 and a power of 0.8. In terms of the minimal detectable effect size, this would be 0.57 * 24 = 13.73 US Dollars."
   ]
  },
  {
   "cell_type": "markdown",
   "metadata": {},
   "source": [
    "### Exercise 8\n",
    "\n",
    "Suppose your stakeholder wants to see a few different scenarios to see how different experiment sizes would impact power given different effect sizes. Let's use `plot_power`. Pass it an array of treatment arm observation counts you want evaluated (I'd recommend `np.arange()`) between 20 and 100, along with effect sizes of 0.2, 0.4, and 0.6 (again, use `np.arange()`).\n",
    "\n",
    "If the stakeholder decided they wanted power above 90% — they're only gonna get a chance to do this once, after all! — what kind of sample size would they need with a minimal detectable effect size of 0.6? (Approximately).\n",
    "\n",
    "You may need to check the docs to figure out how to use it."
   ]
  },
  {
   "cell_type": "code",
   "execution_count": 25,
   "metadata": {},
   "outputs": [
    {
     "data": {
      "text/plain": [
       "<Figure size 1000x600 with 0 Axes>"
      ]
     },
     "metadata": {},
     "output_type": "display_data"
    },
    {
     "data": {
      "image/png": "[encoded data removed]",
      "text/plain": [
       "<Figure size 640x480 with 1 Axes>"
      ]
     },
     "metadata": {},
     "output_type": "display_data"
    },
    {
     "name": "stdout",
     "output_type": "stream",
     "text": [
      "The treatment sample size needed for 90% power with an effect size of 0.6 is approximately 59.35\n"
     ]
    }
   ],
   "source": [
    "# Importing necessary libraries\n",
    "import numpy as np\n",
    "import matplotlib.pyplot as plt\n",
    "\n",
    "# Making an array of sample sizes for treatment arm\n",
    "sample_sizes = np.arange(20, 101, 10)\n",
    "\n",
    "# Making an array for effect sizes\n",
    "effect_sizes = np.arange(0.2, 0.7, 0.2)\n",
    "\n",
    "# Plot power for different scenarios\n",
    "plt.figure(figsize=(10, 6))\n",
    "\n",
    "power_analysis.plot_power(\n",
    "    dep_var=\"nobs\",\n",
    "    nobs=sample_sizes,\n",
    "    effect_size=effect_sizes,\n",
    "    alpha=0.05,\n",
    "    title=f\"Power Analysis (Effect Size = {effect_size})\",\n",
    ")\n",
    "\n",
    "# Add a horizontal line for 90% power\n",
    "plt.axhline(y=0.9, color=\"r\", linestyle=\"--\", label=\"Power = 0.9\")\n",
    "plt.legend()\n",
    "plt.xlabel(\"Sample Size\")\n",
    "plt.ylabel(\"Power\")\n",
    "plt.title(\"Power Analysis for Different Sample Sizes and Effect Sizes\")\n",
    "plt.grid(True)\n",
    "plt.show()\n",
    "\n",
    "# Calculate the sample size needed for 90% power with an effect size of 0.6\n",
    "required_sample_size = power_analysis.solve_power(\n",
    "    effect_size=0.6, power=0.9, alpha=0.05, alternative=\"two-sided\"\n",
    ")\n",
    "\n",
    "print(\n",
    "    f\"The treatment sample size needed for 90% power with an effect size of 0.6 is approximately {required_sample_size:.2f}\"\n",
    ")"
   ]
  },
  {
   "cell_type": "markdown",
   "metadata": {},
   "source": [
    "### Answer 8:\n",
    "> From the graph and calculations above, we can see that the treatment sample size needed for a power of 90% with a minimal detectable effect size of 0.6 is approximately 60 households, so the total number of household needed for the experiment would be 120."
   ]
  },
  {
   "cell_type": "markdown",
   "metadata": {},
   "source": [
    "## Extra Credit Extension"
   ]
  },
  {
   "cell_type": "markdown",
   "metadata": {},
   "source": [
    "### Exercise 9\n",
    "\n",
    "As noted above, this study actually was conducted, so we know the actual treatment effect. Calculate that treatment effect 3 years after these families first received asset transfers by calculating the difference in `pc_exp_month_el2` between the `treatment == 1` and `treatment == 0` groups.\n"
   ]
  },
  {
   "cell_type": "code",
   "execution_count": 38,
   "metadata": {},
   "outputs": [
    {
     "name": "stdout",
     "output_type": "stream",
     "text": [
      "The treatment effect after the families received asset transfers was $6.15, where the per capita expeditures in households \n",
      "that received the treatment was $67.55, and on households who did not was $61.40 \n"
     ]
    }
   ],
   "source": [
    "mean_con = house_data[house_data[\"treatment\"] == 0][\"pc_exp_month_el2\"].mean()\n",
    "mean_treat = house_data[house_data[\"treatment\"] == 1][\"pc_exp_month_el2\"].mean()\n",
    "mean_diff = mean_treat - mean_con\n",
    "print(\n",
    "    f\"The treatment effect after the families received asset transfers was ${mean_diff:.2f}, where the per capita expeditures in households \\nthat received the treatment was ${mean_treat:.2f}, and on households who did not was ${mean_con:.2f} \"\n",
    ")"
   ]
  },
  {
   "cell_type": "markdown",
   "metadata": {},
   "source": [
    "### Exercise 10\n",
    "\n",
    "What was the statistical power of the actual test? That is, what was the probability, given this effect size and the number of observations in the study, that they would reject the null hypothesis of no effect at alpha=0.05 and given the actual final sample sizes?"
   ]
  },
  {
   "cell_type": "code",
   "execution_count": 79,
   "metadata": {},
   "outputs": [
    {
     "name": "stdout",
     "output_type": "stream",
     "text": [
      "Treatment group\n",
      " Sample Size: 462\n",
      " Standard Deviation: $31.19\n",
      "Control group\n",
      " Sample Size: 405\n",
      " Standard Deviation: $28.50\n",
      "The standarized effect size is: 0.21\n",
      "The statistical power (prob of rejecting the null hypothesis at alpha 0.05): 0.8958\n"
     ]
    }
   ],
   "source": [
    "# calculate arms sizes\n",
    "treat_ss = house_data[\n",
    "    (house_data[\"treatment\"] == 1) & (house_data[\"pc_exp_month_el2\"].notnull())\n",
    "].shape[0]\n",
    "con_ss = house_data[\n",
    "    (house_data[\"treatment\"] == 0) & (house_data[\"pc_exp_month_el2\"].notnull())\n",
    "].shape[0]\n",
    "\n",
    "# calculate pooled std\n",
    "treat_std = house_data[house_data[\"treatment\"] == 1][\"pc_exp_month_el2\"].dropna().std()\n",
    "con_std = house_data[house_data[\"treatment\"] == 0][\"pc_exp_month_el2\"].dropna().std()\n",
    "\n",
    "pool_std = np.sqrt(\n",
    "    ((treat_ss - 1) * treat_std**2 + (con_ss - 1) * con_std**2)\n",
    "    / (treat_ss + con_ss - 2)\n",
    ")\n",
    "\n",
    "# calculate standarized effect size\n",
    "effect_size_3y = mean_diff / pool_std\n",
    "\n",
    "\n",
    "# calculate statistical power\n",
    "test_power_3y = power_analysis.solve_power(\n",
    "    effect_size=effect_size_3y,\n",
    "    power=None,\n",
    "    alpha=0.05,\n",
    "    alternative=\"two-sided\",\n",
    "    nobs1=treat_ss,\n",
    "    ratio=treat_ss / con_ss,\n",
    ")\n",
    "test_power_3y\n",
    "\n",
    "\n",
    "print(\n",
    "    f\"Treatment group\\n Sample Size: {treat_ss}\\n Standard Deviation: ${treat_std:.2f}\"\n",
    ")\n",
    "print(f\"Control group\\n Sample Size: {con_ss}\\n Standard Deviation: ${con_std:.2f}\")\n",
    "print(f\"The standarized effect size is: {effect_size_3y:.2f}\")\n",
    "print(\n",
    "    f\"The statistical power (prob of rejecting the null hypothesis at alpha 0.05): {test_power_3y:.4f}\"\n",
    ")"
   ]
  },
  {
   "cell_type": "code",
   "execution_count": 88,
   "metadata": {},
   "outputs": [
    {
     "data": {
      "text/html": [
       "<div>\n",
       "<style scoped>\n",
       "    .dataframe tbody tr th:only-of-type {\n",
       "        vertical-align: middle;\n",
       "    }\n",
       "\n",
       "    .dataframe tbody tr th {\n",
       "        vertical-align: top;\n",
       "    }\n",
       "\n",
       "    .dataframe thead th {\n",
       "        text-align: right;\n",
       "    }\n",
       "</style>\n",
       "<table border=\"1\" class=\"dataframe\">\n",
       "  <thead>\n",
       "    <tr style=\"text-align: right;\">\n",
       "      <th></th>\n",
       "      <th>treatment</th>\n",
       "      <th>pc_exp_month_bl</th>\n",
       "      <th>pc_exp_month_el1</th>\n",
       "      <th>pc_exp_month_el2</th>\n",
       "      <th>pc_exp_month_el3</th>\n",
       "    </tr>\n",
       "  </thead>\n",
       "  <tbody>\n",
       "    <tr>\n",
       "      <th>2</th>\n",
       "      <td>1</td>\n",
       "      <td>33.698770</td>\n",
       "      <td>58.222298</td>\n",
       "      <td>69.547070</td>\n",
       "      <td>69.601420</td>\n",
       "    </tr>\n",
       "    <tr>\n",
       "      <th>4</th>\n",
       "      <td>1</td>\n",
       "      <td>43.763836</td>\n",
       "      <td>45.879470</td>\n",
       "      <td>71.511020</td>\n",
       "      <td>30.258686</td>\n",
       "    </tr>\n",
       "    <tr>\n",
       "      <th>5</th>\n",
       "      <td>1</td>\n",
       "      <td>45.694580</td>\n",
       "      <td>72.856390</td>\n",
       "      <td>80.526855</td>\n",
       "      <td>9.856122</td>\n",
       "    </tr>\n",
       "    <tr>\n",
       "      <th>8</th>\n",
       "      <td>1</td>\n",
       "      <td>23.182852</td>\n",
       "      <td>58.473553</td>\n",
       "      <td>52.502888</td>\n",
       "      <td>135.574770</td>\n",
       "    </tr>\n",
       "    <tr>\n",
       "      <th>9</th>\n",
       "      <td>1</td>\n",
       "      <td>28.170696</td>\n",
       "      <td>71.390750</td>\n",
       "      <td>46.684696</td>\n",
       "      <td>57.891430</td>\n",
       "    </tr>\n",
       "    <tr>\n",
       "      <th>...</th>\n",
       "      <td>...</td>\n",
       "      <td>...</td>\n",
       "      <td>...</td>\n",
       "      <td>...</td>\n",
       "      <td>...</td>\n",
       "    </tr>\n",
       "    <tr>\n",
       "      <th>972</th>\n",
       "      <td>1</td>\n",
       "      <td>41.714737</td>\n",
       "      <td>137.725500</td>\n",
       "      <td>93.689120</td>\n",
       "      <td>77.270340</td>\n",
       "    </tr>\n",
       "    <tr>\n",
       "      <th>973</th>\n",
       "      <td>1</td>\n",
       "      <td>32.585903</td>\n",
       "      <td>41.133247</td>\n",
       "      <td>39.930300</td>\n",
       "      <td>58.072914</td>\n",
       "    </tr>\n",
       "    <tr>\n",
       "      <th>974</th>\n",
       "      <td>1</td>\n",
       "      <td>32.625847</td>\n",
       "      <td>33.612293</td>\n",
       "      <td>55.582490</td>\n",
       "      <td>84.765170</td>\n",
       "    </tr>\n",
       "    <tr>\n",
       "      <th>975</th>\n",
       "      <td>1</td>\n",
       "      <td>36.787525</td>\n",
       "      <td>30.300316</td>\n",
       "      <td>34.075207</td>\n",
       "      <td>83.112366</td>\n",
       "    </tr>\n",
       "    <tr>\n",
       "      <th>976</th>\n",
       "      <td>1</td>\n",
       "      <td>21.774239</td>\n",
       "      <td>30.511593</td>\n",
       "      <td>54.183617</td>\n",
       "      <td>42.493570</td>\n",
       "    </tr>\n",
       "  </tbody>\n",
       "</table>\n",
       "<p>462 rows × 5 columns</p>\n",
       "</div>"
      ],
      "text/plain": [
       "     treatment  pc_exp_month_bl  pc_exp_month_el1  pc_exp_month_el2  \\\n",
       "2            1        33.698770         58.222298         69.547070   \n",
       "4            1        43.763836         45.879470         71.511020   \n",
       "5            1        45.694580         72.856390         80.526855   \n",
       "8            1        23.182852         58.473553         52.502888   \n",
       "9            1        28.170696         71.390750         46.684696   \n",
       "..         ...              ...               ...               ...   \n",
       "972          1        41.714737        137.725500         93.689120   \n",
       "973          1        32.585903         41.133247         39.930300   \n",
       "974          1        32.625847         33.612293         55.582490   \n",
       "975          1        36.787525         30.300316         34.075207   \n",
       "976          1        21.774239         30.511593         54.183617   \n",
       "\n",
       "     pc_exp_month_el3  \n",
       "2           69.601420  \n",
       "4           30.258686  \n",
       "5            9.856122  \n",
       "8          135.574770  \n",
       "9           57.891430  \n",
       "..                ...  \n",
       "972         77.270340  \n",
       "973         58.072914  \n",
       "974         84.765170  \n",
       "975         83.112366  \n",
       "976         42.493570  \n",
       "\n",
       "[462 rows x 5 columns]"
      ]
     },
     "execution_count": 88,
     "metadata": {},
     "output_type": "execute_result"
    }
   ],
   "source": [
    "house_data[(house_data[\"treatment\"] == 1) & (house_data[\"pc_exp_month_el2\"].notnull())]"
   ]
  },
  {
   "cell_type": "markdown",
   "metadata": {},
   "source": [
    "### Exercise 11\n",
    "\n",
    "What would the power be if Bandhan had only enrolled 200 households per arm? \n"
   ]
  },
  {
   "cell_type": "code",
   "execution_count": 80,
   "metadata": {},
   "outputs": [
    {
     "name": "stdout",
     "output_type": "stream",
     "text": [
      "The statistical power (prob of rejecting the null hypothesis at alpha 0.05) with 200 households per arm would be of 0.54\n"
     ]
    }
   ],
   "source": [
    "test_power_3y_200 = power_analysis.solve_power(\n",
    "    effect_size=effect_size_3y,\n",
    "    power=None,\n",
    "    alpha=0.05,\n",
    "    alternative=\"two-sided\",\n",
    "    nobs1=200,\n",
    "    ratio=200 / 200,\n",
    ")\n",
    "\n",
    "print(\n",
    "    f\"The statistical power (prob of rejecting the null hypothesis at alpha 0.05) with 200 households per arm would be of {test_power_3y_200:.2f}\"\n",
    ")"
   ]
  },
  {
   "cell_type": "markdown",
   "metadata": {},
   "source": [
    "### Exercise 13\n",
    "\n",
    "The idea of the \"power\" of a test is that, when we draw a sample from a population, there's some variation in who happens to end up in that sample. Consequently, even if the *true* effect size in the population is equal to our Minimal Detectable Effect, there's some probability that when we compare treated and untreated outcomes for the $N$ people who actually end up in the study, that Minimal Detectable Effect may not be evident in that sample (at the level of statistical significance $\\alpha$ we have chosen).\n",
    "\n",
    "Given that, one way to think of power is: \"If the true effect in the population is our Minimal Detectable Effect, then if I were able to re-run this experiment over and over — drawing new people into the study and testing the difference in outcomes between the control and treated sample each time — then in what percentage of those instances of the experiment would I reject the null hypothesis of no effect?\" Power of 80% means that we'd expect to reject the null of no effect in 80% of those many experiments.\n",
    "\n",
    "Well, we can basically do that thought experiment with this data! \n",
    "\n",
    "To do the experiment you did the power calculations for in Exercise 11, we just need to sample 200 observations from the treated group and 200 from the control group, treat that as our experimental sample, and estimate the difference in per capita month expenditures between those two groups (along with the associated p-value).\n",
    "\n",
    "Then we can repeat that over and over to simulate \"re-running\" the experiment, each time drawing a new sample of 200 treated observations and 200 control observations. Then we can store the p-values from all these \"re-run\" experiments and see how often we reject the null of no effect!\n",
    "\n",
    "Note that when you do this experiment, we have to sample our 200 observations from each treatment arm *with replacement*, just as you would when bootstrapping (if that means anything to you — if it doesn't, don't worry about it). \n",
    "\n",
    "So: write a loop where, on each pass, you draw 200 observations (with replacement) from treatment and 200 from control, then calculate the treatment effect and p-value for that sample. Repeat this 10,000 times. \n",
    "\n",
    "In what share of cases would you reject the null of no effect at alpha = 0.05?"
   ]
  },
  {
   "cell_type": "code",
   "execution_count": 101,
   "metadata": {},
   "outputs": [
    {
     "name": "stdout",
     "output_type": "stream",
     "text": [
      "Share of cases that reject the null hypothesis of no effect at alpha = 0.05: 0.55\n"
     ]
    }
   ],
   "source": [
    "from scipy.stats import ttest_ind\n",
    "\n",
    "\n",
    "treat_ss_l = house_data[\n",
    "    (house_data[\"treatment\"] == 1) & (house_data[\"pc_exp_month_el2\"].notnull())\n",
    "][\"pc_exp_month_el2\"]\n",
    "con_ss_l = house_data[\n",
    "    (house_data[\"treatment\"] == 0) & (house_data[\"pc_exp_month_el2\"].notnull())\n",
    "][\"pc_exp_month_el2\"]\n",
    "\n",
    "\n",
    "p_value_list = []\n",
    "for i in range(10000):\n",
    "    s_treat = np.random.choice(treat_ss_l, size=200, replace=True)\n",
    "    s_con = np.random.choice(con_ss_l, size=200, replace=True)\n",
    "    t_statistic, p_value = ttest_ind(s_treat, s_con)\n",
    "    p_value_list.append(p_value)\n",
    "\n",
    "p_value_ar = np.array(p_value_list)\n",
    "num_significant = np.mean(p_value_ar < 0.05)\n",
    "\n",
    "print(\n",
    "    f\"Share of cases that reject the null hypothesis of no effect at alpha = 0.05: {num_significant:.2f}\"\n",
    ")"
   ]
  },
  {
   "cell_type": "markdown",
   "metadata": {},
   "source": [
    "### Exercise 14\n",
    "\n",
    "Repeat 12 and 13 with 300 observations per arm."
   ]
  },
  {
   "cell_type": "code",
   "execution_count": 98,
   "metadata": {},
   "outputs": [
    {
     "name": "stdout",
     "output_type": "stream",
     "text": [
      "The statistical power (prob of rejecting the null hypothesis at alpha 0.05) with 300 households per arm would be of 0.71\n"
     ]
    }
   ],
   "source": [
    "test_power_3y_300 = power_analysis.solve_power(\n",
    "    effect_size=effect_size_3y,\n",
    "    power=None,\n",
    "    alpha=0.05,\n",
    "    alternative=\"two-sided\",\n",
    "    nobs1=300,\n",
    "    ratio=300 / 300,\n",
    ")\n",
    "\n",
    "print(\n",
    "    f\"The statistical power (prob of rejecting the null hypothesis at alpha 0.05) with 300 households per arm would be of {test_power_3y_300:.2f}\"\n",
    ")"
   ]
  },
  {
   "cell_type": "code",
   "execution_count": 100,
   "metadata": {},
   "outputs": [
    {
     "name": "stdout",
     "output_type": "stream",
     "text": [
      "Share of cases that reject the null hypothesis of no effect at alpha = 0.05: 0.71\n"
     ]
    }
   ],
   "source": [
    "p_value_list = []\n",
    "for i in range(10000):\n",
    "    s_treat = np.random.choice(treat_ss_l, size=300, replace=True)\n",
    "    s_con = np.random.choice(con_ss_l, size=300, replace=True)\n",
    "    t_statistic, p_value = ttest_ind(s_treat, s_con)\n",
    "    p_value_list.append(p_value)\n",
    "\n",
    "p_value_ar = np.array(p_value_list)\n",
    "num_significant = np.mean(p_value_ar < 0.05)\n",
    "\n",
    "print(\n",
    "    f\"Share of cases that reject the null hypothesis of no effect at alpha = 0.05: {num_significant:.2f}\"\n",
    ")"
   ]
  },
  {
   "cell_type": "markdown",
   "metadata": {},
   "source": [
    "### Exercise 15\n",
    "\n",
    "What did you learn from Exercises 9-14?"
   ]
  },
  {
   "cell_type": "markdown",
   "metadata": {},
   "source": []
  },
  {
   "cell_type": "markdown",
   "metadata": {},
   "source": [
    "## Footnotes\n",
    "\n",
    "1. The poorest households were identified in two steps. First, residents across 120 village hamlets ranked households into five wealth quintiles. Among households ranked in the bottom quintile, Bandhan then verified eligibility per seven criteria: (i) presence of an able-bodied female member (to manage the asset), (ii) no credit access, (iii) landholding below 0.2 acres, (iv) no ownership of productive assets, (v) no able-bodied male member, (vi) presence of school-aged children who were working instead of attending school, and (vii) primary source of income being informal labor or begging. Households had to meet the first two criteria and at least three of the remaining five in order to be eligible for the TUP intervention.\n",
    "2. The [ethics of randomization in these types of programs](https://www.povertyactionlab.org/resource/ethical-conduct-randomized-evaluations) is subject of a rich literature, and there are currently an extensive set of guidelines used by researchers developing these types of programs.\n",
    "3. Of the 514 offered the livestock and cash transfers, only 266 accepted. The treatment estimates that follow are thus estimates of the effect of *offering* these transfers. Households that accepted the offers might differ systematically from those that do not, so the study simply compares those *offered* the transfer to those who did not). This is what's called an estimate of the \"intention to treat\" effect, and is thus *likely* an under-estimate of the effect of cash transfers that would be observed if uptake were greater."
   ]
  }
 ],
 "metadata": {
  "kernelspec": {
   "display_name": "Python 3",
   "language": "python",
   "name": "python3"
  },
  "language_info": {
   "codemirror_mode": {
    "name": "ipython",
    "version": 3
   },
   "file_extension": ".py",
   "mimetype": "text/x-python",
   "name": "python",
   "nbconvert_exporter": "python",
   "pygments_lexer": "ipython3",
   "version": "3.11.5"
  }
 },
 "nbformat": 4,
 "nbformat_minor": 4
}
