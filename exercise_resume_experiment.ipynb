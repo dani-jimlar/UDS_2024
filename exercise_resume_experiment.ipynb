{
 "cells": [
  {
   "attachments": {},
   "cell_type": "markdown",
   "metadata": {},
   "source": [
    "# Resume Experiment Analysis\n",
    "\n",
    "How much harder is it to get a job in the United States if you are Black than if you are White? Or, expressed differently, what is the *effect* of race on the difficulty of getting a job in the US?\n",
    "\n",
    "In this exercise, we will be analyzing data from a real world experiment designed to help answer this question. Namely, we will be analyzing data from a randomized experiment in which 4,870 ficticious resumes were sent out to employers in response to job adverts in Boston and Chicago in 2001. The resumes differ in various attributes including the names of the applicants, and different resumes were randomly allocated to job openings. \n",
    "\n",
    "The \"experiment\" part of the experiment is that resumes were randomly assigned Black- or White-sounding names, and then watched to see whether employers called the \"applicants\" with Black-sounding names at the same rate as the applicants with the White-sounding names.\n",
    "\n",
    "(Which names constituted \"Black-sounding names\" and \"White-sounding names\" was determined by analyzing names on Massachusetts birth certificates to determine which names were most associated with Black and White children, and then surveys were used to validate that the names were perceived as being associated with individuals of one racial category or the other. Also, please note I subscribe to the logic of [Kwame Anthony Appiah](https://www.theatlantic.com/ideas/archive/2020/06/time-to-capitalize-blackand-white/613159/) and chose to capitalize both the B in Black and the W in White). \n",
    "\n",
    "You can get access to original article [here](https://www.aeaweb.org/articles?id=10.1257/0002828042002561). \n",
    "\n",
    "**Note to Duke students:** if you are on the Duke campus network, you'll be able to access almost any academic journal articles directly; if you are off campus and want access, you can just go to the [Duke Library](https://library.duke.edu/) website and search for the article title. Once you find it, you'll be asked to log in, after which you'll have full access to the article. You will also find this pattern holds true at nearly any major University in the US.\n"
   ]
  },
  {
   "cell_type": "markdown",
   "metadata": {},
   "source": [
    "\n",
    "## Gradescope Autograding\n",
    "\n",
    "Please follow [all standard guidance](https://www.practicaldatascience.org/html/autograder_guidelines.html) for submitting this assignment to the Gradescope autograder, including storing your solutions in a dictionary called `results` and ensuring your notebook runs from the start to completion without any errors.\n",
    "\n",
    "For this assignment, please name your file `exercise_resume_experiment.ipynb` before uploading.\n",
    "\n",
    "You can check that you have answers for all questions in your `results` dictionary with this code:\n",
    "\n",
    "```python\n",
    "assert set(results.keys()) == {\n",
    "    \"ex2_pvalue_computerskills\",\n",
    "    \"ex2_pvalue_female\",\n",
    "    \"ex2_pvalue_yearsexp\",\n",
    "    \"ex3_pvalue_education\",\n",
    "    \"ex4_validity\",\n",
    "    \"ex5_pvalue\",\n",
    "    \"ex5_white_advantage_percent\",\n",
    "    \"ex5_white_advantage_percentage_points\",\n",
    "    \"ex6_black_pvalue\",\n",
    "    \"ex8_black_college\",\n",
    "    \"ex8_black_nocollege\",\n",
    "    \"ex8_college_heterogeneity\",\n",
    "    \"ex9_gender_and_discrimination\",\n",
    "    \"ex10_experiment_v_us\",\n",
    "}\n",
    "```\n",
    "\n",
    "\n",
    "### Submission Limits\n",
    "\n",
    "Please remember that you are **only allowed FOUR submissions to the autograder.** Your last submission (if you submit 4 or fewer times), or your third submission (if you submit more than 4 times) will determine your grade Submissions that error out will **not** count against this total.\n",
    "\n",
    "That's one more than usual in case there are issues with exercise clarity."
   ]
  },
  {
   "attachments": {},
   "cell_type": "markdown",
   "metadata": {},
   "source": [
    "## Checking for Balance\n",
    "\n",
    "The first step in analyzing any experiment is to check whether you have *balance* across your treatment arms—that is to say, do the people who were randomly assigned to the treatment group look like the people who were randomly assigned to the control group. Or in this case, do the resumes that ended up with Black-sounding names look like the resumes with White-sounding names. \n",
    "\n",
    "Checking for balance is critical for two reasons. First, it's always possible that random assignment will create profoundly different groups—the *Large of Large Numbers* is only a \"law\" in the limit. So we want to make sure we have reasonably similar groups from the outset. And second, it's also always possible that the randomization wasn't actually implemented correctly—you would be amazed at the number of ways that \"random assignment\" can go wrong! So if you ever do find you're getting unbalanced data, you should worry not only about whether the groups have baseline differences, but also whether the \"random assignment\" was actually random!\n",
    "\n",
    "### Exercise 1\n",
    "\n",
    "Download the data set from this experiment (`resume_experiment.dta`) from [github](https://github.com/nickeubank/MIDS_Data/tree/master/resume_experiment). To aid the autograder, please load the data directly from a URL.\n"
   ]
  },
  {
   "cell_type": "code",
   "execution_count": 1,
   "metadata": {},
   "outputs": [],
   "source": [
    "import pandas as pd\n",
    "import numpy as np\n",
    "import statsmodels.api as sm\n",
    "\n",
    "pd.set_option(\"mode.copy_on_write\", True)\n",
    "\n",
    "db = pd.read_stata(\n",
    "    \"https://github.com/nickeubank/MIDS_Data/raw/master/resume_experiment/resume_experiment.dta\"\n",
    ")"
   ]
  },
  {
   "cell_type": "markdown",
   "metadata": {},
   "source": [
    "\n",
    "### Exercise 2\n",
    "\n",
    "- `black` is the treatment variable in the data set (whether the resume has a \"Black-sounding\" name).\n",
    "- `call` is the dependent variable of interest (did the employer call the fictitious applicant for an interview)\n",
    "\n",
    "In addition, the data include a number of variables to describe the other features in each fictitious resume, including applicants education level (`education`), years of experience (`yearsexp`), gender (`female`), computer skills (`computerskills`), and number of previous jobs (`ofjobs`). Each resume has a random selection of these attributes, so on average the Black-named fictitious applicant resumes have the same qualifications as the White-named applicant resumes. \n",
    "\n",
    "Check for balance in terms of the average values of applicant gender (`female`), computer skills (`computerskills`), and years of experience (`yearsexp`) across the two arms of the experiment (i.e. by `black`). Calculate both the differences in means across treatment arms *and* test for statistical significance of these differences. Does gender, computer skills, and yearsexp look balanced across race groups in terms of both statistical significance and magnitude of difference?\n",
    "\n",
    "Store the p-values associated with your t-test of these variables in `ex2_pvalue_female`, `ex2_pvalue_computerskills`, and `ex2_pvalue_yearsexp`. **Round your values to 2 decimal places.**\n"
   ]
  },
  {
   "cell_type": "code",
   "execution_count": 2,
   "metadata": {},
   "outputs": [
    {
     "name": "stdout",
     "output_type": "stream",
     "text": [
      "Black arm means are:\n",
      "education         3.616016\n",
      "ofjobs            3.658316\n",
      "yearsexp          7.829569\n",
      "computerskills    0.832444\n",
      "call              0.064476\n",
      "female            0.774538\n",
      "black             1.000000\n",
      "dtype: float64\n",
      "Not Black arm means are:\n",
      "education         3.620945\n",
      "ofjobs            3.664476\n",
      "yearsexp          7.856263\n",
      "computerskills    0.808624\n",
      "call              0.096509\n",
      "female            0.763860\n",
      "black             0.000000\n",
      "dtype: float64\n"
     ]
    }
   ],
   "source": [
    "# db=db.copy\n",
    "black = db[db[\"black\"] == 1.0]\n",
    "notblack = db[db[\"black\"] == 0.0]\n",
    "black_means = black.mean()\n",
    "notblack_means = notblack.mean()\n",
    "print(f\"Black arm means are:\\n{black_means}\")\n",
    "print(f\"Not Black arm means are:\\n{notblack_means}\")"
   ]
  },
  {
   "cell_type": "code",
   "execution_count": 3,
   "metadata": {},
   "outputs": [
    {
     "name": "stdout",
     "output_type": "stream",
     "text": [
      "\n",
      "T-test female:\n",
      "(0.8841306770993071, 0.3766693380152748, 4868.0)\n",
      "\n",
      "T-test computer skils:\n",
      "(2.1664271042751984, 0.030326933955391832, 4868.0)\n",
      "\n",
      "T-test years of experience:\n",
      "(-0.18461970685747406, 0.8535350182481282, 4868.0)\n"
     ]
    }
   ],
   "source": [
    "ttest_fe = sm.stats.ttest_ind(black[\"female\"], notblack[\"female\"])\n",
    "ttest_cs = sm.stats.ttest_ind(black[\"computerskills\"], notblack[\"computerskills\"])\n",
    "ttest_ye = sm.stats.ttest_ind(black[\"yearsexp\"], notblack[\"yearsexp\"])\n",
    "\n",
    "print(f\"\\nT-test female:\\n{ttest_fe}\")\n",
    "print(f\"\\nT-test computer skils:\\n{ttest_cs}\")\n",
    "print(f\"\\nT-test years of experience:\\n{ttest_ye}\")"
   ]
  },
  {
   "cell_type": "code",
   "execution_count": 4,
   "metadata": {},
   "outputs": [],
   "source": [
    "results = {\n",
    "    \"ex2_pvalue_female\": round(ttest_fe[1], 2),\n",
    "    \"ex2_pvalue_computerskills\": round(ttest_cs[1], 2),\n",
    "    \"ex2_pvalue_yearsexp\": round(ttest_ye[1], 2),\n",
    "}"
   ]
  },
  {
   "cell_type": "markdown",
   "metadata": {},
   "source": [
    "\n",
    ">After testing for statistical significance we can conclude that not all variable look balanced. For female and years of experience, the difference is significant between black and not black, making them balanced. However, for computer science skills, the differnce is not significant. \n",
    "\n"
   ]
  },
  {
   "attachments": {},
   "cell_type": "markdown",
   "metadata": {},
   "source": [
    "### Exercise 3\n",
    "\n",
    "Do a similar tabulation for education (`education`). Education is a categorical variable coded as follows:\n",
    "\n",
    "- 0: Education not reported\n",
    "- 1: High school dropout\n",
    "- 2: High school graduate\n",
    "- 3: Some college\n",
    "- 4: College graduate or higher\n",
    "\n",
    "Because these are categorical, you shouldn't just calculate and compare means—you should compare share or count of observations with each value (e.g., a chi-squared contingency table). You may also find the `pd.crosstab` function useful.\n",
    "\n",
    "Does education look balanced across racial groups?\n",
    "\n",
    "Store the p-value from your chi squared test in results under the key `ex3_pvalue_education`. **Please round to 2 decimal places.**"
   ]
  },
  {
   "cell_type": "code",
   "execution_count": 5,
   "metadata": {},
   "outputs": [
    {
     "name": "stdout",
     "output_type": "stream",
     "text": [
      "The p value from the chi squared test is:, 0.4917640058792273\n"
     ]
    }
   ],
   "source": [
    "from statsmodels.stats.contingency_tables import Table\n",
    "\n",
    "ccst = pd.crosstab(db[\"black\"], db[\"education\"])\n",
    "\n",
    "contigency_t = Table(ccst, shift_zeros=True)\n",
    "res = contigency_t.test_nominal_association()\n",
    "print(f\"The p value from the chi squared test is:, {res.pvalue}\")"
   ]
  },
  {
   "cell_type": "code",
   "execution_count": 6,
   "metadata": {},
   "outputs": [
    {
     "data": {
      "text/html": [
       "<div>\n",
       "<style scoped>\n",
       "    .dataframe tbody tr th:only-of-type {\n",
       "        vertical-align: middle;\n",
       "    }\n",
       "\n",
       "    .dataframe tbody tr th {\n",
       "        vertical-align: top;\n",
       "    }\n",
       "\n",
       "    .dataframe thead th {\n",
       "        text-align: right;\n",
       "    }\n",
       "</style>\n",
       "<table border=\"1\" class=\"dataframe\">\n",
       "  <thead>\n",
       "    <tr style=\"text-align: right;\">\n",
       "      <th>education</th>\n",
       "      <th>0</th>\n",
       "      <th>1</th>\n",
       "      <th>2</th>\n",
       "      <th>3</th>\n",
       "      <th>4</th>\n",
       "    </tr>\n",
       "    <tr>\n",
       "      <th>black</th>\n",
       "      <th></th>\n",
       "      <th></th>\n",
       "      <th></th>\n",
       "      <th></th>\n",
       "      <th></th>\n",
       "    </tr>\n",
       "  </thead>\n",
       "  <tbody>\n",
       "    <tr>\n",
       "      <th>0.0</th>\n",
       "      <td>18</td>\n",
       "      <td>18</td>\n",
       "      <td>142</td>\n",
       "      <td>513</td>\n",
       "      <td>1744</td>\n",
       "    </tr>\n",
       "    <tr>\n",
       "      <th>1.0</th>\n",
       "      <td>28</td>\n",
       "      <td>22</td>\n",
       "      <td>132</td>\n",
       "      <td>493</td>\n",
       "      <td>1760</td>\n",
       "    </tr>\n",
       "  </tbody>\n",
       "</table>\n",
       "</div>"
      ],
      "text/plain": [
       "education   0   1    2    3     4\n",
       "black                            \n",
       "0.0        18  18  142  513  1744\n",
       "1.0        28  22  132  493  1760"
      ]
     },
     "execution_count": 6,
     "metadata": {},
     "output_type": "execute_result"
    }
   ],
   "source": [
    "ccst"
   ]
  },
  {
   "cell_type": "code",
   "execution_count": 7,
   "metadata": {},
   "outputs": [],
   "source": [
    "results[\"ex3_pvalue_education\"] = round(res.pvalue, 2)"
   ]
  },
  {
   "cell_type": "markdown",
   "metadata": {},
   "source": [
    "> Education does not seem balanced accross racial groups. "
   ]
  },
  {
   "attachments": {},
   "cell_type": "markdown",
   "metadata": {},
   "source": [
    "### Exercise 4\n",
    "\n",
    "What do you make of the overall results on resume characteristics? Why do we care about whether these variables look similar across the race groups? And if they didn't look similar, would that be a threat to internal or external validity? \n",
    "\n",
    "Answer in markdown, then also store your answer to the question of whether imbalances are a threat to internal or external validity in `\"ex4_validity\"` as the string `\"internal\"` or `\"external\"`.\n"
   ]
  },
  {
   "cell_type": "markdown",
   "metadata": {},
   "source": [
    "> As we are trying to asses the *effect* of race on the difficulty of getting a job in the US, we need a series of variables that might contradict this, in the sense that race does not matter but what matters are other aspects of the resume. To measure this it is important that the other characteristcs of the resume are the most similar between the Black and Not Black group. As education and computer science are not balanced, this could be a threat to the internal validity of the study. "
   ]
  },
  {
   "cell_type": "code",
   "execution_count": 8,
   "metadata": {},
   "outputs": [],
   "source": [
    "results[\"ex4_validity\"] = \"internal\""
   ]
  },
  {
   "cell_type": "markdown",
   "metadata": {},
   "source": [
    "## Estimating Effect of Race"
   ]
  },
  {
   "attachments": {},
   "cell_type": "markdown",
   "metadata": {},
   "source": [
    "### Exercise 5\n",
    "\n",
    "The variable of interest in the data set is the variable `call`, which indicates a call back for an interview. Perform a two-sample t-test comparing applicants with black sounding names and white sounding names.\n",
    "\n",
    "Interpret your results—in both percentage *and* in percentage points, what is the effect of having a Black-sounding name (as opposed to a White-sounding name) on your resume?\n",
    "\n",
    "Store how much more likely a White applicant is to receive a call back than a Black respondent in percentage and percentage points in `\"ex5_white_advantage_percent\"`and `\"ex5_white_advantage_percentage_points\"`. Please scale percentages so 1 is 1% and percentage points so a value of `1` corresponds to 1 percentage point. **Please round these answers to 2 decimal places.**\n",
    "\n",
    "Store the p-value of the difference in `\"ex5_pvalue\"` **Please round your p-value to 5 decimal places.**"
   ]
  },
  {
   "cell_type": "code",
   "execution_count": 9,
   "metadata": {},
   "outputs": [
    {
     "name": "stdout",
     "output_type": "stream",
     "text": [
      "The percentage of adventage of white sounding names being called over of black sounding names is 49.68%\n",
      "The advantage in percent points of white sounding names being called over black sounding names is: 3.2\n",
      "The p values of this differnece is: 4e-05\n"
     ]
    }
   ],
   "source": [
    "ttest_call = sm.stats.ttest_ind(black[\"call\"], notblack[\"call\"])\n",
    "\n",
    "b_call_mean = black[\"call\"].mean()\n",
    "\n",
    "nb_call_mean = notblack[\"call\"].mean()\n",
    "\n",
    "dif_call_perc = ((nb_call_mean - b_call_mean) / b_call_mean) * 100\n",
    "dif_call_perc_p = (nb_call_mean - b_call_mean) * 100\n",
    "p_value_call = round(ttest_call[1], 5)\n",
    "\n",
    "ex5_white_advantage_percent = round(dif_call_perc, 2)\n",
    "ex5_white_advantage_percentage_points = round(dif_call_perc_p, 2)\n",
    "ex5_pvalue = p_value_call\n",
    "\n",
    "results[\"ex5_white_advantage_percent\"] = ex5_white_advantage_percent\n",
    "results[\"ex5_white_advantage_percentage_points\"] = ex5_white_advantage_percentage_points\n",
    "results[\"ex5_pvalue\"] = ex5_pvalue\n",
    "\n",
    "print(\n",
    "    f\"The percentage of adventage of white sounding names being called over of black sounding names is {ex5_white_advantage_percent}%\"\n",
    ")\n",
    "print(\n",
    "    f\"The advantage in percent points of white sounding names being called over black sounding names is: {ex5_white_advantage_percentage_points}\"\n",
    ")\n",
    "print(f\"The p values of this differnece is: {ex5_pvalue}\")"
   ]
  },
  {
   "attachments": {},
   "cell_type": "markdown",
   "metadata": {},
   "source": [
    "### Exercise 6\n",
    "\n",
    "Now, use a linear probability model (a linear regression with a 0/1 dependent variable!) to estimate the differential likelihood of being called back by applicant race (i.e. the racial discrimination by employers). Please use [statsmodels](https://www.statsmodels.org/stable/index.html).\n",
    "\n",
    "Since we have a limited dependent variable, be sure to use [heteroskedastic robust standard errors.](https://www.statsmodels.org/stable/generated/statsmodels.regression.linear_model.OLSResults.get_robustcov_results.html) Personally, I prefer the `HC3` implementation, as it tends to do better with smaller samples than other implementations.\n",
    "\n",
    "Interpret these results—what is the *effect* of having a Black-sounding name (as opposed to a White-sounding name) on your resume in terms of the likelihood you'll be called back? \n",
    "\n",
    "How does this compare to the estimate you got above in exercise 5?\n",
    "\n",
    "Store the p-value associated with `black` in `\"ex6_black_pvalue\"`. **Please round your pvalue to 5 decimal places.**"
   ]
  },
  {
   "cell_type": "code",
   "execution_count": 10,
   "metadata": {},
   "outputs": [
    {
     "data": {
      "text/html": [
       "<table class=\"simpletable\">\n",
       "<caption>OLS Regression Results</caption>\n",
       "<tr>\n",
       "  <th>Dep. Variable:</th>          <td>call</td>       <th>  R-squared:         </th> <td>   0.003</td>\n",
       "</tr>\n",
       "<tr>\n",
       "  <th>Model:</th>                   <td>OLS</td>       <th>  Adj. R-squared:    </th> <td>   0.003</td>\n",
       "</tr>\n",
       "<tr>\n",
       "  <th>Method:</th>             <td>Least Squares</td>  <th>  F-statistic:       </th> <td>   16.92</td>\n",
       "</tr>\n",
       "<tr>\n",
       "  <th>Date:</th>             <td>Tue, 05 Mar 2024</td> <th>  Prob (F-statistic):</th> <td>3.96e-05</td>\n",
       "</tr>\n",
       "<tr>\n",
       "  <th>Time:</th>                 <td>01:01:20</td>     <th>  Log-Likelihood:    </th> <td> -562.24</td>\n",
       "</tr>\n",
       "<tr>\n",
       "  <th>No. Observations:</th>      <td>  4870</td>      <th>  AIC:               </th> <td>   1128.</td>\n",
       "</tr>\n",
       "<tr>\n",
       "  <th>Df Residuals:</th>          <td>  4868</td>      <th>  BIC:               </th> <td>   1141.</td>\n",
       "</tr>\n",
       "<tr>\n",
       "  <th>Df Model:</th>              <td>     1</td>      <th>                     </th>     <td> </td>   \n",
       "</tr>\n",
       "<tr>\n",
       "  <th>Covariance Type:</th>         <td>HC3</td>       <th>                     </th>     <td> </td>   \n",
       "</tr>\n",
       "</table>\n",
       "<table class=\"simpletable\">\n",
       "<tr>\n",
       "      <td></td>         <th>coef</th>     <th>std err</th>      <th>t</th>      <th>P>|t|</th>  <th>[0.025</th>    <th>0.975]</th>  \n",
       "</tr>\n",
       "<tr>\n",
       "  <th>Intercept</th> <td>    0.0965</td> <td>    0.006</td> <td>   16.121</td> <td> 0.000</td> <td>    0.085</td> <td>    0.108</td>\n",
       "</tr>\n",
       "<tr>\n",
       "  <th>black</th>     <td>   -0.0320</td> <td>    0.008</td> <td>   -4.114</td> <td> 0.000</td> <td>   -0.047</td> <td>   -0.017</td>\n",
       "</tr>\n",
       "</table>\n",
       "<table class=\"simpletable\">\n",
       "<tr>\n",
       "  <th>Omnibus:</th>       <td>2969.205</td> <th>  Durbin-Watson:     </th> <td>   1.440</td> \n",
       "</tr>\n",
       "<tr>\n",
       "  <th>Prob(Omnibus):</th>  <td> 0.000</td>  <th>  Jarque-Bera (JB):  </th> <td>18927.068</td>\n",
       "</tr>\n",
       "<tr>\n",
       "  <th>Skew:</th>           <td> 3.068</td>  <th>  Prob(JB):          </th> <td>    0.00</td> \n",
       "</tr>\n",
       "<tr>\n",
       "  <th>Kurtosis:</th>       <td>10.458</td>  <th>  Cond. No.          </th> <td>    2.62</td> \n",
       "</tr>\n",
       "</table><br/><br/>Notes:<br/>[1] Standard Errors are heteroscedasticity robust (HC3)"
      ],
      "text/latex": [
       "\\begin{center}\n",
       "\\begin{tabular}{lclc}\n",
       "\\toprule\n",
       "\\textbf{Dep. Variable:}    &       call       & \\textbf{  R-squared:         } &     0.003   \\\\\n",
       "\\textbf{Model:}            &       OLS        & \\textbf{  Adj. R-squared:    } &     0.003   \\\\\n",
       "\\textbf{Method:}           &  Least Squares   & \\textbf{  F-statistic:       } &     16.92   \\\\\n",
       "\\textbf{Date:}             & Tue, 05 Mar 2024 & \\textbf{  Prob (F-statistic):} &  3.96e-05   \\\\\n",
       "\\textbf{Time:}             &     01:01:20     & \\textbf{  Log-Likelihood:    } &   -562.24   \\\\\n",
       "\\textbf{No. Observations:} &        4870      & \\textbf{  AIC:               } &     1128.   \\\\\n",
       "\\textbf{Df Residuals:}     &        4868      & \\textbf{  BIC:               } &     1141.   \\\\\n",
       "\\textbf{Df Model:}         &           1      & \\textbf{                     } &             \\\\\n",
       "\\textbf{Covariance Type:}  &       HC3        & \\textbf{                     } &             \\\\\n",
       "\\bottomrule\n",
       "\\end{tabular}\n",
       "\\begin{tabular}{lcccccc}\n",
       "                   & \\textbf{coef} & \\textbf{std err} & \\textbf{t} & \\textbf{P$> |$t$|$} & \\textbf{[0.025} & \\textbf{0.975]}  \\\\\n",
       "\\midrule\n",
       "\\textbf{Intercept} &       0.0965  &        0.006     &    16.121  &         0.000        &        0.085    &        0.108     \\\\\n",
       "\\textbf{black}     &      -0.0320  &        0.008     &    -4.114  &         0.000        &       -0.047    &       -0.017     \\\\\n",
       "\\bottomrule\n",
       "\\end{tabular}\n",
       "\\begin{tabular}{lclc}\n",
       "\\textbf{Omnibus:}       & 2969.205 & \\textbf{  Durbin-Watson:     } &     1.440  \\\\\n",
       "\\textbf{Prob(Omnibus):} &   0.000  & \\textbf{  Jarque-Bera (JB):  } & 18927.068  \\\\\n",
       "\\textbf{Skew:}          &   3.068  & \\textbf{  Prob(JB):          } &      0.00  \\\\\n",
       "\\textbf{Kurtosis:}      &  10.458  & \\textbf{  Cond. No.          } &      2.62  \\\\\n",
       "\\bottomrule\n",
       "\\end{tabular}\n",
       "%\\caption{OLS Regression Results}\n",
       "\\end{center}\n",
       "\n",
       "Notes: \\newline\n",
       " [1] Standard Errors are heteroscedasticity robust (HC3)"
      ],
      "text/plain": [
       "<class 'statsmodels.iolib.summary.Summary'>\n",
       "\"\"\"\n",
       "                            OLS Regression Results                            \n",
       "==============================================================================\n",
       "Dep. Variable:                   call   R-squared:                       0.003\n",
       "Model:                            OLS   Adj. R-squared:                  0.003\n",
       "Method:                 Least Squares   F-statistic:                     16.92\n",
       "Date:                Tue, 05 Mar 2024   Prob (F-statistic):           3.96e-05\n",
       "Time:                        01:01:20   Log-Likelihood:                -562.24\n",
       "No. Observations:                4870   AIC:                             1128.\n",
       "Df Residuals:                    4868   BIC:                             1141.\n",
       "Df Model:                           1                                         \n",
       "Covariance Type:                  HC3                                         \n",
       "==============================================================================\n",
       "                 coef    std err          t      P>|t|      [0.025      0.975]\n",
       "------------------------------------------------------------------------------\n",
       "Intercept      0.0965      0.006     16.121      0.000       0.085       0.108\n",
       "black         -0.0320      0.008     -4.114      0.000      -0.047      -0.017\n",
       "==============================================================================\n",
       "Omnibus:                     2969.205   Durbin-Watson:                   1.440\n",
       "Prob(Omnibus):                  0.000   Jarque-Bera (JB):            18927.068\n",
       "Skew:                           3.068   Prob(JB):                         0.00\n",
       "Kurtosis:                      10.458   Cond. No.                         2.62\n",
       "==============================================================================\n",
       "\n",
       "Notes:\n",
       "[1] Standard Errors are heteroscedasticity robust (HC3)\n",
       "\"\"\""
      ]
     },
     "execution_count": 10,
     "metadata": {},
     "output_type": "execute_result"
    }
   ],
   "source": [
    "import statsmodels.formula.api as smf\n",
    "\n",
    "model = smf.ols(\"call~black\", data=db).fit()\n",
    "model.get_robustcov_results(\"HC3\").summary()"
   ]
  },
  {
   "cell_type": "markdown",
   "metadata": {},
   "source": [
    "Black sounding names are 3.2% less likely to get a callback than white sounding names, this compares directly to the advantage in percent points that white sounding names have in the previous exercise. "
   ]
  },
  {
   "cell_type": "code",
   "execution_count": 11,
   "metadata": {},
   "outputs": [],
   "source": [
    "results[\"ex6_black_pvalue\"] = round(model.pvalues[\"black\"], 5)"
   ]
  },
  {
   "attachments": {},
   "cell_type": "markdown",
   "metadata": {},
   "source": [
    "### Exercise 7\n",
    "\n",
    "Even when doing a randomized experiment, adding control variables to your regression *can* improve the statistical efficiency of your estimates of the treatment effect (the upside is the potential to explain residual variation; the downside is more parameters to be estimated). Adding controls can be particularly useful when randomization left some imbalances in covariates (which you may have seen above). \n",
    "\n",
    "Now let's see if we can improve our estimates by adding in other variables as controls. Add in `education`, `yearsexp`, `female`, and `computerskills`—be sure to treat education as a categorical variable!"
   ]
  },
  {
   "cell_type": "code",
   "execution_count": 12,
   "metadata": {},
   "outputs": [
    {
     "data": {
      "text/html": [
       "<table class=\"simpletable\">\n",
       "<caption>OLS Regression Results</caption>\n",
       "<tr>\n",
       "  <th>Dep. Variable:</th>          <td>call</td>       <th>  R-squared:         </th> <td>   0.008</td>\n",
       "</tr>\n",
       "<tr>\n",
       "  <th>Model:</th>                   <td>OLS</td>       <th>  Adj. R-squared:    </th> <td>   0.006</td>\n",
       "</tr>\n",
       "<tr>\n",
       "  <th>Method:</th>             <td>Least Squares</td>  <th>  F-statistic:       </th> <td>   4.350</td>\n",
       "</tr>\n",
       "<tr>\n",
       "  <th>Date:</th>             <td>Tue, 05 Mar 2024</td> <th>  Prob (F-statistic):</th> <td>3.04e-05</td>\n",
       "</tr>\n",
       "<tr>\n",
       "  <th>Time:</th>                 <td>01:01:21</td>     <th>  Log-Likelihood:    </th> <td> -551.02</td>\n",
       "</tr>\n",
       "<tr>\n",
       "  <th>No. Observations:</th>      <td>  4870</td>      <th>  AIC:               </th> <td>   1120.</td>\n",
       "</tr>\n",
       "<tr>\n",
       "  <th>Df Residuals:</th>          <td>  4861</td>      <th>  BIC:               </th> <td>   1178.</td>\n",
       "</tr>\n",
       "<tr>\n",
       "  <th>Df Model:</th>              <td>     8</td>      <th>                     </th>     <td> </td>   \n",
       "</tr>\n",
       "<tr>\n",
       "  <th>Covariance Type:</th>         <td>HC3</td>       <th>                     </th>     <td> </td>   \n",
       "</tr>\n",
       "</table>\n",
       "<table class=\"simpletable\">\n",
       "<tr>\n",
       "          <td></td>             <th>coef</th>     <th>std err</th>      <th>t</th>      <th>P>|t|</th>  <th>[0.025</th>    <th>0.975]</th>  \n",
       "</tr>\n",
       "<tr>\n",
       "  <th>Intercept</th>         <td>    0.0821</td> <td>    0.040</td> <td>    2.053</td> <td> 0.040</td> <td>    0.004</td> <td>    0.160</td>\n",
       "</tr>\n",
       "<tr>\n",
       "  <th>C(education)[T.1]</th> <td>   -0.0017</td> <td>    0.057</td> <td>   -0.030</td> <td> 0.976</td> <td>   -0.113</td> <td>    0.110</td>\n",
       "</tr>\n",
       "<tr>\n",
       "  <th>C(education)[T.2]</th> <td>-8.953e-05</td> <td>    0.042</td> <td>   -0.002</td> <td> 0.998</td> <td>   -0.082</td> <td>    0.082</td>\n",
       "</tr>\n",
       "<tr>\n",
       "  <th>C(education)[T.3]</th> <td>   -0.0025</td> <td>    0.039</td> <td>   -0.065</td> <td> 0.948</td> <td>   -0.079</td> <td>    0.074</td>\n",
       "</tr>\n",
       "<tr>\n",
       "  <th>C(education)[T.4]</th> <td>   -0.0047</td> <td>    0.038</td> <td>   -0.124</td> <td> 0.901</td> <td>   -0.080</td> <td>    0.070</td>\n",
       "</tr>\n",
       "<tr>\n",
       "  <th>black</th>             <td>   -0.0316</td> <td>    0.008</td> <td>   -4.076</td> <td> 0.000</td> <td>   -0.047</td> <td>   -0.016</td>\n",
       "</tr>\n",
       "<tr>\n",
       "  <th>yearsexp</th>          <td>    0.0032</td> <td>    0.001</td> <td>    3.665</td> <td> 0.000</td> <td>    0.001</td> <td>    0.005</td>\n",
       "</tr>\n",
       "<tr>\n",
       "  <th>female</th>            <td>    0.0112</td> <td>    0.010</td> <td>    1.165</td> <td> 0.244</td> <td>   -0.008</td> <td>    0.030</td>\n",
       "</tr>\n",
       "<tr>\n",
       "  <th>computerskills</th>    <td>   -0.0186</td> <td>    0.011</td> <td>   -1.616</td> <td> 0.106</td> <td>   -0.041</td> <td>    0.004</td>\n",
       "</tr>\n",
       "</table>\n",
       "<table class=\"simpletable\">\n",
       "<tr>\n",
       "  <th>Omnibus:</th>       <td>2950.646</td> <th>  Durbin-Watson:     </th> <td>   1.448</td> \n",
       "</tr>\n",
       "<tr>\n",
       "  <th>Prob(Omnibus):</th>  <td> 0.000</td>  <th>  Jarque-Bera (JB):  </th> <td>18631.250</td>\n",
       "</tr>\n",
       "<tr>\n",
       "  <th>Skew:</th>           <td> 3.047</td>  <th>  Prob(JB):          </th> <td>    0.00</td> \n",
       "</tr>\n",
       "<tr>\n",
       "  <th>Kurtosis:</th>       <td>10.395</td>  <th>  Cond. No.          </th> <td>    225.</td> \n",
       "</tr>\n",
       "</table><br/><br/>Notes:<br/>[1] Standard Errors are heteroscedasticity robust (HC3)"
      ],
      "text/latex": [
       "\\begin{center}\n",
       "\\begin{tabular}{lclc}\n",
       "\\toprule\n",
       "\\textbf{Dep. Variable:}    &       call       & \\textbf{  R-squared:         } &     0.008   \\\\\n",
       "\\textbf{Model:}            &       OLS        & \\textbf{  Adj. R-squared:    } &     0.006   \\\\\n",
       "\\textbf{Method:}           &  Least Squares   & \\textbf{  F-statistic:       } &     4.350   \\\\\n",
       "\\textbf{Date:}             & Tue, 05 Mar 2024 & \\textbf{  Prob (F-statistic):} &  3.04e-05   \\\\\n",
       "\\textbf{Time:}             &     01:01:21     & \\textbf{  Log-Likelihood:    } &   -551.02   \\\\\n",
       "\\textbf{No. Observations:} &        4870      & \\textbf{  AIC:               } &     1120.   \\\\\n",
       "\\textbf{Df Residuals:}     &        4861      & \\textbf{  BIC:               } &     1178.   \\\\\n",
       "\\textbf{Df Model:}         &           8      & \\textbf{                     } &             \\\\\n",
       "\\textbf{Covariance Type:}  &       HC3        & \\textbf{                     } &             \\\\\n",
       "\\bottomrule\n",
       "\\end{tabular}\n",
       "\\begin{tabular}{lcccccc}\n",
       "                           & \\textbf{coef} & \\textbf{std err} & \\textbf{t} & \\textbf{P$> |$t$|$} & \\textbf{[0.025} & \\textbf{0.975]}  \\\\\n",
       "\\midrule\n",
       "\\textbf{Intercept}         &       0.0821  &        0.040     &     2.053  &         0.040        &        0.004    &        0.160     \\\\\n",
       "\\textbf{C(education)[T.1]} &      -0.0017  &        0.057     &    -0.030  &         0.976        &       -0.113    &        0.110     \\\\\n",
       "\\textbf{C(education)[T.2]} &   -8.953e-05  &        0.042     &    -0.002  &         0.998        &       -0.082    &        0.082     \\\\\n",
       "\\textbf{C(education)[T.3]} &      -0.0025  &        0.039     &    -0.065  &         0.948        &       -0.079    &        0.074     \\\\\n",
       "\\textbf{C(education)[T.4]} &      -0.0047  &        0.038     &    -0.124  &         0.901        &       -0.080    &        0.070     \\\\\n",
       "\\textbf{black}             &      -0.0316  &        0.008     &    -4.076  &         0.000        &       -0.047    &       -0.016     \\\\\n",
       "\\textbf{yearsexp}          &       0.0032  &        0.001     &     3.665  &         0.000        &        0.001    &        0.005     \\\\\n",
       "\\textbf{female}            &       0.0112  &        0.010     &     1.165  &         0.244        &       -0.008    &        0.030     \\\\\n",
       "\\textbf{computerskills}    &      -0.0186  &        0.011     &    -1.616  &         0.106        &       -0.041    &        0.004     \\\\\n",
       "\\bottomrule\n",
       "\\end{tabular}\n",
       "\\begin{tabular}{lclc}\n",
       "\\textbf{Omnibus:}       & 2950.646 & \\textbf{  Durbin-Watson:     } &     1.448  \\\\\n",
       "\\textbf{Prob(Omnibus):} &   0.000  & \\textbf{  Jarque-Bera (JB):  } & 18631.250  \\\\\n",
       "\\textbf{Skew:}          &   3.047  & \\textbf{  Prob(JB):          } &      0.00  \\\\\n",
       "\\textbf{Kurtosis:}      &  10.395  & \\textbf{  Cond. No.          } &      225.  \\\\\n",
       "\\bottomrule\n",
       "\\end{tabular}\n",
       "%\\caption{OLS Regression Results}\n",
       "\\end{center}\n",
       "\n",
       "Notes: \\newline\n",
       " [1] Standard Errors are heteroscedasticity robust (HC3)"
      ],
      "text/plain": [
       "<class 'statsmodels.iolib.summary.Summary'>\n",
       "\"\"\"\n",
       "                            OLS Regression Results                            \n",
       "==============================================================================\n",
       "Dep. Variable:                   call   R-squared:                       0.008\n",
       "Model:                            OLS   Adj. R-squared:                  0.006\n",
       "Method:                 Least Squares   F-statistic:                     4.350\n",
       "Date:                Tue, 05 Mar 2024   Prob (F-statistic):           3.04e-05\n",
       "Time:                        01:01:21   Log-Likelihood:                -551.02\n",
       "No. Observations:                4870   AIC:                             1120.\n",
       "Df Residuals:                    4861   BIC:                             1178.\n",
       "Df Model:                           8                                         \n",
       "Covariance Type:                  HC3                                         \n",
       "=====================================================================================\n",
       "                        coef    std err          t      P>|t|      [0.025      0.975]\n",
       "-------------------------------------------------------------------------------------\n",
       "Intercept             0.0821      0.040      2.053      0.040       0.004       0.160\n",
       "C(education)[T.1]    -0.0017      0.057     -0.030      0.976      -0.113       0.110\n",
       "C(education)[T.2] -8.953e-05      0.042     -0.002      0.998      -0.082       0.082\n",
       "C(education)[T.3]    -0.0025      0.039     -0.065      0.948      -0.079       0.074\n",
       "C(education)[T.4]    -0.0047      0.038     -0.124      0.901      -0.080       0.070\n",
       "black                -0.0316      0.008     -4.076      0.000      -0.047      -0.016\n",
       "yearsexp              0.0032      0.001      3.665      0.000       0.001       0.005\n",
       "female                0.0112      0.010      1.165      0.244      -0.008       0.030\n",
       "computerskills       -0.0186      0.011     -1.616      0.106      -0.041       0.004\n",
       "==============================================================================\n",
       "Omnibus:                     2950.646   Durbin-Watson:                   1.448\n",
       "Prob(Omnibus):                  0.000   Jarque-Bera (JB):            18631.250\n",
       "Skew:                           3.047   Prob(JB):                         0.00\n",
       "Kurtosis:                      10.395   Cond. No.                         225.\n",
       "==============================================================================\n",
       "\n",
       "Notes:\n",
       "[1] Standard Errors are heteroscedasticity robust (HC3)\n",
       "\"\"\""
      ]
     },
     "execution_count": 12,
     "metadata": {},
     "output_type": "execute_result"
    }
   ],
   "source": [
    "model2 = smf.ols(\n",
    "    \"call~black+C(education)+yearsexp+female+computerskills\", data=db\n",
    ").fit()\n",
    "model2.get_robustcov_results(\"HC3\").summary()"
   ]
  },
  {
   "cell_type": "markdown",
   "metadata": {},
   "source": [
    "> Adding more variables to the model seems to improve the estimates of the model considering significant p-values. "
   ]
  },
  {
   "cell_type": "markdown",
   "metadata": {},
   "source": [
    "## Estimating Heterogeneous Effects"
   ]
  },
  {
   "attachments": {},
   "cell_type": "markdown",
   "metadata": {},
   "source": [
    "### Exercise 8\n",
    "\n",
    "As you may recall from some past readings (such as this one on the [migraine medication Aimovig](https://ds4humans.com/30_questions/15_answering_exploratory_questions.html#faithful-representations)), our focus on estimating *Average Treatment Effects* runs the risk of papering over variation in how individuals respond. In the case of Aimovig, for example, nearly no patients actually experienced the Average Treatment Effect of the medication; around half of patients experienced no benefit, while the other half experienced a benefit of about twice the average treatment effect.\n",
    "\n",
    "So far in this analysis we've been focusing on the *average* effect of having a Black-sounding name (as compared to a White-sounding name). But we can actually use our regression framework to look for evidence of *heterogeneous treatment effects*—effects that are different for different types of people in our data. We accomplish this by *interacting* a variable we think may be related to experiencing a differential treatment effect with our treatment variable. For example, if we think that applicants with Black-sounding names who have a college degree are likely to experience less discrimination, we can interact `black` with an indicator for having a college degree. If having a college degree reduces discrimination, we could expect the interaction term to be positive. \n",
    "\n",
    "Is there more or less racial discrimination (the absolute magnitude difference in call back rates between Black and White applicants) among applicants who have a college degree? Store your answer as the string `\"more discrimination\"` or `\"less discrimination\"` under the key `\"ex8_college_heterogeneity\"`.\n",
    "\n",
    "Please still include `education`, `yearsexp`, `female`, and `computerskills` as controls.\n",
    "\n",
    "**Note:** it's relatively safe to assume that someone hiring employees who sees a resume that does *not* report education levels will assume the applicant does not have a college degree. So treat \"No education reported\" as \"not having a college degree.\"\n",
    "\n",
    "In percentage points, what is the difference in call back rates:\n",
    "\n",
    "- between White applicants without a college degree and Black applicants without a college degree (`ex8_black_nocollege`).\n",
    "- between White applicants with a college degree and Black applicants with a college degree (`ex8_black_college`).\n",
    "\n",
    "Use negative values to denote a lower probability for Black applicants to get a call back. **Scale so a value of `1` is a one percentage point difference. Please round your answer to 2 percentage points.**\n",
    "\n",
    "Focus on the coefficient values, even if the significance is low."
   ]
  },
  {
   "cell_type": "code",
   "execution_count": 13,
   "metadata": {},
   "outputs": [
    {
     "data": {
      "text/html": [
       "<table class=\"simpletable\">\n",
       "<caption>OLS Regression Results</caption>\n",
       "<tr>\n",
       "  <th>Dep. Variable:</th>          <td>call</td>       <th>  R-squared:         </th> <td>   0.008</td>\n",
       "</tr>\n",
       "<tr>\n",
       "  <th>Model:</th>                   <td>OLS</td>       <th>  Adj. R-squared:    </th> <td>   0.007</td>\n",
       "</tr>\n",
       "<tr>\n",
       "  <th>Method:</th>             <td>Least Squares</td>  <th>  F-statistic:       </th> <td>   5.874</td>\n",
       "</tr>\n",
       "<tr>\n",
       "  <th>Date:</th>             <td>Tue, 05 Mar 2024</td> <th>  Prob (F-statistic):</th> <td>4.06e-06</td>\n",
       "</tr>\n",
       "<tr>\n",
       "  <th>Time:</th>                 <td>01:01:21</td>     <th>  Log-Likelihood:    </th> <td> -550.77</td>\n",
       "</tr>\n",
       "<tr>\n",
       "  <th>No. Observations:</th>      <td>  4870</td>      <th>  AIC:               </th> <td>   1116.</td>\n",
       "</tr>\n",
       "<tr>\n",
       "  <th>Df Residuals:</th>          <td>  4863</td>      <th>  BIC:               </th> <td>   1161.</td>\n",
       "</tr>\n",
       "<tr>\n",
       "  <th>Df Model:</th>              <td>     6</td>      <th>                     </th>     <td> </td>   \n",
       "</tr>\n",
       "<tr>\n",
       "  <th>Covariance Type:</th>         <td>HC3</td>       <th>                     </th>     <td> </td>   \n",
       "</tr>\n",
       "</table>\n",
       "<table class=\"simpletable\">\n",
       "<tr>\n",
       "         <td></td>           <th>coef</th>     <th>std err</th>      <th>t</th>      <th>P>|t|</th>  <th>[0.025</th>    <th>0.975]</th>  \n",
       "</tr>\n",
       "<tr>\n",
       "  <th>Intercept</th>      <td>    0.0849</td> <td>    0.018</td> <td>    4.667</td> <td> 0.000</td> <td>    0.049</td> <td>    0.121</td>\n",
       "</tr>\n",
       "<tr>\n",
       "  <th>black</th>          <td>   -0.0405</td> <td>    0.015</td> <td>   -2.719</td> <td> 0.007</td> <td>   -0.070</td> <td>   -0.011</td>\n",
       "</tr>\n",
       "<tr>\n",
       "  <th>college</th>        <td>   -0.0090</td> <td>    0.014</td> <td>   -0.652</td> <td> 0.514</td> <td>   -0.036</td> <td>    0.018</td>\n",
       "</tr>\n",
       "<tr>\n",
       "  <th>black:college</th>  <td>    0.0123</td> <td>    0.017</td> <td>    0.705</td> <td> 0.481</td> <td>   -0.022</td> <td>    0.047</td>\n",
       "</tr>\n",
       "<tr>\n",
       "  <th>yearsexp</th>       <td>    0.0032</td> <td>    0.001</td> <td>    3.673</td> <td> 0.000</td> <td>    0.001</td> <td>    0.005</td>\n",
       "</tr>\n",
       "<tr>\n",
       "  <th>female</th>         <td>    0.0110</td> <td>    0.010</td> <td>    1.147</td> <td> 0.251</td> <td>   -0.008</td> <td>    0.030</td>\n",
       "</tr>\n",
       "<tr>\n",
       "  <th>computerskills</th> <td>   -0.0188</td> <td>    0.011</td> <td>   -1.660</td> <td> 0.097</td> <td>   -0.041</td> <td>    0.003</td>\n",
       "</tr>\n",
       "</table>\n",
       "<table class=\"simpletable\">\n",
       "<tr>\n",
       "  <th>Omnibus:</th>       <td>2950.206</td> <th>  Durbin-Watson:     </th> <td>   1.448</td> \n",
       "</tr>\n",
       "<tr>\n",
       "  <th>Prob(Omnibus):</th>  <td> 0.000</td>  <th>  Jarque-Bera (JB):  </th> <td>18624.275</td>\n",
       "</tr>\n",
       "<tr>\n",
       "  <th>Skew:</th>           <td> 3.047</td>  <th>  Prob(JB):          </th> <td>    0.00</td> \n",
       "</tr>\n",
       "<tr>\n",
       "  <th>Kurtosis:</th>       <td>10.393</td>  <th>  Cond. No.          </th> <td>    62.2</td> \n",
       "</tr>\n",
       "</table><br/><br/>Notes:<br/>[1] Standard Errors are heteroscedasticity robust (HC3)"
      ],
      "text/latex": [
       "\\begin{center}\n",
       "\\begin{tabular}{lclc}\n",
       "\\toprule\n",
       "\\textbf{Dep. Variable:}    &       call       & \\textbf{  R-squared:         } &     0.008   \\\\\n",
       "\\textbf{Model:}            &       OLS        & \\textbf{  Adj. R-squared:    } &     0.007   \\\\\n",
       "\\textbf{Method:}           &  Least Squares   & \\textbf{  F-statistic:       } &     5.874   \\\\\n",
       "\\textbf{Date:}             & Tue, 05 Mar 2024 & \\textbf{  Prob (F-statistic):} &  4.06e-06   \\\\\n",
       "\\textbf{Time:}             &     01:01:21     & \\textbf{  Log-Likelihood:    } &   -550.77   \\\\\n",
       "\\textbf{No. Observations:} &        4870      & \\textbf{  AIC:               } &     1116.   \\\\\n",
       "\\textbf{Df Residuals:}     &        4863      & \\textbf{  BIC:               } &     1161.   \\\\\n",
       "\\textbf{Df Model:}         &           6      & \\textbf{                     } &             \\\\\n",
       "\\textbf{Covariance Type:}  &       HC3        & \\textbf{                     } &             \\\\\n",
       "\\bottomrule\n",
       "\\end{tabular}\n",
       "\\begin{tabular}{lcccccc}\n",
       "                        & \\textbf{coef} & \\textbf{std err} & \\textbf{t} & \\textbf{P$> |$t$|$} & \\textbf{[0.025} & \\textbf{0.975]}  \\\\\n",
       "\\midrule\n",
       "\\textbf{Intercept}      &       0.0849  &        0.018     &     4.667  &         0.000        &        0.049    &        0.121     \\\\\n",
       "\\textbf{black}          &      -0.0405  &        0.015     &    -2.719  &         0.007        &       -0.070    &       -0.011     \\\\\n",
       "\\textbf{college}        &      -0.0090  &        0.014     &    -0.652  &         0.514        &       -0.036    &        0.018     \\\\\n",
       "\\textbf{black:college}  &       0.0123  &        0.017     &     0.705  &         0.481        &       -0.022    &        0.047     \\\\\n",
       "\\textbf{yearsexp}       &       0.0032  &        0.001     &     3.673  &         0.000        &        0.001    &        0.005     \\\\\n",
       "\\textbf{female}         &       0.0110  &        0.010     &     1.147  &         0.251        &       -0.008    &        0.030     \\\\\n",
       "\\textbf{computerskills} &      -0.0188  &        0.011     &    -1.660  &         0.097        &       -0.041    &        0.003     \\\\\n",
       "\\bottomrule\n",
       "\\end{tabular}\n",
       "\\begin{tabular}{lclc}\n",
       "\\textbf{Omnibus:}       & 2950.206 & \\textbf{  Durbin-Watson:     } &     1.448  \\\\\n",
       "\\textbf{Prob(Omnibus):} &   0.000  & \\textbf{  Jarque-Bera (JB):  } & 18624.275  \\\\\n",
       "\\textbf{Skew:}          &   3.047  & \\textbf{  Prob(JB):          } &      0.00  \\\\\n",
       "\\textbf{Kurtosis:}      &  10.393  & \\textbf{  Cond. No.          } &      62.2  \\\\\n",
       "\\bottomrule\n",
       "\\end{tabular}\n",
       "%\\caption{OLS Regression Results}\n",
       "\\end{center}\n",
       "\n",
       "Notes: \\newline\n",
       " [1] Standard Errors are heteroscedasticity robust (HC3)"
      ],
      "text/plain": [
       "<class 'statsmodels.iolib.summary.Summary'>\n",
       "\"\"\"\n",
       "                            OLS Regression Results                            \n",
       "==============================================================================\n",
       "Dep. Variable:                   call   R-squared:                       0.008\n",
       "Model:                            OLS   Adj. R-squared:                  0.007\n",
       "Method:                 Least Squares   F-statistic:                     5.874\n",
       "Date:                Tue, 05 Mar 2024   Prob (F-statistic):           4.06e-06\n",
       "Time:                        01:01:21   Log-Likelihood:                -550.77\n",
       "No. Observations:                4870   AIC:                             1116.\n",
       "Df Residuals:                    4863   BIC:                             1161.\n",
       "Df Model:                           6                                         \n",
       "Covariance Type:                  HC3                                         \n",
       "==================================================================================\n",
       "                     coef    std err          t      P>|t|      [0.025      0.975]\n",
       "----------------------------------------------------------------------------------\n",
       "Intercept          0.0849      0.018      4.667      0.000       0.049       0.121\n",
       "black             -0.0405      0.015     -2.719      0.007      -0.070      -0.011\n",
       "college           -0.0090      0.014     -0.652      0.514      -0.036       0.018\n",
       "black:college      0.0123      0.017      0.705      0.481      -0.022       0.047\n",
       "yearsexp           0.0032      0.001      3.673      0.000       0.001       0.005\n",
       "female             0.0110      0.010      1.147      0.251      -0.008       0.030\n",
       "computerskills    -0.0188      0.011     -1.660      0.097      -0.041       0.003\n",
       "==============================================================================\n",
       "Omnibus:                     2950.206   Durbin-Watson:                   1.448\n",
       "Prob(Omnibus):                  0.000   Jarque-Bera (JB):            18624.275\n",
       "Skew:                           3.047   Prob(JB):                         0.00\n",
       "Kurtosis:                      10.393   Cond. No.                         62.2\n",
       "==============================================================================\n",
       "\n",
       "Notes:\n",
       "[1] Standard Errors are heteroscedasticity robust (HC3)\n",
       "\"\"\""
      ]
     },
     "execution_count": 13,
     "metadata": {},
     "output_type": "execute_result"
    }
   ],
   "source": [
    "db[\"college\"] = np.where(db[\"education\"] == 4, 1, 0)\n",
    "model3 = smf.ols(\n",
    "    \"call~black*college+college+yearsexp+female+computerskills\", data=db\n",
    ").fit()\n",
    "model3.get_robustcov_results(\"HC3\").summary()"
   ]
  },
  {
   "cell_type": "code",
   "execution_count": 14,
   "metadata": {},
   "outputs": [],
   "source": [
    "results[\"ex8_college_heterogeneity\"] = \"less discrimination\"\n",
    "results[\"ex8_black_college\"] = round((0.0123 - 0.0405) * 100, 2)\n",
    "results[\"ex8_black_nocollege\"] = round((-0.0405 * 100), 2)"
   ]
  },
  {
   "cell_type": "code",
   "execution_count": 15,
   "metadata": {},
   "outputs": [
    {
     "name": "stdout",
     "output_type": "stream",
     "text": [
      "There is less racial discrimination among applicants who have a college degree \n",
      "The difference in callback rates between White applicants without a college degree and Black applicants without a college degree is -2.82 percentage points\n",
      "The difference in callback rates between White applicants with a college degree and Black applicants with a college is -4.05 percentage points\n"
     ]
    }
   ],
   "source": [
    "print(\"There is less racial discrimination among applicants who have a college degree \")\n",
    "\n",
    "\n",
    "print(\n",
    "    f'The difference in callback rates between White applicants without a college degree and Black applicants without a college degree is {results[\"ex8_black_college\"]} percentage points'\n",
    ")\n",
    "print(\n",
    "    f'The difference in callback rates between White applicants with a college degree and Black applicants with a college is {results[\"ex8_black_nocollege\"]} percentage points'\n",
    ")"
   ]
  },
  {
   "attachments": {},
   "cell_type": "markdown",
   "metadata": {},
   "source": [
    "### Exercise 9\n",
    "\n",
    "Now let's compare men and women—is the penalty for having a Black-sounding name greater for Black men or Black women? Store your answer as `\"greater discrimination for men\"` or `\"greater discrimination for women\"` in `\"ex9_gender_and_discrimination\"`.\n",
    "\n",
    "Focus on the coefficient values, even if the significance is low.\n",
    "\n",
    "Again, please still include `education`, `yearsexp`, `female`, and `computerskills` as controls."
   ]
  },
  {
   "cell_type": "code",
   "execution_count": 16,
   "metadata": {},
   "outputs": [
    {
     "data": {
      "text/html": [
       "<table class=\"simpletable\">\n",
       "<caption>OLS Regression Results</caption>\n",
       "<tr>\n",
       "  <th>Dep. Variable:</th>          <td>call</td>       <th>  R-squared:         </th> <td>   0.008</td>\n",
       "</tr>\n",
       "<tr>\n",
       "  <th>Model:</th>                   <td>OLS</td>       <th>  Adj. R-squared:    </th> <td>   0.007</td>\n",
       "</tr>\n",
       "<tr>\n",
       "  <th>Method:</th>             <td>Least Squares</td>  <th>  F-statistic:       </th> <td>   5.767</td>\n",
       "</tr>\n",
       "<tr>\n",
       "  <th>Date:</th>             <td>Tue, 05 Mar 2024</td> <th>  Prob (F-statistic):</th> <td>5.41e-06</td>\n",
       "</tr>\n",
       "<tr>\n",
       "  <th>Time:</th>                 <td>01:01:21</td>     <th>  Log-Likelihood:    </th> <td> -551.00</td>\n",
       "</tr>\n",
       "<tr>\n",
       "  <th>No. Observations:</th>      <td>  4870</td>      <th>  AIC:               </th> <td>   1116.</td>\n",
       "</tr>\n",
       "<tr>\n",
       "  <th>Df Residuals:</th>          <td>  4863</td>      <th>  BIC:               </th> <td>   1161.</td>\n",
       "</tr>\n",
       "<tr>\n",
       "  <th>Df Model:</th>              <td>     6</td>      <th>                     </th>     <td> </td>   \n",
       "</tr>\n",
       "<tr>\n",
       "  <th>Covariance Type:</th>         <td>HC3</td>       <th>                     </th>     <td> </td>   \n",
       "</tr>\n",
       "</table>\n",
       "<table class=\"simpletable\">\n",
       "<tr>\n",
       "         <td></td>           <th>coef</th>     <th>std err</th>      <th>t</th>      <th>P>|t|</th>  <th>[0.025</th>    <th>0.975]</th>  \n",
       "</tr>\n",
       "<tr>\n",
       "  <th>Intercept</th>      <td>    0.0831</td> <td>    0.026</td> <td>    3.220</td> <td> 0.001</td> <td>    0.033</td> <td>    0.134</td>\n",
       "</tr>\n",
       "<tr>\n",
       "  <th>black</th>          <td>   -0.0287</td> <td>    0.016</td> <td>   -1.842</td> <td> 0.065</td> <td>   -0.059</td> <td>    0.002</td>\n",
       "</tr>\n",
       "<tr>\n",
       "  <th>female</th>         <td>    0.0133</td> <td>    0.014</td> <td>    0.943</td> <td> 0.345</td> <td>   -0.014</td> <td>    0.041</td>\n",
       "</tr>\n",
       "<tr>\n",
       "  <th>black:female</th>   <td>   -0.0038</td> <td>    0.018</td> <td>   -0.212</td> <td> 0.832</td> <td>   -0.039</td> <td>    0.031</td>\n",
       "</tr>\n",
       "<tr>\n",
       "  <th>education</th>      <td>   -0.0018</td> <td>    0.005</td> <td>   -0.329</td> <td> 0.742</td> <td>   -0.013</td> <td>    0.009</td>\n",
       "</tr>\n",
       "<tr>\n",
       "  <th>yearsexp</th>       <td>    0.0032</td> <td>    0.001</td> <td>    3.671</td> <td> 0.000</td> <td>    0.001</td> <td>    0.005</td>\n",
       "</tr>\n",
       "<tr>\n",
       "  <th>computerskills</th> <td>   -0.0187</td> <td>    0.011</td> <td>   -1.650</td> <td> 0.099</td> <td>   -0.041</td> <td>    0.004</td>\n",
       "</tr>\n",
       "</table>\n",
       "<table class=\"simpletable\">\n",
       "<tr>\n",
       "  <th>Omnibus:</th>       <td>2950.598</td> <th>  Durbin-Watson:     </th> <td>   1.448</td> \n",
       "</tr>\n",
       "<tr>\n",
       "  <th>Prob(Omnibus):</th>  <td> 0.000</td>  <th>  Jarque-Bera (JB):  </th> <td>18630.523</td>\n",
       "</tr>\n",
       "<tr>\n",
       "  <th>Skew:</th>           <td> 3.047</td>  <th>  Prob(JB):          </th> <td>    0.00</td> \n",
       "</tr>\n",
       "<tr>\n",
       "  <th>Kurtosis:</th>       <td>10.394</td>  <th>  Cond. No.          </th> <td>    75.6</td> \n",
       "</tr>\n",
       "</table><br/><br/>Notes:<br/>[1] Standard Errors are heteroscedasticity robust (HC3)"
      ],
      "text/latex": [
       "\\begin{center}\n",
       "\\begin{tabular}{lclc}\n",
       "\\toprule\n",
       "\\textbf{Dep. Variable:}    &       call       & \\textbf{  R-squared:         } &     0.008   \\\\\n",
       "\\textbf{Model:}            &       OLS        & \\textbf{  Adj. R-squared:    } &     0.007   \\\\\n",
       "\\textbf{Method:}           &  Least Squares   & \\textbf{  F-statistic:       } &     5.767   \\\\\n",
       "\\textbf{Date:}             & Tue, 05 Mar 2024 & \\textbf{  Prob (F-statistic):} &  5.41e-06   \\\\\n",
       "\\textbf{Time:}             &     01:01:21     & \\textbf{  Log-Likelihood:    } &   -551.00   \\\\\n",
       "\\textbf{No. Observations:} &        4870      & \\textbf{  AIC:               } &     1116.   \\\\\n",
       "\\textbf{Df Residuals:}     &        4863      & \\textbf{  BIC:               } &     1161.   \\\\\n",
       "\\textbf{Df Model:}         &           6      & \\textbf{                     } &             \\\\\n",
       "\\textbf{Covariance Type:}  &       HC3        & \\textbf{                     } &             \\\\\n",
       "\\bottomrule\n",
       "\\end{tabular}\n",
       "\\begin{tabular}{lcccccc}\n",
       "                        & \\textbf{coef} & \\textbf{std err} & \\textbf{t} & \\textbf{P$> |$t$|$} & \\textbf{[0.025} & \\textbf{0.975]}  \\\\\n",
       "\\midrule\n",
       "\\textbf{Intercept}      &       0.0831  &        0.026     &     3.220  &         0.001        &        0.033    &        0.134     \\\\\n",
       "\\textbf{black}          &      -0.0287  &        0.016     &    -1.842  &         0.065        &       -0.059    &        0.002     \\\\\n",
       "\\textbf{female}         &       0.0133  &        0.014     &     0.943  &         0.345        &       -0.014    &        0.041     \\\\\n",
       "\\textbf{black:female}   &      -0.0038  &        0.018     &    -0.212  &         0.832        &       -0.039    &        0.031     \\\\\n",
       "\\textbf{education}      &      -0.0018  &        0.005     &    -0.329  &         0.742        &       -0.013    &        0.009     \\\\\n",
       "\\textbf{yearsexp}       &       0.0032  &        0.001     &     3.671  &         0.000        &        0.001    &        0.005     \\\\\n",
       "\\textbf{computerskills} &      -0.0187  &        0.011     &    -1.650  &         0.099        &       -0.041    &        0.004     \\\\\n",
       "\\bottomrule\n",
       "\\end{tabular}\n",
       "\\begin{tabular}{lclc}\n",
       "\\textbf{Omnibus:}       & 2950.598 & \\textbf{  Durbin-Watson:     } &     1.448  \\\\\n",
       "\\textbf{Prob(Omnibus):} &   0.000  & \\textbf{  Jarque-Bera (JB):  } & 18630.523  \\\\\n",
       "\\textbf{Skew:}          &   3.047  & \\textbf{  Prob(JB):          } &      0.00  \\\\\n",
       "\\textbf{Kurtosis:}      &  10.394  & \\textbf{  Cond. No.          } &      75.6  \\\\\n",
       "\\bottomrule\n",
       "\\end{tabular}\n",
       "%\\caption{OLS Regression Results}\n",
       "\\end{center}\n",
       "\n",
       "Notes: \\newline\n",
       " [1] Standard Errors are heteroscedasticity robust (HC3)"
      ],
      "text/plain": [
       "<class 'statsmodels.iolib.summary.Summary'>\n",
       "\"\"\"\n",
       "                            OLS Regression Results                            \n",
       "==============================================================================\n",
       "Dep. Variable:                   call   R-squared:                       0.008\n",
       "Model:                            OLS   Adj. R-squared:                  0.007\n",
       "Method:                 Least Squares   F-statistic:                     5.767\n",
       "Date:                Tue, 05 Mar 2024   Prob (F-statistic):           5.41e-06\n",
       "Time:                        01:01:21   Log-Likelihood:                -551.00\n",
       "No. Observations:                4870   AIC:                             1116.\n",
       "Df Residuals:                    4863   BIC:                             1161.\n",
       "Df Model:                           6                                         \n",
       "Covariance Type:                  HC3                                         \n",
       "==================================================================================\n",
       "                     coef    std err          t      P>|t|      [0.025      0.975]\n",
       "----------------------------------------------------------------------------------\n",
       "Intercept          0.0831      0.026      3.220      0.001       0.033       0.134\n",
       "black             -0.0287      0.016     -1.842      0.065      -0.059       0.002\n",
       "female             0.0133      0.014      0.943      0.345      -0.014       0.041\n",
       "black:female      -0.0038      0.018     -0.212      0.832      -0.039       0.031\n",
       "education         -0.0018      0.005     -0.329      0.742      -0.013       0.009\n",
       "yearsexp           0.0032      0.001      3.671      0.000       0.001       0.005\n",
       "computerskills    -0.0187      0.011     -1.650      0.099      -0.041       0.004\n",
       "==============================================================================\n",
       "Omnibus:                     2950.598   Durbin-Watson:                   1.448\n",
       "Prob(Omnibus):                  0.000   Jarque-Bera (JB):            18630.523\n",
       "Skew:                           3.047   Prob(JB):                         0.00\n",
       "Kurtosis:                      10.394   Cond. No.                         75.6\n",
       "==============================================================================\n",
       "\n",
       "Notes:\n",
       "[1] Standard Errors are heteroscedasticity robust (HC3)\n",
       "\"\"\""
      ]
     },
     "execution_count": 16,
     "metadata": {},
     "output_type": "execute_result"
    }
   ],
   "source": [
    "model4 = smf.ols(\n",
    "    \"call~black*female+education+yearsexp+female+computerskills\", data=db\n",
    ").fit()\n",
    "model4.get_robustcov_results(\"HC3\").summary()"
   ]
  },
  {
   "cell_type": "code",
   "execution_count": 17,
   "metadata": {},
   "outputs": [],
   "source": [
    "results[\"ex9_gender_and_discrimination\"] = \"greater discrimination for women\""
   ]
  },
  {
   "cell_type": "markdown",
   "metadata": {},
   "source": [
    "> The penalty of having a black sounding name is greater for women. "
   ]
  },
  {
   "cell_type": "markdown",
   "metadata": {},
   "source": [
    "### Exercise 10\n",
    "\n",
    "Calculate and/or lookup the following online:\n",
    "\n",
    "- What is the share of applicants in our dataset with college degrees?\n",
    "- What share of Black adult Americans have college degrees (i.e. have completed a bachelors degree)?\n",
    "\n",
    "Is the share of Black applicants with college degrees in this data `\"greater\"`, or `\"less\"` than in the US? Store your answer as one of those strings in `\"ex10_experiment_v_us\"`"
   ]
  },
  {
   "cell_type": "code",
   "execution_count": 18,
   "metadata": {},
   "outputs": [
    {
     "name": "stdout",
     "output_type": "stream",
     "text": [
      "In the dataset the share of applicants with college degrees in our dataset is 71.95% and the share of black applicants with college degrees is 72.28% \n"
     ]
    }
   ],
   "source": [
    "share_college = (db[db.college == 1].shape[0] / db.shape[0]) * 100\n",
    "black.loc[:, \"college\"] = np.where(black[\"education\"] == 4, 1, 0)\n",
    "share_black_college = (black[black.college == 1].shape[0] / black.shape[0]) * 100\n",
    "\n",
    "print(\n",
    "    f\"In the dataset the share of applicants with college degrees in our dataset is {round(share_college,2)}% and the share of black applicants with college degrees is {round(share_black_college,2)}% \"\n",
    ")"
   ]
  },
  {
   "cell_type": "markdown",
   "metadata": {},
   "source": [
    "> However, the Census Overview by the [Postsecondary National Policy Institute](https://pnpi.org/factsheets/black-students/#:~:text=CENSUS%20OVERVIEW,the%20national%20rate%20of%2032.9%25.), among Black residents aged 25 or over, 22.6% had earned a bachelor’s degree or higher. This rate is up from 17.9% in 2010, but falls short of the national rate of 32.9%. Hence, the share of Black applicants with college degress in this data is greater than in the US. "
   ]
  },
  {
   "cell_type": "code",
   "execution_count": 19,
   "metadata": {},
   "outputs": [],
   "source": [
    "results[\"ex10_experiment_v_us\"] = \"greater\""
   ]
  },
  {
   "attachments": {},
   "cell_type": "markdown",
   "metadata": {},
   "source": [
    "### Exercise 11\n",
    "\n",
    "Bearing in mind your answers to Exercise 8 and to Exercise 10, how do you think the Average Treatment Effect you estimated in Exercises 5 and 6 might generalize to the experience of the average Black American (i.e., how do you think the ATE for the average Black American would compare to the ATE estimated from this experiment)?\n"
   ]
  },
  {
   "attachments": {},
   "cell_type": "markdown",
   "metadata": {},
   "source": [
    "### Exercise 12\n",
    "\n",
    "What does your answer to Exercise 10 imply about the study's *internal* validity?"
   ]
  },
  {
   "attachments": {},
   "cell_type": "markdown",
   "metadata": {},
   "source": [
    "### Exercise 13\n",
    "\n",
    "What does your answer to Exercise 10 imply about the study's *external* validity?"
   ]
  },
  {
   "attachments": {},
   "cell_type": "markdown",
   "metadata": {},
   "source": [
    "## What Did We Just Measure?\n",
    "\n",
    "It's worth pausing for a moment to think about exactly what we've measured in this experiment. Was it the effect of race on hiring? Or the difference in the experience of the average White job applicant from the average Black job applicant?\n",
    "\n",
    "Well... no. What we have measured in this experiment is **just** the effect of having a Black-sounding name (as opposed to a White-sounding name) on your resume on the likelihood of getting a followup call from someone hiring in Boston or Chicago given identical resumes. In that sense, what we've measured is a small *piece* of the difference in the experience of Black and White Americans when seeking employment. As anyone looking for a job knows, getting a call-back is obviously a crucial step in getting a job, so this difference—even if it's just one part of the overall difference—is remarkable."
   ]
  },
  {
   "cell_type": "code",
   "execution_count": 20,
   "metadata": {},
   "outputs": [],
   "source": [
    "assert set(results.keys()) == {\n",
    "    \"ex2_pvalue_computerskills\",\n",
    "    \"ex2_pvalue_female\",\n",
    "    \"ex2_pvalue_yearsexp\",\n",
    "    \"ex3_pvalue_education\",\n",
    "    \"ex4_validity\",\n",
    "    \"ex5_pvalue\",\n",
    "    \"ex5_white_advantage_percent\",\n",
    "    \"ex5_white_advantage_percentage_points\",\n",
    "    \"ex6_black_pvalue\",\n",
    "    \"ex8_black_college\",\n",
    "    \"ex8_black_nocollege\",\n",
    "    \"ex8_college_heterogeneity\",\n",
    "    \"ex9_gender_and_discrimination\",\n",
    "    \"ex10_experiment_v_us\",\n",
    "}"
   ]
  }
 ],
 "metadata": {
  "kernelspec": {
   "display_name": "base",
   "language": "python",
   "name": "python3"
  },
  "language_info": {
   "codemirror_mode": {
    "name": "ipython",
    "version": 3
   },
   "file_extension": ".py",
   "mimetype": "text/x-python",
   "name": "python",
   "nbconvert_exporter": "python",
   "pygments_lexer": "ipython3",
   "version": "3.11.5"
  },
  "vscode": {
   "interpreter": {
    "hash": "718fed28bf9f8c7851519acf2fb923cd655120b36de3b67253eeb0428bd33d2d"
   }
  }
 },
 "nbformat": 4,
 "nbformat_minor": 4
}
