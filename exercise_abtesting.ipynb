{
 "cells": [
  {
   "cell_type": "markdown",
   "metadata": {},
   "source": [
    "# A/B Testing the Udacity Website\n",
    "\n",
    "In these exercises, we'll be analyzing data on user behavior from an experiment run by Udacity, the online education company. More specifically, we'll be looking at a test Udacity ran to improve the onboarding process on their site.\n",
    "\n",
    "Udacity's test is an example of an \"A/B\" test, in which some portion of users visiting a website (or using an app) are randomly selected to see a new version of the site. An analyst can then compare the behavior of users who see a new website design to users seeing their normal website to estimate the effect of rolling out the proposed changes to all users. While this kind of experiment has it's own name in industry (A/B testing), to be clear it's just a randomized experiment, and so everything we've learned about potential outcomes and randomized experiments apply here. \n",
    "\n",
    "(Udacity has generously provides the data from this test under an Apache open-source license, and you can find their [original writeup here](https://www.kaggle.com/tammyrotem/ab-tests-with-python/notebook). If you're interested in learning more on A/B testing in particular, it seems only fair while we use their data to flag they have a full course on the subject [here](https://www.udacity.com/course/ab-testing--ud257).)\n",
    "\n",
    "## Udacity's Test\n",
    "\n",
    "The test [is described by Udacity as follows](https://www.kaggle.com/tammyrotem/ab-tests-with-python/notebook): \n",
    "\n",
    "At the time of this experiment, Udacity courses currently have two options on the course overview page: \"start free trial\", and \"access course materials\".\n",
    "\n",
    "**Current Conditions Before Change**\n",
    "\n",
    "- If the student clicks \"start free trial\", they will be asked to enter their credit card information, and then they will be enrolled in a free trial for the paid version of the course. After 14 days, they will automatically be charged unless they cancel first.\n",
    "- If the student clicks \"access course materials\", they will be able to view the videos and take the quizzes for free, but they will not receive coaching support or a verified certificate, and they will not submit their final project for feedback.\n",
    "\n",
    "**Description of Experimented Change**\n",
    "\n",
    "- In the experiment, Udacity tested a change where if the student clicked \"start free trial\", they were asked how much time they had available to devote to the course.\n",
    "- If the student indicated 5 or more hours per week, they would be taken through the checkout process as usual. If they indicated fewer than 5 hours per week, a message would appear indicating that Udacity courses usually require a greater time commitment for successful completion, and suggesting that the student might like to access the course materials for free.\n",
    "- At this point, the student would have the option to continue enrolling in the free trial, or access the course materials for free instead. This [screenshot](images/udacity_checkyoureready.png) shows what the experiment looks like.\n",
    "\n",
    "**Udacity's Hope is that...**:\n",
    "\n",
    "> this might set clearer expectations for students upfront, thus reducing the number of frustrated students who left the free trial because they didn't have enough time -- without significantly reducing the number of students to continue past the free trial and eventually complete the course. If this hypothesis held true, Udacity could improve the overall student experience and improve coaches' capacity to support students who are likely to complete the course.\n"
   ]
  },
  {
   "cell_type": "markdown",
   "metadata": {},
   "source": [
    "\n",
    "## Gradescope Autograding\n",
    "\n",
    "Please follow [all standard guidance](https://www.practicaldatascience.org/html/autograder_guidelines.html) for submitting this assignment to the Gradescope autograder, including storing your solutions in a dictionary called `results` and ensuring your notebook runs from the start to completion without any errors.\n",
    "\n",
    "For this assignment, please name your file `exercise_abtesting.ipynb` before uploading.\n",
    "\n",
    "You can check that you have answers for all questions in your `results` dictionary with this code:\n",
    "\n",
    "```python\n",
    "assert set(results.keys()) == {\n",
    "    \"ex4_avg_oec\",\n",
    "    \"ex5_avg_guardrail\",\n",
    "    \"ex7_ttest_pvalue\",\n",
    "    \"ex9_ttest_pvalue_clicks\",\n",
    "    \"ex10_num_obs\",\n",
    "    \"ex11_guard_ate\",\n",
    "    \"ex11_guard_pvalue\",\n",
    "    \"ex11_oec_ate\",\n",
    "    \"ex11_oec_pvalue\",\n",
    "    \"ex14_se_treatment\",\n",
    "}\n",
    "```\n",
    "\n",
    "\n",
    "### Submission Limits\n",
    "\n",
    "Please remember that you are **only allowed FOUR submissions to the autograder.** Your last submission (if you submit 4 or fewer times), or your third submission (if you submit more than 4 times) will determine your grade Submissions that error out will **not** count against this total.\n",
    "\n",
    "That's one more than usual in case there are issues with exercise clarity."
   ]
  },
  {
   "cell_type": "markdown",
   "metadata": {},
   "source": [
    "## Import the Data"
   ]
  },
  {
   "cell_type": "markdown",
   "metadata": {},
   "source": [
    "### Exercise 1\n",
    "\n",
    "Begin by importing Udacity's data on user behavior [here.](https://github.com/nickeubank/MIDS_Data/tree/master/udacity_AB_testing) \n",
    "\n",
    "There are TWO datasets for this test — one for the control data (users who saw the original design), and one for treatment data (users who saw the experimental design). Udacity decided to show their test site to 1/2 of visitors, so there are roughly the same number of users appearing in each dataset (though this is not a requirement of AB tests).\n",
    "\n",
    "Please remember to load the data directly from github to assist the autograder."
   ]
  },
  {
   "cell_type": "code",
   "execution_count": 1,
   "metadata": {},
   "outputs": [],
   "source": [
    "import pandas as pd\n",
    "import warnings\n",
    "from scipy.stats import ttest_ind\n",
    "import statsmodels.formula.api as smf\n",
    "\n",
    "warnings.simplefilter(action=\"ignore\", category=FutureWarning)\n",
    "pd.set_option(\"mode.copy_on_write\", True)\n",
    "\n",
    "results = dict()"
   ]
  },
  {
   "cell_type": "code",
   "execution_count": 2,
   "metadata": {},
   "outputs": [],
   "source": [
    "control = pd.read_csv(\n",
    "    \"https://github.com/nickeubank/MIDS_Data/raw/master/udacity_AB_testing/control_data.csv\"\n",
    ")\n",
    "exp = pd.read_csv(\n",
    "    \"https://github.com/nickeubank/MIDS_Data/raw/master/udacity_AB_testing/experiment_data.csv\"\n",
    ")"
   ]
  },
  {
   "cell_type": "markdown",
   "metadata": {},
   "source": [
    "### Exercise 2\n",
    "\n",
    "Explore the data. Can you identify the unit of observation of the data (e.g. what is represented by each row)?\n",
    "\n",
    "(Note this is not the only way that A/B test data can be collected and/or reported — this is just what Udacity provided, presumably to help address privacy concerns.)"
   ]
  },
  {
   "cell_type": "code",
   "execution_count": 3,
   "metadata": {},
   "outputs": [
    {
     "data": {
      "text/html": [
       "<div>\n",
       "<style scoped>\n",
       "    .dataframe tbody tr th:only-of-type {\n",
       "        vertical-align: middle;\n",
       "    }\n",
       "\n",
       "    .dataframe tbody tr th {\n",
       "        vertical-align: top;\n",
       "    }\n",
       "\n",
       "    .dataframe thead th {\n",
       "        text-align: right;\n",
       "    }\n",
       "</style>\n",
       "<table border=\"1\" class=\"dataframe\">\n",
       "  <thead>\n",
       "    <tr style=\"text-align: right;\">\n",
       "      <th></th>\n",
       "      <th>Pageviews</th>\n",
       "      <th>Clicks</th>\n",
       "      <th>Enrollments</th>\n",
       "      <th>Payments</th>\n",
       "    </tr>\n",
       "  </thead>\n",
       "  <tbody>\n",
       "    <tr>\n",
       "      <th>count</th>\n",
       "      <td>37.000000</td>\n",
       "      <td>37.000000</td>\n",
       "      <td>23.000000</td>\n",
       "      <td>23.000000</td>\n",
       "    </tr>\n",
       "    <tr>\n",
       "      <th>mean</th>\n",
       "      <td>9315.135135</td>\n",
       "      <td>765.540541</td>\n",
       "      <td>148.826087</td>\n",
       "      <td>84.565217</td>\n",
       "    </tr>\n",
       "    <tr>\n",
       "      <th>std</th>\n",
       "      <td>708.070781</td>\n",
       "      <td>64.578374</td>\n",
       "      <td>33.234227</td>\n",
       "      <td>23.060841</td>\n",
       "    </tr>\n",
       "    <tr>\n",
       "      <th>min</th>\n",
       "      <td>7664.000000</td>\n",
       "      <td>642.000000</td>\n",
       "      <td>94.000000</td>\n",
       "      <td>34.000000</td>\n",
       "    </tr>\n",
       "    <tr>\n",
       "      <th>25%</th>\n",
       "      <td>8881.000000</td>\n",
       "      <td>722.000000</td>\n",
       "      <td>127.000000</td>\n",
       "      <td>69.000000</td>\n",
       "    </tr>\n",
       "    <tr>\n",
       "      <th>50%</th>\n",
       "      <td>9359.000000</td>\n",
       "      <td>770.000000</td>\n",
       "      <td>142.000000</td>\n",
       "      <td>91.000000</td>\n",
       "    </tr>\n",
       "    <tr>\n",
       "      <th>75%</th>\n",
       "      <td>9737.000000</td>\n",
       "      <td>827.000000</td>\n",
       "      <td>172.000000</td>\n",
       "      <td>99.000000</td>\n",
       "    </tr>\n",
       "    <tr>\n",
       "      <th>max</th>\n",
       "      <td>10551.000000</td>\n",
       "      <td>884.000000</td>\n",
       "      <td>213.000000</td>\n",
       "      <td>123.000000</td>\n",
       "    </tr>\n",
       "  </tbody>\n",
       "</table>\n",
       "</div>"
      ],
      "text/plain": [
       "          Pageviews      Clicks  Enrollments    Payments\n",
       "count     37.000000   37.000000    23.000000   23.000000\n",
       "mean    9315.135135  765.540541   148.826087   84.565217\n",
       "std      708.070781   64.578374    33.234227   23.060841\n",
       "min     7664.000000  642.000000    94.000000   34.000000\n",
       "25%     8881.000000  722.000000   127.000000   69.000000\n",
       "50%     9359.000000  770.000000   142.000000   91.000000\n",
       "75%     9737.000000  827.000000   172.000000   99.000000\n",
       "max    10551.000000  884.000000   213.000000  123.000000"
      ]
     },
     "execution_count": 3,
     "metadata": {},
     "output_type": "execute_result"
    }
   ],
   "source": [
    "exp.describe()"
   ]
  },
  {
   "cell_type": "code",
   "execution_count": 4,
   "metadata": {},
   "outputs": [
    {
     "name": "stdout",
     "output_type": "stream",
     "text": [
      "<class 'pandas.core.frame.DataFrame'>\n",
      "RangeIndex: 37 entries, 0 to 36\n",
      "Data columns (total 5 columns):\n",
      " #   Column       Non-Null Count  Dtype  \n",
      "---  ------       --------------  -----  \n",
      " 0   Date         37 non-null     object \n",
      " 1   Pageviews    37 non-null     int64  \n",
      " 2   Clicks       37 non-null     int64  \n",
      " 3   Enrollments  23 non-null     float64\n",
      " 4   Payments     23 non-null     float64\n",
      "dtypes: float64(2), int64(2), object(1)\n",
      "memory usage: 1.6+ KB\n"
     ]
    }
   ],
   "source": [
    "exp.info()"
   ]
  },
  {
   "cell_type": "code",
   "execution_count": 5,
   "metadata": {},
   "outputs": [
    {
     "data": {
      "text/html": [
       "<div>\n",
       "<style scoped>\n",
       "    .dataframe tbody tr th:only-of-type {\n",
       "        vertical-align: middle;\n",
       "    }\n",
       "\n",
       "    .dataframe tbody tr th {\n",
       "        vertical-align: top;\n",
       "    }\n",
       "\n",
       "    .dataframe thead th {\n",
       "        text-align: right;\n",
       "    }\n",
       "</style>\n",
       "<table border=\"1\" class=\"dataframe\">\n",
       "  <thead>\n",
       "    <tr style=\"text-align: right;\">\n",
       "      <th></th>\n",
       "      <th>Pageviews</th>\n",
       "      <th>Clicks</th>\n",
       "      <th>Enrollments</th>\n",
       "      <th>Payments</th>\n",
       "    </tr>\n",
       "  </thead>\n",
       "  <tbody>\n",
       "    <tr>\n",
       "      <th>count</th>\n",
       "      <td>37.000000</td>\n",
       "      <td>37.000000</td>\n",
       "      <td>23.000000</td>\n",
       "      <td>23.000000</td>\n",
       "    </tr>\n",
       "    <tr>\n",
       "      <th>mean</th>\n",
       "      <td>9339.000000</td>\n",
       "      <td>766.972973</td>\n",
       "      <td>164.565217</td>\n",
       "      <td>88.391304</td>\n",
       "    </tr>\n",
       "    <tr>\n",
       "      <th>std</th>\n",
       "      <td>740.239563</td>\n",
       "      <td>68.286767</td>\n",
       "      <td>29.977000</td>\n",
       "      <td>20.650202</td>\n",
       "    </tr>\n",
       "    <tr>\n",
       "      <th>min</th>\n",
       "      <td>7434.000000</td>\n",
       "      <td>632.000000</td>\n",
       "      <td>110.000000</td>\n",
       "      <td>56.000000</td>\n",
       "    </tr>\n",
       "    <tr>\n",
       "      <th>25%</th>\n",
       "      <td>8896.000000</td>\n",
       "      <td>708.000000</td>\n",
       "      <td>146.500000</td>\n",
       "      <td>70.000000</td>\n",
       "    </tr>\n",
       "    <tr>\n",
       "      <th>50%</th>\n",
       "      <td>9420.000000</td>\n",
       "      <td>759.000000</td>\n",
       "      <td>162.000000</td>\n",
       "      <td>91.000000</td>\n",
       "    </tr>\n",
       "    <tr>\n",
       "      <th>75%</th>\n",
       "      <td>9871.000000</td>\n",
       "      <td>825.000000</td>\n",
       "      <td>175.000000</td>\n",
       "      <td>102.500000</td>\n",
       "    </tr>\n",
       "    <tr>\n",
       "      <th>max</th>\n",
       "      <td>10667.000000</td>\n",
       "      <td>909.000000</td>\n",
       "      <td>233.000000</td>\n",
       "      <td>128.000000</td>\n",
       "    </tr>\n",
       "  </tbody>\n",
       "</table>\n",
       "</div>"
      ],
      "text/plain": [
       "          Pageviews      Clicks  Enrollments    Payments\n",
       "count     37.000000   37.000000    23.000000   23.000000\n",
       "mean    9339.000000  766.972973   164.565217   88.391304\n",
       "std      740.239563   68.286767    29.977000   20.650202\n",
       "min     7434.000000  632.000000   110.000000   56.000000\n",
       "25%     8896.000000  708.000000   146.500000   70.000000\n",
       "50%     9420.000000  759.000000   162.000000   91.000000\n",
       "75%     9871.000000  825.000000   175.000000  102.500000\n",
       "max    10667.000000  909.000000   233.000000  128.000000"
      ]
     },
     "execution_count": 5,
     "metadata": {},
     "output_type": "execute_result"
    }
   ],
   "source": [
    "control.describe()"
   ]
  },
  {
   "cell_type": "code",
   "execution_count": 6,
   "metadata": {},
   "outputs": [
    {
     "name": "stdout",
     "output_type": "stream",
     "text": [
      "<class 'pandas.core.frame.DataFrame'>\n",
      "RangeIndex: 37 entries, 0 to 36\n",
      "Data columns (total 5 columns):\n",
      " #   Column       Non-Null Count  Dtype  \n",
      "---  ------       --------------  -----  \n",
      " 0   Date         37 non-null     object \n",
      " 1   Pageviews    37 non-null     int64  \n",
      " 2   Clicks       37 non-null     int64  \n",
      " 3   Enrollments  23 non-null     float64\n",
      " 4   Payments     23 non-null     float64\n",
      "dtypes: float64(2), int64(2), object(1)\n",
      "memory usage: 1.6+ KB\n"
     ]
    }
   ],
   "source": [
    "control.info()"
   ]
  },
  {
   "cell_type": "markdown",
   "metadata": {},
   "source": [
    "> The unit of observation is the date and the overall user's behavior on that date regarding: pageviews, clicks, enrollments and payments. "
   ]
  },
  {
   "attachments": {},
   "cell_type": "markdown",
   "metadata": {},
   "source": [
    "## Pick your measures"
   ]
  },
  {
   "cell_type": "markdown",
   "metadata": {},
   "source": [
    "### Exercise 3\n",
    "\n",
    "The easiest way to analyze this data is to stack it into a single dataset where each observation is a day-treatment-arm (so you should end up with two rows per day, one for those who are in the treated groups, and one for those who were in the control group). Note that currently nothing in the data identifies whether a given observation is a treatment group observation or a control group observation, so you'll want to make sure to add a \"treatment\" indicator variable.\n",
    "\n",
    "The variables in the data are:\n",
    "\n",
    "- Pageviews: number of unique users visiting homepage\n",
    "- Clicks: number of those users clicking \"Start Free Trial\"\n",
    "- Enrollments: Number of people enrolling in trial\n",
    "- Payments: Number of people who eventually pay for the service. Note the `payment` column reports payments for the users who first visited the site on the reported date, not payments occurring on the reported date."
   ]
  },
  {
   "cell_type": "code",
   "execution_count": 7,
   "metadata": {},
   "outputs": [],
   "source": [
    "control[\"type\"] = \"control\"\n",
    "exp[\"type\"] = \"experiment\"\n",
    "\n",
    "db = pd.concat([control, exp]).sort_values(\"Date\")"
   ]
  },
  {
   "attachments": {},
   "cell_type": "markdown",
   "metadata": {},
   "source": [
    "### Exercise 4\n",
    "\n",
    "Given Udacity's goals, what outcome are they hoping will be impacted by their manipulation?\n",
    "\n",
    "Or, to ask the same question in the language of the Potential Outcomes Framework, what is their $Y$?\n",
    "\n",
    "Or to ask the same question in the language of Kohavi, Tang and Xu, what is their *Overall Evaluation Criterion (OEC)*?\n",
    "\n",
    "(I'm only asking one question, I'm just trying to phrase it using different terminologies we've encountered to help you see how they all fit together)\n",
    "\n",
    "When you feel like you have your answer, please compute it. Store the average value of the variable in `results` under the key `ex4_avg_oec`. **Please round your answer to 4 decimal places.**\n",
    "\n",
    "NOTE: You'll probably notice you have two choices to make when it comes to actually computing the OEC. \n",
    "\n",
    "- You could probably imagine either computing a ratio or a difference of two things — please calculate the difference.\n",
    "- You may also be unsure whether to normalize by `Clicks`. Normalizing by clicks will help account for variation that comes from day-to-day variation in users, so it's a good thing to do. With infinite data, you'd expect to get the same results without normalizing by `Clicks` (since on average the same share of users are in each arm of the experiment), but for finite data it's a good strategy. Note that this is only ok because users make the choice to click or not *before* they see different versions of the website (it is \"pre-treatment\").\n",
    "\n",
    "Just to make sure you're on track, your measure should have an average value of *about* 9%."
   ]
  },
  {
   "cell_type": "markdown",
   "metadata": {},
   "source": [
    "> The outcome Udacity hopes to be impacted by the manipulation is the daily churn ratio, meaning: the number of users who enroll in the free trial but who do not pay for the service, normalized by clicks. By advising the user on opting for accessing the materials for free when their time is limited, they hope to impact the users' behavior of when free-trial is followed by a payment. \n"
   ]
  },
  {
   "cell_type": "code",
   "execution_count": 8,
   "metadata": {},
   "outputs": [
    {
     "name": "stdout",
     "output_type": "stream",
     "text": [
      "The Overall Evaluation Criterion normalized by clicks (users who opt for free trial but do not pay), is 0.0941\n"
     ]
    }
   ],
   "source": [
    "db[\"oec_ratio\"] = (db[\"Enrollments\"] - db[\"Payments\"]) / db[\"Clicks\"]\n",
    "ex4_avg_oec = db[\"oec_ratio\"].mean()\n",
    "\n",
    "print(\n",
    "    f\"The Overall Evaluation Criterion normalized by clicks (users who opt for free trial but do not pay), is {ex4_avg_oec:.4f}\"\n",
    ")\n",
    "\n",
    "results[\"ex4_avg_oec\"] = round(ex4_avg_oec, 4)"
   ]
  },
  {
   "attachments": {},
   "cell_type": "markdown",
   "metadata": {},
   "source": [
    "### Exercise 5\n",
    "\n",
    "Given Udacity's goals, what outcome are they hoping will *not* be impacted by their manipulation? In other words, what do they want to measure to ensure their treatment doesn't have unintended negative consequences that might be really costly to their operation?\n",
    "\n",
    "Note that while this isn't how Kohavi, Tang, and Xu use the term \"guardrail metrics\" — they usually use the term to refer to things we measure to ensure the experiment is working the way it should — some people would also use the term \"guardrail metrics\" for something that could be impacted even if the experiment is working correctly, but which the organization wants to track to ensure they aren't impacted because they are deemed really important.\n",
    "\n",
    "Again, please normalize by `Clicks`. Store the average value of this guardrail metric as `ex5_avg_guardrail` and **round your answer to 4 decimal places.**"
   ]
  },
  {
   "cell_type": "markdown",
   "metadata": {},
   "source": [
    "> Udacity hopes to run the experiment \"without significantly reducing the number of students to continue past the free trial and eventually complete the course\". To measure this, Udacity has the metrics of people who completed payment. "
   ]
  },
  {
   "cell_type": "code",
   "execution_count": 9,
   "metadata": {},
   "outputs": [
    {
     "name": "stdout",
     "output_type": "stream",
     "text": [
      "The average guardrail metric,(ratio of payments to clicks), is 0.1158\n"
     ]
    }
   ],
   "source": [
    "db[\"guardrail_metrics\"] = db[\"Payments\"] / db[\"Clicks\"]\n",
    "ex5 = db[\"guardrail_metrics\"].mean()\n",
    "results[\"ex5_avg_guardrail\"] = round(ex5, 4)\n",
    "print(f\"The average guardrail metric,(ratio of payments to clicks), is {round(ex5,4)}\")"
   ]
  },
  {
   "cell_type": "markdown",
   "metadata": {},
   "source": [
    "## Validating The Data"
   ]
  },
  {
   "attachments": {},
   "cell_type": "markdown",
   "metadata": {},
   "source": [
    "### Exercise 6\n",
    "\n",
    "Whenever you are working with experimental data, the first thing you want to do is verify that users actually were randomly sorted into the two arms of the experiment. In this data, half of users were supposed to be shown the old version of the site and half were supposed to see the new version.\n",
    "\n",
    "`Pageviews` tells you how many unique users visited the welcome site we are experimenting on. `Pageviews` is what is sometimes called an \"invariant\" or \"guardrail\" variable, meaning that it shouldn't vary across treatment arms—after all, people have to visit the site before they get a chance to see the treatment, so there's no way that being assigned to treatment or control should affect the number of pageviews assigned to each group.\n",
    "\n",
    "\"Invariant\" variables are also an example of what are known as a \"pre-treatment\" variable, because pageviews are determined before users are manipulated in any way. That makes it analogous to gender or age in experiments where you have demographic data—a person's age and gender are determined before they experience any manipulations, so the value of any pre-treatment attributes should be the same across the two arms of our experiment. This is what we've previously called \"checking for balance,\" If pre-treatment attributes aren't balanced, then we may worry our attempt to randomly assign people to different groups failed.  Kohavi, Tang and Xu call this a \"trust-based guardrail metric\" because it helps us determine if we should trust our data.\n",
    "\n",
    "To test the quality of the randomization, calculate the average number of pageviews for the treated group and for the control group. Do they look similar?\n"
   ]
  },
  {
   "cell_type": "code",
   "execution_count": 10,
   "metadata": {},
   "outputs": [
    {
     "data": {
      "text/plain": [
       "type\n",
       "control       9339.000000\n",
       "experiment    9315.135135\n",
       "Name: Pageviews, dtype: float64"
      ]
     },
     "execution_count": 10,
     "metadata": {},
     "output_type": "execute_result"
    }
   ],
   "source": [
    "av_pageviews = db.groupby(\"type\")[\"Pageviews\"].mean()\n",
    "av_pageviews"
   ]
  },
  {
   "cell_type": "markdown",
   "metadata": {},
   "source": [
    "The averge number of pageviews for the control group is 9339 and for the treatment group 9315.13, which are very similar. "
   ]
  },
  {
   "attachments": {},
   "cell_type": "markdown",
   "metadata": {},
   "source": [
    "### Exercise 7\n",
    "\n",
    "\"Similar\" is a tricky concept -- obviously, we expect *some* differences across groups since users were *randomly* divided across treatment arms. The question is whether the differences between groups are larger than we'd expect to emerge given our random assignment process. To evaluate this, let's use a `ttest` to test the statistical significance of the differences we see. \n",
    "\n",
    "**Note**: Remember that scipy functions don't accept `pandas` objects, so you use a scipy function, you have to pass the numpy vectors underlying your data with the `.values` operator (e.g. `df.my_column.values`). \n",
    "\n",
    "Does the difference in `pageviews` look statistically significant?\n",
    "\n",
    "Store the resulting p-value in `ex7_ttest_pvalue` **rounded to four decimal places.**"
   ]
  },
  {
   "cell_type": "code",
   "execution_count": 11,
   "metadata": {},
   "outputs": [
    {
     "name": "stdout",
     "output_type": "stream",
     "text": [
      "The p-value from the t-test (difference in pageviews between the control and experiment) is: 0.8877\n"
     ]
    }
   ],
   "source": [
    "# t_statistic, p_value = ttest_ind(control_pageviews.values, experiment_pageviews.values)\n",
    "control_pg_view = db[db[\"type\"] == \"control\"][\"Pageviews\"]\n",
    "exp_pg_view = db[db[\"type\"] == \"experiment\"][\"Pageviews\"]\n",
    "t_statistic, p_value = ttest_ind(control_pg_view.values, exp_pg_view.values)\n",
    "\n",
    "p_value\n",
    "\n",
    "print(\n",
    "    f\"The p-value from the t-test (difference in pageviews between the control and experiment) is: {p_value:.4f}\"\n",
    ")\n",
    "results[\"ex7_ttest_pvalue\"] = round(p_value, 4)"
   ]
  },
  {
   "cell_type": "markdown",
   "metadata": {},
   "source": [
    "> The value of the p-value from the t-test does not let us reject the null hypothesis of the control and experiment having no difference. Hence, the difference in pageviews is not statistically significant."
   ]
  },
  {
   "attachments": {},
   "cell_type": "markdown",
   "metadata": {},
   "source": [
    "### Exercise 8\n",
    "\n",
    "`Pageviews` is not the only \"pre-treatment\" variable in this data we can use to evaluate balance/use as a guardrail metric. What other measure is pre-treatment? Review the description of the experiment if you're not sure."
   ]
  },
  {
   "cell_type": "markdown",
   "metadata": {},
   "source": [
    "> As the number of clicks measures the number of those users clicking \"Start Free Trial\", and the experiment is designed to question the users' time availability after clicking this item, we can use this variable as a pre-treatment variable. "
   ]
  },
  {
   "attachments": {},
   "cell_type": "markdown",
   "metadata": {},
   "source": [
    "### Exercise 9\n",
    "\n",
    "Check if the other pre-treatment variable is also balanced. Store the p-value of your test of difference in `results` under the key `\"ex9_ttest_pvalue_clicks\"` **rounded to four decimal places.**"
   ]
  },
  {
   "cell_type": "code",
   "execution_count": 12,
   "metadata": {},
   "outputs": [
    {
     "data": {
      "text/plain": [
       "type\n",
       "control       766.972973\n",
       "experiment    765.540541\n",
       "Name: Clicks, dtype: float64"
      ]
     },
     "execution_count": 12,
     "metadata": {},
     "output_type": "execute_result"
    }
   ],
   "source": [
    "av_Clicks = db.groupby(\"type\")[\"Clicks\"].mean()\n",
    "av_Clicks"
   ]
  },
  {
   "cell_type": "code",
   "execution_count": 13,
   "metadata": {},
   "outputs": [
    {
     "name": "stdout",
     "output_type": "stream",
     "text": [
      "The p-value from the t-test (difference in clicks between the control and experiment) is: 0.9264\n"
     ]
    }
   ],
   "source": [
    "control_click = db[db[\"type\"] == \"control\"][\"Clicks\"]\n",
    "exp_click = db[db[\"type\"] == \"experiment\"][\"Clicks\"]\n",
    "t_statistic, p_value2 = ttest_ind(control_click.values, exp_click.values)\n",
    "\n",
    "p_value2\n",
    "\n",
    "print(\n",
    "    f\"The p-value from the t-test (difference in clicks between the control and experiment) is: {p_value2:.4f}\"\n",
    ")\n",
    "\n",
    "results[\"ex9_ttest_pvalue_clicks\"] = round(p_value2, 4)"
   ]
  },
  {
   "cell_type": "markdown",
   "metadata": {},
   "source": [
    "> The clicks variable is balanced as the difference in means is not significant per the p-value. "
   ]
  },
  {
   "attachments": {},
   "cell_type": "markdown",
   "metadata": {},
   "source": [
    "## Estimating the Effect of Experiment\n",
    "\n",
    "### Exercise 10\n",
    "\n",
    "Now that we've validated our randomization, our next task is to estimate our treatment effect. First, though, there's an issue with your data you've been able to largely ignore until now, but which you should get a grip on before estimating your treatment effect — can you tell what it is and what you should do about it?\n",
    "\n",
    "Store the number of observations in your data *after* you've addressed this in `ex10_num_obs` (this is mostly meant as a way to sanity check your answer with autograder)."
   ]
  },
  {
   "cell_type": "markdown",
   "metadata": {},
   "source": [
    "> There is a high number of missing values from the enrollment and payment variables. "
   ]
  },
  {
   "cell_type": "code",
   "execution_count": 14,
   "metadata": {},
   "outputs": [
    {
     "name": "stdout",
     "output_type": "stream",
     "text": [
      "After dropping the missing data, the number of obervations is: 46\n"
     ]
    }
   ],
   "source": [
    "db.dropna(inplace=True)\n",
    "num_obs = db.shape[0]\n",
    "\n",
    "print(f\"After dropping the missing data, the number of obervations is: {num_obs}\")\n",
    "\n",
    "results[\"ex10_num_obs\"] = num_obs"
   ]
  },
  {
   "cell_type": "markdown",
   "metadata": {},
   "source": [
    "### Exercise 11\n",
    "Now that we’ve established we have good balance (meaning we think randomization was likely successful), we can evaluate the effects of the experiment. Test whether the OEC and the metric you don’t want affected have different average values in the control group and treatment group.\n",
    "\n",
    "Because we’ve randomized, this is a consistent estimate of the Average Treatment Effect of Udacity’s website change.\n",
    "\n",
    "Calculate the difference in means in your OEC and guardrail metrics using a simple t-test. Store the resulting effect estimates in ex11_oec_ate and ex11_guard_ate and p-values in ex11_oec_pvalue and ex11_guard_pvalue. Please round all answers to 4 decimal places. Report your ATE in percentage points, where 1 denotes 1 percentage point."
   ]
  },
  {
   "cell_type": "code",
   "execution_count": 15,
   "metadata": {},
   "outputs": [
    {
     "name": "stdout",
     "output_type": "stream",
     "text": [
      "The overall evaluation criterion ATE is 1.5888 percentage points, with a p-value of 0.1319 \n"
     ]
    }
   ],
   "source": [
    "oec_control = db[db[\"type\"] == \"control\"][\"oec_ratio\"]\n",
    "oec_exp = db[db[\"type\"] == \"experiment\"][\"oec_ratio\"]\n",
    "\n",
    "t_statistic3, p_value_oec = ttest_ind(oec_exp.values, oec_control.values)\n",
    "\n",
    "oec_ate = -(oec_exp.mean() - oec_control.mean()) * 100\n",
    "\n",
    "results[\"ex11_oec_ate\"] = round(oec_ate, 4)\n",
    "results[\"ex11_oec_pvalue\"] = round(p_value_oec, 4)\n",
    "\n",
    "print(\n",
    "    f\"The overall evaluation criterion ATE is {round(oec_ate, 4)} percentage points, with a p-value of {round(p_value_oec, 4)} \"\n",
    ")"
   ]
  },
  {
   "cell_type": "code",
   "execution_count": 16,
   "metadata": {},
   "outputs": [
    {
     "name": "stdout",
     "output_type": "stream",
     "text": [
      "The guardrail ATE is 0.4897 percentage points, with a p-value of 0.5928 \n"
     ]
    }
   ],
   "source": [
    "guard_control = db[db[\"type\"] == \"control\"][\"guardrail_metrics\"]\n",
    "guard_exp = db[db[\"type\"] == \"experiment\"][\"guardrail_metrics\"]\n",
    "\n",
    "t_statistic3, p_value_g = ttest_ind(guard_exp.values, guard_control.values)\n",
    "\n",
    "guard_ate = -(guard_exp.mean() - guard_control.mean()) * 100\n",
    "\n",
    "results[\"ex11_guard_ate\"] = round(guard_ate, 4)\n",
    "results[\"ex11_guard_pvalue\"] = round(p_value_g, 4)\n",
    "\n",
    "print(\n",
    "    f\"The guardrail ATE is {round(guard_ate, 4)} percentage points, with a p-value of {round(p_value_g, 4)} \"\n",
    ")"
   ]
  },
  {
   "cell_type": "markdown",
   "metadata": {},
   "source": [
    "### Exercise 12\n",
    "\n",
    "Do you feel that Udacity achieved their goal? Did their intervention cause them any problems? If they asked you \"What would happen if we rolled this out to everyone?\" what would you say?\n",
    "\n",
    "As you answer this question, a small additional question: up until this point you've (presumably) been reporting the default p-values from the tools you are using. These, as you may recall from stats 101, are two-tailed p-values. Do those seem appropriate for your OEC?"
   ]
  },
  {
   "cell_type": "markdown",
   "metadata": {},
   "source": [
    "> Udacity did not achieve its goal. Even when the guardrail metric was not affected (p-value was not significat), the churn rate did not have a significant difference either. The latter means that the intervention did not have an effect on users who opt for free trial but do not pay, reflecting in frustrated users. \n",
    "If we rolled this out for everyone we would expect similar results, as the sample was well designed and reflects what would happen in a real world turnout. \n",
    "\n",
    "\n",
    "\n",
    "\n",
    "\n"
   ]
  },
  {
   "attachments": {},
   "cell_type": "markdown",
   "metadata": {},
   "source": [
    "### Exercise 13\n",
    "\n",
    "One of the magic things about experiments is that all you have to do is compare averages to get an average treatment effect. However, you *can* do other things to try and increase the statistical power of your experiments, like add controls in a linear regression model. \n",
    "\n",
    "As you likely know, a bivariate regression is exactly equivalent to a t-test, so let's start by re-estimating the effect of treatment on your OEC using a linear regression. Can you replicate the results from your t-test? They shouldn't just be close—they should be numerically equivalent (i.e. exactly the same to the limits of floating point number precision). "
   ]
  },
  {
   "cell_type": "code",
   "execution_count": 17,
   "metadata": {},
   "outputs": [
    {
     "name": "stdout",
     "output_type": "stream",
     "text": [
      "                            OLS Regression Results                            \n",
      "==============================================================================\n",
      "Dep. Variable:              oec_ratio   R-squared:                       0.051\n",
      "Model:                            OLS   Adj. R-squared:                  0.029\n",
      "Method:                 Least Squares   F-statistic:                     2.356\n",
      "Date:                Mon, 18 Mar 2024   Prob (F-statistic):              0.132\n",
      "Time:                        16:56:32   Log-Likelihood:                 89.832\n",
      "No. Observations:                  46   AIC:                            -175.7\n",
      "Df Residuals:                      44   BIC:                            -172.0\n",
      "Df Model:                           1                                         \n",
      "Covariance Type:            nonrobust                                         \n",
      "======================================================================================\n",
      "                         coef    std err          t      P>|t|      [0.025      0.975]\n",
      "--------------------------------------------------------------------------------------\n",
      "Intercept              0.1021      0.007     13.948      0.000       0.087       0.117\n",
      "type[T.experiment]    -0.0159      0.010     -1.535      0.132      -0.037       0.005\n",
      "==============================================================================\n",
      "Omnibus:                       14.160   Durbin-Watson:                   1.481\n",
      "Prob(Omnibus):                  0.001   Jarque-Bera (JB):               15.205\n",
      "Skew:                           1.227   Prob(JB):                     0.000499\n",
      "Kurtosis:                       4.383   Cond. No.                         2.62\n",
      "==============================================================================\n",
      "\n",
      "Notes:\n",
      "[1] Standard Errors assume that the covariance matrix of the errors is correctly specified.\n"
     ]
    }
   ],
   "source": [
    "m1 = smf.ols(\"oec_ratio ~type \", data=db).fit()\n",
    "print(m1.summary())"
   ]
  },
  {
   "cell_type": "code",
   "execution_count": 18,
   "metadata": {},
   "outputs": [
    {
     "name": "stdout",
     "output_type": "stream",
     "text": [
      "T-test:\n",
      " The OEC ATE is 1.5887725039456542, with a p-value of 0.1319\n",
      "Regression:\n",
      " The OEC ATE is  -1.5887725039456562, with a p-value of 0.1319\n"
     ]
    }
   ],
   "source": [
    "print(f\"T-test:\\n The OEC ATE is {oec_ate}, with a p-value of {round(p_value_oec,4)}\")\n",
    "print(\n",
    "    f\"Regression:\\n The OEC ATE is  {m1.params['type[T.experiment]']*100}, with a p-value of {round(m1.pvalues['type[T.experiment]'],4)}\"\n",
    ")"
   ]
  },
  {
   "attachments": {},
   "cell_type": "markdown",
   "metadata": {},
   "source": [
    "### Exercise 14\n",
    "\n",
    "Now add indicator variables for the date of each observation. Do the standard errors on your `treatment` variable change? If so, in what direction?\n",
    "\n",
    "Store your new standard error in `ex14_se_treatment`. Round your answer to 4 decimal places."
   ]
  },
  {
   "cell_type": "code",
   "execution_count": 19,
   "metadata": {},
   "outputs": [
    {
     "name": "stdout",
     "output_type": "stream",
     "text": [
      "                            OLS Regression Results                            \n",
      "==============================================================================\n",
      "Dep. Variable:              oec_ratio   R-squared:                       0.806\n",
      "Model:                            OLS   Adj. R-squared:                  0.602\n",
      "Method:                 Least Squares   F-statistic:                     3.962\n",
      "Date:                Mon, 18 Mar 2024   Prob (F-statistic):           0.000978\n",
      "Time:                        16:56:32   Log-Likelihood:                 126.29\n",
      "No. Observations:                  46   AIC:                            -204.6\n",
      "Df Residuals:                      22   BIC:                            -160.7\n",
      "Df Model:                          23                                         \n",
      "Covariance Type:            nonrobust                                         \n",
      "==========================================================================================\n",
      "                             coef    std err          t      P>|t|      [0.025      0.975]\n",
      "------------------------------------------------------------------------------------------\n",
      "Intercept                  0.1079      0.016      6.651      0.000       0.074       0.142\n",
      "type[T.experiment]        -0.0159      0.007     -2.398      0.025      -0.030      -0.002\n",
      "C(Date)[T.Fri, Oct 24]     0.0445      0.022      1.983      0.060      -0.002       0.091\n",
      "C(Date)[T.Fri, Oct 31]    -0.0074      0.022     -0.331      0.744      -0.054       0.039\n",
      "C(Date)[T.Mon, Oct 13]    -0.0231      0.022     -1.026      0.316      -0.070       0.024\n",
      "C(Date)[T.Mon, Oct 20]    -0.0285      0.022     -1.270      0.217      -0.075       0.018\n",
      "C(Date)[T.Mon, Oct 27]     0.0328      0.022      1.458      0.159      -0.014       0.079\n",
      "C(Date)[T.Sat, Nov 1]     -0.0235      0.022     -1.047      0.306      -0.070       0.023\n",
      "C(Date)[T.Sat, Oct 11]    -0.0017      0.022     -0.074      0.941      -0.048       0.045\n",
      "C(Date)[T.Sat, Oct 18]    -0.0438      0.022     -1.950      0.064      -0.090       0.003\n",
      "C(Date)[T.Sat, Oct 25]    -0.0309      0.022     -1.375      0.183      -0.077       0.016\n",
      "C(Date)[T.Sun, Nov 2]      0.0549      0.022      2.441      0.023       0.008       0.101\n",
      "C(Date)[T.Sun, Oct 12]    -0.0347      0.022     -1.542      0.137      -0.081       0.012\n",
      "C(Date)[T.Sun, Oct 19]    -0.0178      0.022     -0.791      0.437      -0.064       0.029\n",
      "C(Date)[T.Sun, Oct 26]    -0.0222      0.022     -0.989      0.333      -0.069       0.024\n",
      "C(Date)[T.Thu, Oct 16]    -0.0228      0.022     -1.016      0.321      -0.069       0.024\n",
      "C(Date)[T.Thu, Oct 23]    -0.0046      0.022     -0.203      0.841      -0.051       0.042\n",
      "C(Date)[T.Thu, Oct 30]     0.0588      0.022      2.618      0.016       0.012       0.105\n",
      "C(Date)[T.Tue, Oct 14]    -0.0417      0.022     -1.855      0.077      -0.088       0.005\n",
      "C(Date)[T.Tue, Oct 21]    -0.0059      0.022     -0.260      0.797      -0.052       0.041\n",
      "C(Date)[T.Tue, Oct 28]    -0.0287      0.022     -1.276      0.215      -0.075       0.018\n",
      "C(Date)[T.Wed, Oct 15]    -0.0132      0.022     -0.588      0.562      -0.060       0.033\n",
      "C(Date)[T.Wed, Oct 22]    -0.0220      0.022     -0.980      0.338      -0.069       0.025\n",
      "C(Date)[T.Wed, Oct 29]     0.0466      0.022      2.076      0.050    4.77e-05       0.093\n",
      "==============================================================================\n",
      "Omnibus:                        3.871   Durbin-Watson:                   2.907\n",
      "Prob(Omnibus):                  0.144   Jarque-Bera (JB):                3.826\n",
      "Skew:                           0.000   Prob(JB):                        0.148\n",
      "Kurtosis:                       4.413   Cond. No.                         27.3\n",
      "==============================================================================\n",
      "\n",
      "Notes:\n",
      "[1] Standard Errors assume that the covariance matrix of the errors is correctly specified.\n"
     ]
    }
   ],
   "source": [
    "m2 = smf.ols(\"oec_ratio ~type+C(Date) \", data=db).fit()\n",
    "print(m2.summary())"
   ]
  },
  {
   "attachments": {},
   "cell_type": "markdown",
   "metadata": {},
   "source": [
    "You should have found that your standard errors decreased by about 30\\%—this is why, although just comparing means *works*, if you have additional variables adding them to your analysis can be helpful (all the usual rules for model specification apply — for example, you still want to be careful about overfitting, which one could argue is maybe part of what's happening here). \n",
    "\n",
    "In many other cases, the effect of adding controls is likely to be larger — the date indicators we added to our data are perfectly balanced between treatment and control, so we aren't adding a lot of data to the model by adding them as variables. They're accounting for some day-to-day variation (presumably in the types of people coming to the site), but they aren't controlling for any residual baseline differences the way a control like \"gender\" or \"age\" might (since those kind of individual-level attributes will never be perfectly balanced across treatment and control). "
   ]
  },
  {
   "attachments": {},
   "cell_type": "markdown",
   "metadata": {},
   "source": [
    "### Exercise 15\n",
    "\n",
    "Does this result have any impact on the recommendations you would offer Udacity?"
   ]
  },
  {
   "cell_type": "code",
   "execution_count": 20,
   "metadata": {},
   "outputs": [
    {
     "data": {
      "text/plain": [
       "{'ex4_avg_oec': 0.0941,\n",
       " 'ex5_avg_guardrail': 0.1158,\n",
       " 'ex7_ttest_pvalue': 0.8877,\n",
       " 'ex9_ttest_pvalue_clicks': 0.9264,\n",
       " 'ex10_num_obs': 46,\n",
       " 'ex11_oec_ate': 1.5888,\n",
       " 'ex11_oec_pvalue': 0.1319,\n",
       " 'ex11_guard_ate': 0.4897,\n",
       " 'ex11_guard_pvalue': 0.5928}"
      ]
     },
     "execution_count": 20,
     "metadata": {},
     "output_type": "execute_result"
    }
   ],
   "source": [
    "results"
   ]
  }
 ],
 "metadata": {
  "kernelspec": {
   "display_name": "Python 3",
   "language": "python",
   "name": "python3"
  },
  "language_info": {
   "codemirror_mode": {
    "name": "ipython",
    "version": 3
   },
   "file_extension": ".py",
   "mimetype": "text/x-python",
   "name": "python",
   "nbconvert_exporter": "python",
   "pygments_lexer": "ipython3",
   "version": "3.11.5"
  }
 },
 "nbformat": 4,
 "nbformat_minor": 4
}
